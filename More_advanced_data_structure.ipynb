{
  "nbformat": 4,
  "nbformat_minor": 0,
  "metadata": {
    "colab": {
      "name": "More advanced data structure.ipynb",
      "provenance": [],
      "authorship_tag": "ABX9TyNBWGPewiLMDU8Z+xG6dV+3",
      "include_colab_link": true
    },
    "kernelspec": {
      "name": "python3",
      "display_name": "Python 3"
    }
  },
  "cells": [
    {
      "cell_type": "markdown",
      "metadata": {
        "id": "view-in-github",
        "colab_type": "text"
      },
      "source": [
        "<a href=\"https://colab.research.google.com/github/bebeam2942/data_viz/blob/main/More_advanced_data_structure.ipynb\" target=\"_parent\"><img src=\"https://colab.research.google.com/assets/colab-badge.svg\" alt=\"Open In Colab\"/></a>"
      ]
    },
    {
      "cell_type": "markdown",
      "metadata": {
        "id": "vaKQ0elgncmy"
      },
      "source": [
        "# Dictionary \r\n",
        "สามารถ index ด้วยอะไรก็ได้ แต่ลำดับจะหายไป"
      ]
    },
    {
      "cell_type": "code",
      "metadata": {
        "id": "--zb5mpQlyvl"
      },
      "source": [
        "ex_dict = { 'a' :10, '1':1, 'stat' :5 }  #culry brackets ในการบอกว่าเป็น dict"
      ],
      "execution_count": null,
      "outputs": []
    },
    {
      "cell_type": "code",
      "metadata": {
        "colab": {
          "base_uri": "https://localhost:8080/"
        },
        "id": "fCFdCDhSpJ_u",
        "outputId": "018c0abf-cc50-4d5f-850d-fec64a62e4f7"
      },
      "source": [
        "ex_dict['stat']   #อยากให้ชี้เป็นตัวไหนก็เขียนตัวที่กำกับได้เลย"
      ],
      "execution_count": null,
      "outputs": [
        {
          "output_type": "execute_result",
          "data": {
            "text/plain": [
              "5"
            ]
          },
          "metadata": {
            "tags": []
          },
          "execution_count": 4
        }
      ]
    },
    {
      "cell_type": "code",
      "metadata": {
        "id": "NpLjQ4nzpPWx"
      },
      "source": [
        "ex2_dict = {1:'one', 2:'two'} #ส่วนหน้าเป็น index ส่วนหลังเป็น value ชี้ได้เฉพาะส่วนหน้า"
      ],
      "execution_count": null,
      "outputs": []
    },
    {
      "cell_type": "code",
      "metadata": {
        "colab": {
          "base_uri": "https://localhost:8080/",
          "height": 35
        },
        "id": "vYiustx-pyYA",
        "outputId": "52748767-178f-4c02-ce43-3cbb872cdbf0"
      },
      "source": [
        "ex2_dict[2]"
      ],
      "execution_count": null,
      "outputs": [
        {
          "output_type": "execute_result",
          "data": {
            "application/vnd.google.colaboratory.intrinsic+json": {
              "type": "string"
            },
            "text/plain": [
              "'two'"
            ]
          },
          "metadata": {
            "tags": []
          },
          "execution_count": 28
        }
      ]
    },
    {
      "cell_type": "markdown",
      "metadata": {
        "id": "FRjeK8lsqX_s"
      },
      "source": [
        "###การเพิ่มสมาชิก"
      ]
    },
    {
      "cell_type": "code",
      "metadata": {
        "id": "u8EAUrldp3vY"
      },
      "source": [
        "ex2_dict[4] = 'four'"
      ],
      "execution_count": null,
      "outputs": []
    },
    {
      "cell_type": "code",
      "metadata": {
        "colab": {
          "base_uri": "https://localhost:8080/"
        },
        "id": "pxuBbY6vq3vh",
        "outputId": "498f1f03-24ef-4d4a-ab9c-aaa811054875"
      },
      "source": [
        "ex2_dict"
      ],
      "execution_count": null,
      "outputs": [
        {
          "output_type": "execute_result",
          "data": {
            "text/plain": [
              "{1: 'one', 2: 'two', 4: 'four'}"
            ]
          },
          "metadata": {
            "tags": []
          },
          "execution_count": 30
        }
      ]
    },
    {
      "cell_type": "markdown",
      "metadata": {
        "id": "lzdTES46rAxO"
      },
      "source": [
        "### คำสั่ง"
      ]
    },
    {
      "cell_type": "code",
      "metadata": {
        "colab": {
          "base_uri": "https://localhost:8080/"
        },
        "id": "e9t3Uvosq9Yd",
        "outputId": "b63f687d-75df-4bdc-b0a0-6e711d1c4b9a"
      },
      "source": [
        "ex2_dict.keys()"
      ],
      "execution_count": null,
      "outputs": [
        {
          "output_type": "execute_result",
          "data": {
            "text/plain": [
              "dict_keys([1, 2, 4])"
            ]
          },
          "metadata": {
            "tags": []
          },
          "execution_count": 31
        }
      ]
    },
    {
      "cell_type": "code",
      "metadata": {
        "colab": {
          "base_uri": "https://localhost:8080/"
        },
        "id": "BkTFdWOXrJMB",
        "outputId": "1cb46ed3-7742-4ffd-e5d1-4d232ba70955"
      },
      "source": [
        "for index in ex2_dict.keys():\r\n",
        "      print(index)"
      ],
      "execution_count": null,
      "outputs": [
        {
          "output_type": "stream",
          "text": [
            "1\n",
            "2\n",
            "4\n"
          ],
          "name": "stdout"
        }
      ]
    },
    {
      "cell_type": "code",
      "metadata": {
        "colab": {
          "base_uri": "https://localhost:8080/"
        },
        "id": "5q_iCM05sAxT",
        "outputId": "8fed263e-dd50-407c-8701-179bda80b2db"
      },
      "source": [
        "ex2_dict.values()"
      ],
      "execution_count": null,
      "outputs": [
        {
          "output_type": "execute_result",
          "data": {
            "text/plain": [
              "dict_values(['one', 'two', 'four'])"
            ]
          },
          "metadata": {
            "tags": []
          },
          "execution_count": 33
        }
      ]
    },
    {
      "cell_type": "markdown",
      "metadata": {
        "id": "qWCb_rSHtFLJ"
      },
      "source": [
        "dict เอาไปใช้ร่วมกันกับ Dictionary"
      ]
    },
    {
      "cell_type": "markdown",
      "metadata": {
        "id": "S9lOCq0Dt9xH"
      },
      "source": [
        "numpy คือ package ที่ทำงานเกี่ยวกับ arry ของตัวเลข \r\n",
        "(ที่มีคนเขียนขึ้นมาและนิยมใช้)\r\n",
        "\r\n",
        "numpy -> number python"
      ]
    },
    {
      "cell_type": "code",
      "metadata": {
        "id": "pfXqWY22sHCQ"
      },
      "source": [
        "import numpy #วิธีเรียกใช้งาน package"
      ],
      "execution_count": null,
      "outputs": []
    },
    {
      "cell_type": "code",
      "metadata": {
        "colab": {
          "base_uri": "https://localhost:8080/"
        },
        "id": "esYTql05unmm",
        "outputId": "8b5a3533-34b7-4650-d679-60b0e746b6a4"
      },
      "source": [
        "ex_2d_array = numpy.array ([[5.2,3.0,4.5],[9.1,0.1,0.3]])\r\n",
        "print(ex_2d_array)"
      ],
      "execution_count": null,
      "outputs": [
        {
          "output_type": "stream",
          "text": [
            "[[5.2 3.  4.5]\n",
            " [9.1 0.1 0.3]]\n"
          ],
          "name": "stdout"
        }
      ]
    },
    {
      "cell_type": "markdown",
      "metadata": {
        "id": "kRTbQ6dyvRfi"
      },
      "source": [
        "### การชี้ค่าใน numpy array"
      ]
    },
    {
      "cell_type": "code",
      "metadata": {
        "colab": {
          "base_uri": "https://localhost:8080/"
        },
        "id": "Zs1St7tSvEjo",
        "outputId": "407934e4-54cc-4412-c1b5-e61b94522fe2"
      },
      "source": [
        "ex_2d_array[1,2] #จะเริ่มที่แถวที่0หลักที่0"
      ],
      "execution_count": null,
      "outputs": [
        {
          "output_type": "execute_result",
          "data": {
            "text/plain": [
              "0.3"
            ]
          },
          "metadata": {
            "tags": []
          },
          "execution_count": 39
        }
      ]
    },
    {
      "cell_type": "code",
      "metadata": {
        "colab": {
          "base_uri": "https://localhost:8080/"
        },
        "id": "c3xX8OzHvqs5",
        "outputId": "4bb704a0-fe75-4db0-9a2a-99006ee64bff"
      },
      "source": [
        "list_x = [[5.2,3.0,4.5],[9.1,0.1,0.3]] #การชี้ list\r\n",
        "\r\n",
        "print(len(list_x)) #การใช้len นับจำนวนสมาชิก\r\n",
        "\r\n",
        "print(list_x[1])\r\n",
        "\r\n",
        "\r\n",
        "print(list_x[1][2]) #ต้องเรียนก่อนว่าเป็นlistที่เท่าไหร่[1] แล้วค่อยเพิ่มสมาชิกที่จะหาอีกครั้ง[2]"
      ],
      "execution_count": null,
      "outputs": [
        {
          "output_type": "stream",
          "text": [
            "2\n",
            "[9.1, 0.1, 0.3]\n",
            "0.3\n"
          ],
          "name": "stdout"
        }
      ]
    },
    {
      "cell_type": "markdown",
      "metadata": {
        "id": "c56z-TToyzpl"
      },
      "source": [
        "### Operation"
      ]
    },
    {
      "cell_type": "code",
      "metadata": {
        "colab": {
          "base_uri": "https://localhost:8080/"
        },
        "id": "B0N7Cc2y0rx7",
        "outputId": "fe14fb19-d1ef-4b64-ddf6-f20f83e642b5"
      },
      "source": [
        "ex2_2d_array = numpy.array([[1,0,0],[0,0,1]])\r\n",
        "print(ex2_2d_array)\r\n",
        "print(ex_2d_array)"
      ],
      "execution_count": null,
      "outputs": [
        {
          "output_type": "stream",
          "text": [
            "[[1 0 0]\n",
            " [0 0 1]]\n",
            "[[5.2 3.  4.5]\n",
            " [9.1 0.1 0.3]]\n"
          ],
          "name": "stdout"
        }
      ]
    },
    {
      "cell_type": "code",
      "metadata": {
        "colab": {
          "base_uri": "https://localhost:8080/"
        },
        "id": "nyWBXUUk0yJX",
        "outputId": "9b15ed2a-c413-4e22-fea4-03f5bc076314"
      },
      "source": [
        "ex_2d_array.shape #.shape ตรวจขนาดของ matrix"
      ],
      "execution_count": null,
      "outputs": [
        {
          "output_type": "execute_result",
          "data": {
            "text/plain": [
              "(2, 3)"
            ]
          },
          "metadata": {
            "tags": []
          },
          "execution_count": 47
        }
      ]
    },
    {
      "cell_type": "code",
      "metadata": {
        "colab": {
          "base_uri": "https://localhost:8080/"
        },
        "id": "HP4rED3g02pP",
        "outputId": "aaab62df-7944-4032-b350-5545b4590ba8"
      },
      "source": [
        "ex2_2d_array + ex_2d_array"
      ],
      "execution_count": null,
      "outputs": [
        {
          "output_type": "execute_result",
          "data": {
            "text/plain": [
              "array([[6.2, 3. , 4.5],\n",
              "       [9.1, 0.1, 1.3]])"
            ]
          },
          "metadata": {
            "tags": []
          },
          "execution_count": 48
        }
      ]
    },
    {
      "cell_type": "code",
      "metadata": {
        "colab": {
          "base_uri": "https://localhost:8080/"
        },
        "id": "bMtFMIk2wdGL",
        "outputId": "36531735-0aa7-43d7-bbc0-5155c09b06a5"
      },
      "source": [
        "list_x = [[5.2,3.0,4.5],[9.1,0.1,0.3]] \r\n",
        "list_x2 = [[1,0,1],[0,0,1]]\r\n",
        "\r\n",
        "list_x + list_x2"
      ],
      "execution_count": null,
      "outputs": [
        {
          "output_type": "execute_result",
          "data": {
            "text/plain": [
              "[[5.2, 3.0, 4.5], [9.1, 0.1, 0.3], [1, 0, 1], [0, 0, 1]]"
            ]
          },
          "metadata": {
            "tags": []
          },
          "execution_count": 44
        }
      ]
    },
    {
      "cell_type": "code",
      "metadata": {
        "colab": {
          "base_uri": "https://localhost:8080/"
        },
        "id": "9YdbR_QUzcTe",
        "outputId": "6a2fdacd-5060-469c-9336-a4491e3306fb"
      },
      "source": [
        "ex2_2d_array * ex_2d_array #การคูณแบบ array เอาตำแหน่งเดียวกันมาคูณกัน"
      ],
      "execution_count": null,
      "outputs": [
        {
          "output_type": "execute_result",
          "data": {
            "text/plain": [
              "array([[5.2, 0. , 0. ],\n",
              "       [0. , 0. , 0.3]])"
            ]
          },
          "metadata": {
            "tags": []
          },
          "execution_count": 49
        }
      ]
    },
    {
      "cell_type": "markdown",
      "metadata": {
        "id": "QKPSY3H_1XAA"
      },
      "source": [
        "matix multiplication (dot product)\r\n"
      ]
    },
    {
      "cell_type": "code",
      "metadata": {
        "id": "CqxizGRh2SPO"
      },
      "source": [
        ""
      ],
      "execution_count": null,
      "outputs": []
    },
    {
      "cell_type": "code",
      "metadata": {
        "colab": {
          "base_uri": "https://localhost:8080/"
        },
        "id": "eBoE3gVV0-L7",
        "outputId": "c2135c6e-0d1b-41c6-aabe-3434966f84d5"
      },
      "source": [
        "print(ex_2d_array)\r\n",
        "print(ex_2d_array.T)"
      ],
      "execution_count": null,
      "outputs": [
        {
          "output_type": "stream",
          "text": [
            "[[5.2 3.  4.5]\n",
            " [9.1 0.1 0.3]]\n",
            "[[5.2 9.1]\n",
            " [3.  0.1]\n",
            " [4.5 0.3]]\n"
          ],
          "name": "stdout"
        }
      ]
    },
    {
      "cell_type": "code",
      "metadata": {
        "colab": {
          "base_uri": "https://localhost:8080/"
        },
        "id": "E9VTLKRS2Ky9",
        "outputId": "a0d83f50-fc16-4f53-d080-3c6306ed3b9a"
      },
      "source": [
        "dot_mat = numpy.dot(ex_2d_array,ex2_2d_array.T)\r\n",
        "print(dot_mat)"
      ],
      "execution_count": null,
      "outputs": [
        {
          "output_type": "stream",
          "text": [
            "[[5.2 4.5]\n",
            " [9.1 0.3]]\n"
          ],
          "name": "stdout"
        }
      ]
    },
    {
      "cell_type": "code",
      "metadata": {
        "colab": {
          "base_uri": "https://localhost:8080/"
        },
        "id": "pQDDx8633D-_",
        "outputId": "c10e1c75-9695-45ff-94d3-44d24d9a6209"
      },
      "source": [
        "numpy.linalg.det(dot_mat)"
      ],
      "execution_count": null,
      "outputs": [
        {
          "output_type": "execute_result",
          "data": {
            "text/plain": [
              "-39.389999999999986"
            ]
          },
          "metadata": {
            "tags": []
          },
          "execution_count": 55
        }
      ]
    },
    {
      "cell_type": "markdown",
      "metadata": {
        "id": "LTrkYj4r3-19"
      },
      "source": [
        "![unnamed.gif](data:image/gif;base64,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)"
      ]
    },
    {
      "cell_type": "markdown",
      "metadata": {
        "id": "001dLPes4Iyi"
      },
      "source": [
        ""
      ]
    },
    {
      "cell_type": "markdown",
      "metadata": {
        "id": "65mLVhnz4JVo"
      },
      "source": [
        "search google -> stackoverflow หรือ web ของ package สำหรับ operations อื่นๆ "
      ]
    },
    {
      "cell_type": "markdown",
      "metadata": {
        "id": "KHk-xKF55RIM"
      },
      "source": [
        "## matix slicing"
      ]
    },
    {
      "cell_type": "markdown",
      "metadata": {
        "id": "vxo0NCiI5dbc"
      },
      "source": [
        ""
      ]
    },
    {
      "cell_type": "code",
      "metadata": {
        "colab": {
          "base_uri": "https://localhost:8080/"
        },
        "id": "YXd6ec_x5ghH",
        "outputId": "77643160-b827-48e7-92c5-77f337a6a844"
      },
      "source": [
        "print(ex_2d_array)\r\n",
        "\r\n"
      ],
      "execution_count": null,
      "outputs": [
        {
          "output_type": "stream",
          "text": [
            "[[5.2 3.  4.5]\n",
            " [9.1 0.1 0.3]]\n"
          ],
          "name": "stdout"
        }
      ]
    },
    {
      "cell_type": "code",
      "metadata": {
        "colab": {
          "base_uri": "https://localhost:8080/"
        },
        "id": "lxZEC7M53xFh",
        "outputId": "9c3fe0cc-815e-4c36-d1bb-4f4fd9ec301a"
      },
      "source": [
        "ex_2d_array[1,1:]"
      ],
      "execution_count": null,
      "outputs": [
        {
          "output_type": "execute_result",
          "data": {
            "text/plain": [
              "array([0.1, 0.3])"
            ]
          },
          "metadata": {
            "tags": []
          },
          "execution_count": 58
        }
      ]
    },
    {
      "cell_type": "code",
      "metadata": {
        "colab": {
          "base_uri": "https://localhost:8080/"
        },
        "id": "USjdrBpg5uRd",
        "outputId": "024b161c-203f-495e-c19a-f90c2444a943"
      },
      "source": [
        "ex_2d_array[:,:2]"
      ],
      "execution_count": null,
      "outputs": [
        {
          "output_type": "execute_result",
          "data": {
            "text/plain": [
              "array([[5.2, 3. ],\n",
              "       [9.1, 0.1]])"
            ]
          },
          "metadata": {
            "tags": []
          },
          "execution_count": 59
        }
      ]
    },
    {
      "cell_type": "markdown",
      "metadata": {
        "id": "rIWaurAk54ur"
      },
      "source": [
        ""
      ]
    },
    {
      "cell_type": "markdown",
      "metadata": {
        "id": "7uRbjJZpQVDz"
      },
      "source": [
        "#HW 5 เขียน function คูณ matrix\r\n",
        "\r\n",
        "แล้ว test กับ matrix ขนาด\r\n",
        "\r\n",
        "(2,3)*(3,2) \r\n",
        "\r\n",
        "(4,4)*(4,1)\r\n",
        "\r\n",
        "(2,2)*(2,2)"
      ]
    },
    {
      "cell_type": "code",
      "metadata": {
        "id": "OqZY-4Q_QYsE"
      },
      "source": [
        "import numpy as np"
      ],
      "execution_count": null,
      "outputs": []
    },
    {
      "cell_type": "code",
      "metadata": {
        "id": "6Fe29BWURXCY"
      },
      "source": [
        "A = np.array([ [1,2,3],[4,5,6] ] )#matrix2*3\r\n",
        "B = np.array ([ [1,2],[3,4],[4,5] ])#matrix3*2\r\n",
        "C = np.array ([ [1,2,8,7],[6,8,3,4],[1,7,4,5],[9,2,1,5] ]) #matrix4*4\r\n",
        "D = np.array ([ [5],[3],[2],[3] ]) #matrix4*1\r\n",
        "E = np.array ([ [1,2],[3,4]])#matrix2*2\r\n",
        "F = np.array ([ [8,3],[9,6]])#matrix2*2"
      ],
      "execution_count": null,
      "outputs": []
    },
    {
      "cell_type": "code",
      "metadata": {
        "id": "ixREVdT3Xd2h",
        "colab": {
          "base_uri": "https://localhost:8080/"
        },
        "outputId": "07dd8828-f054-42c4-e697-cf0a43f59636"
      },
      "source": [
        "A\r\n",
        "B\r\n"
      ],
      "execution_count": null,
      "outputs": [
        {
          "output_type": "execute_result",
          "data": {
            "text/plain": [
              "array([[1, 2],\n",
              "       [3, 4],\n",
              "       [4, 5]])"
            ]
          },
          "metadata": {
            "tags": []
          },
          "execution_count": 12
        }
      ]
    },
    {
      "cell_type": "code",
      "metadata": {
        "id": "4usqj0AhSima"
      },
      "source": [
        "def matrixmult (A, B):\r\n",
        "    G = [[0 for row in range(len(B[0]))] for col in range(len(A))]\r\n",
        "    for i in range(len(A)):\r\n",
        "        for j in range(len(B[0])):\r\n",
        "            for k in range(len(B)):\r\n",
        "                G[i][j] += A[i][k]*B[k][j]\r\n",
        "    P = np.matrix(G)\r\n",
        "    return P"
      ],
      "execution_count": null,
      "outputs": []
    },
    {
      "cell_type": "code",
      "metadata": {
        "id": "0nrW5u-IURV2",
        "colab": {
          "base_uri": "https://localhost:8080/"
        },
        "outputId": "ce78c302-4143-4d60-95d8-a0428242be7a"
      },
      "source": [
        "matrixmult(A,B) #ข้อ1"
      ],
      "execution_count": null,
      "outputs": [
        {
          "output_type": "execute_result",
          "data": {
            "text/plain": [
              "matrix([[19, 25],\n",
              "        [43, 58]])"
            ]
          },
          "metadata": {
            "tags": []
          },
          "execution_count": 26
        }
      ]
    },
    {
      "cell_type": "code",
      "metadata": {
        "id": "0dPt-gOKZEkN",
        "colab": {
          "base_uri": "https://localhost:8080/"
        },
        "outputId": "6878a98f-bdbc-452c-c9cc-520bc38c17e1"
      },
      "source": [
        "matrixmult(C,D) #ข้อ2"
      ],
      "execution_count": null,
      "outputs": [
        {
          "output_type": "execute_result",
          "data": {
            "text/plain": [
              "matrix([[48],\n",
              "        [72],\n",
              "        [49],\n",
              "        [68]])"
            ]
          },
          "metadata": {
            "tags": []
          },
          "execution_count": 27
        }
      ]
    },
    {
      "cell_type": "code",
      "metadata": {
        "id": "5UKn3wIuZXaM",
        "colab": {
          "base_uri": "https://localhost:8080/"
        },
        "outputId": "5b5e2fcb-bb00-4593-dcec-3a211b033ec3"
      },
      "source": [
        "matrixmult(E,F) #ข้อ3"
      ],
      "execution_count": null,
      "outputs": [
        {
          "output_type": "execute_result",
          "data": {
            "text/plain": [
              "matrix([[26, 15],\n",
              "        [60, 33]])"
            ]
          },
          "metadata": {
            "tags": []
          },
          "execution_count": 28
        }
      ]
    },
    {
      "cell_type": "markdown",
      "metadata": {
        "id": "Ra-8MvBpS9ZE"
      },
      "source": [
        "###zeros,ones,random"
      ]
    },
    {
      "cell_type": "code",
      "metadata": {
        "id": "xNPt5OgyZ95Z"
      },
      "source": [
        "import numpy as np #เวลาเรียกใช้ฟังก์ชั่นจะเปลี่ยนเป็น np แทน"
      ],
      "execution_count": 1,
      "outputs": []
    },
    {
      "cell_type": "code",
      "metadata": {
        "id": "raSEPKP4WWtV",
        "outputId": "062f34bd-bfeb-4fba-906d-1397e752646d",
        "colab": {
          "base_uri": "https://localhost:8080/"
        }
      },
      "source": [
        "np.zeros(2)"
      ],
      "execution_count": 2,
      "outputs": [
        {
          "output_type": "execute_result",
          "data": {
            "text/plain": [
              "array([0., 0.])"
            ]
          },
          "metadata": {
            "tags": []
          },
          "execution_count": 2
        }
      ]
    },
    {
      "cell_type": "code",
      "metadata": {
        "id": "H9N5vszfWdJI",
        "outputId": "985faefc-9d8a-4c17-a8c1-537833b12245",
        "colab": {
          "base_uri": "https://localhost:8080/"
        }
      },
      "source": [
        "np.zeros((2, 3))\r\n"
      ],
      "execution_count": 3,
      "outputs": [
        {
          "output_type": "execute_result",
          "data": {
            "text/plain": [
              "array([[0., 0., 0.],\n",
              "       [0., 0., 0.]])"
            ]
          },
          "metadata": {
            "tags": []
          },
          "execution_count": 3
        }
      ]
    },
    {
      "cell_type": "markdown",
      "metadata": {
        "id": "4xibx_DeXYPc"
      },
      "source": [
        "### ones  สร้างเมทริกซ์ที่มีทุกค่าด้านในเป็น 1"
      ]
    },
    {
      "cell_type": "code",
      "metadata": {
        "id": "GGHcxiJ8Wnaa",
        "outputId": "c5a3ea5c-ab2a-42d1-d48a-fd1b6f669af2",
        "colab": {
          "base_uri": "https://localhost:8080/"
        }
      },
      "source": [
        "np.ones((2,3))"
      ],
      "execution_count": 4,
      "outputs": [
        {
          "output_type": "execute_result",
          "data": {
            "text/plain": [
              "array([[1., 1., 1.],\n",
              "       [1., 1., 1.]])"
            ]
          },
          "metadata": {
            "tags": []
          },
          "execution_count": 4
        }
      ]
    },
    {
      "cell_type": "markdown",
      "metadata": {
        "id": "ZCn4c905YEew"
      },
      "source": [
        "### Matrix Operation\r\n",
        "![scalar-multiplication.png](data:image/png;base64,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)"
      ]
    },
    {
      "cell_type": "code",
      "metadata": {
        "id": "poLo3rO8YBei",
        "outputId": "8a519435-ce44-4d12-a5bc-ad309407cf49",
        "colab": {
          "base_uri": "https://localhost:8080/"
        }
      },
      "source": [
        "M_one = np.ones((2,3))\r\n",
        "\r\n",
        "2*M_one"
      ],
      "execution_count": 5,
      "outputs": [
        {
          "output_type": "execute_result",
          "data": {
            "text/plain": [
              "array([[2., 2., 2.],\n",
              "       [2., 2., 2.]])"
            ]
          },
          "metadata": {
            "tags": []
          },
          "execution_count": 5
        }
      ]
    },
    {
      "cell_type": "markdown",
      "metadata": {
        "id": "taVGem-gZJTV"
      },
      "source": [
        "### Random numpy"
      ]
    },
    {
      "cell_type": "code",
      "metadata": {
        "id": "wMqLUoEqZFTD",
        "outputId": "6dc8f017-84f0-4bb7-8e44-669578fa7c95",
        "colab": {
          "base_uri": "https://localhost:8080/"
        }
      },
      "source": [
        "np.random.rand(3,2) #uniform random เกิดการสุ่มเลขขึ้นมาในโอกาสเท่าๆกันตามเมทริกซ์ที่กำหนด"
      ],
      "execution_count": 6,
      "outputs": [
        {
          "output_type": "execute_result",
          "data": {
            "text/plain": [
              "array([[0.23423194, 0.17081013],\n",
              "       [0.94878845, 0.05153558],\n",
              "       [0.14525005, 0.61504892]])"
            ]
          },
          "metadata": {
            "tags": []
          },
          "execution_count": 6
        }
      ]
    },
    {
      "cell_type": "code",
      "metadata": {
        "id": "--j0opdecCLa",
        "outputId": "1a50f668-0a51-4512-f2bd-3a7ab424e6d1",
        "colab": {
          "base_uri": "https://localhost:8080/"
        }
      },
      "source": [
        "np.random.rand(3,2) # sample from normal distribution mean = 0 SD = 1"
      ],
      "execution_count": 7,
      "outputs": [
        {
          "output_type": "execute_result",
          "data": {
            "text/plain": [
              "array([[0.69108789, 0.12628285],\n",
              "       [0.64479232, 0.91861745],\n",
              "       [0.40041318, 0.94527856]])"
            ]
          },
          "metadata": {
            "tags": []
          },
          "execution_count": 7
        }
      ]
    },
    {
      "cell_type": "code",
      "metadata": {
        "id": "32XTUSNCcdeM",
        "outputId": "3ee33d47-26dd-41ee-d757-23d3afaf16e0",
        "colab": {
          "base_uri": "https://localhost:8080/",
          "height": 35
        }
      },
      "source": [
        "np.random.choice([1,2,3,'a','b','c']) #จะสุ่มเลขจากอาร์เรมา1ตัว 1มิติ"
      ],
      "execution_count": 10,
      "outputs": [
        {
          "output_type": "execute_result",
          "data": {
            "application/vnd.google.colaboratory.intrinsic+json": {
              "type": "string"
            },
            "text/plain": [
              "'a'"
            ]
          },
          "metadata": {
            "tags": []
          },
          "execution_count": 10
        }
      ]
    },
    {
      "cell_type": "code",
      "metadata": {
        "id": "sYnxFSljdewY",
        "outputId": "fb5a4d73-8b74-4ea2-be89-b9744ab7676f",
        "colab": {
          "base_uri": "https://localhost:8080/"
        }
      },
      "source": [
        "np.random.choice([1,2,3,28,11,100] , size = (2,3))"
      ],
      "execution_count": 12,
      "outputs": [
        {
          "output_type": "execute_result",
          "data": {
            "text/plain": [
              "array([[ 28,  28,  11],\n",
              "       [100,   2,  11]])"
            ]
          },
          "metadata": {
            "tags": []
          },
          "execution_count": 12
        }
      ]
    },
    {
      "cell_type": "code",
      "metadata": {
        "id": "EJ_hQLBFfr3W",
        "outputId": "3eb78cf0-8ebe-4e8b-901b-25bf749963b0",
        "colab": {
          "base_uri": "https://localhost:8080/"
        }
      },
      "source": [
        "np.random.choice(['A','B','C','D','F'],size=35, p=[0.1,0.2,0.4,0.29,0.01])"
      ],
      "execution_count": 14,
      "outputs": [
        {
          "output_type": "execute_result",
          "data": {
            "text/plain": [
              "array(['D', 'C', 'D', 'D', 'B', 'D', 'C', 'A', 'B', 'C', 'D', 'C', 'A',\n",
              "       'C', 'D', 'C', 'C', 'D', 'C', 'B', 'D', 'D', 'D', 'C', 'C', 'C',\n",
              "       'C', 'D', 'A', 'D', 'B', 'D', 'A', 'D', 'F'], dtype='<U1')"
            ]
          },
          "metadata": {
            "tags": []
          },
          "execution_count": 14
        }
      ]
    },
    {
      "cell_type": "markdown",
      "metadata": {
        "id": "5CZdNuZyhJsm"
      },
      "source": [
        "### เฉลยการบ้าน "
      ]
    },
    {
      "cell_type": "code",
      "metadata": {
        "id": "PGcr5YQYgE2E"
      },
      "source": [
        "def mat_mul(A,B) :\r\n",
        "      C = np.zeros((A.shape[0],B.shape[1])) #เตรียมขนาด matrix ผลลัพธ์ #ผลการคูณเมทริกซ์ Aคือแถวของตัวหน้า Bหลักของตัวหลัง\r\n",
        "      for r_a in range(A.shape[0]) : #ไล่แต่ละแถวของตัวหน้า\r\n",
        "          for c_b in range(B.shape[1]) :\r\n",
        "              for every_element in range(A.shape[1]) : #จำนวนหลัก=แถวจึงคูณได้\r\n",
        "                    C[r_a,c_b] =  C[r_a,c_b] + (A[r_a,every_element]*B[every_element,c_b])#0 (ค่าที่มีอยู่)\r\n",
        "      return C"
      ],
      "execution_count": 41,
      "outputs": []
    },
    {
      "cell_type": "code",
      "metadata": {
        "id": "IkEjURFuicgJ"
      },
      "source": [
        "mat1 = np.array([ [1,2,3],[4,5,6] ] )#matrix2*3\r\n",
        "mat2 = np.array ([ [1,2],[3,4],[4,5] ])#matrix3*2"
      ],
      "execution_count": 42,
      "outputs": []
    },
    {
      "cell_type": "code",
      "metadata": {
        "id": "WgKq7FVHisQh",
        "outputId": "31ae372c-3540-4975-9783-c15c403f2517",
        "colab": {
          "base_uri": "https://localhost:8080/"
        }
      },
      "source": [
        "mat_mul(mat1,mat2)"
      ],
      "execution_count": 43,
      "outputs": [
        {
          "output_type": "execute_result",
          "data": {
            "text/plain": [
              "array([[19., 25.],\n",
              "       [43., 58.]])"
            ]
          },
          "metadata": {
            "tags": []
          },
          "execution_count": 43
        }
      ]
    },
    {
      "cell_type": "code",
      "metadata": {
        "id": "VD0ZJo7tix7D"
      },
      "source": [
        ""
      ],
      "execution_count": null,
      "outputs": []
    }
  ]
}