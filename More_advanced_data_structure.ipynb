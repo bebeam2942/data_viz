{
  "nbformat": 4,
  "nbformat_minor": 0,
  "metadata": {
    "colab": {
      "name": "More advanced data structure.ipynb",
      "provenance": [],
      "authorship_tag": "ABX9TyMGxEiA2LBSKpddlrmeBCLG",
      "include_colab_link": true
    },
    "kernelspec": {
      "name": "python3",
      "display_name": "Python 3"
    }
  },
  "cells": [
    {
      "cell_type": "markdown",
      "metadata": {
        "id": "view-in-github",
        "colab_type": "text"
      },
      "source": [
        "<a href=\"https://colab.research.google.com/github/bebeam2942/data_viz/blob/main/More_advanced_data_structure.ipynb\" target=\"_parent\"><img src=\"https://colab.research.google.com/assets/colab-badge.svg\" alt=\"Open In Colab\"/></a>"
      ]
    },
    {
      "cell_type": "markdown",
      "metadata": {
        "id": "vaKQ0elgncmy"
      },
      "source": [
        "# Dictionary \r\n",
        "สามารถ index ด้วยอะไรก็ได้ แต่ลำดับจะหายไป"
      ]
    },
    {
      "cell_type": "code",
      "metadata": {
        "id": "--zb5mpQlyvl"
      },
      "source": [
        "ex_dict = { 'a' :10, '1':1, 'stat' :5 }  #culry brackets ในการบอกว่าเป็น dict"
      ],
      "execution_count": null,
      "outputs": []
    },
    {
      "cell_type": "code",
      "metadata": {
        "colab": {
          "base_uri": "https://localhost:8080/"
        },
        "id": "fCFdCDhSpJ_u",
        "outputId": "018c0abf-cc50-4d5f-850d-fec64a62e4f7"
      },
      "source": [
        "ex_dict['stat']   #อยากให้ชี้เป็นตัวไหนก็เขียนตัวที่กำกับได้เลย"
      ],
      "execution_count": null,
      "outputs": [
        {
          "output_type": "execute_result",
          "data": {
            "text/plain": [
              "5"
            ]
          },
          "metadata": {
            "tags": []
          },
          "execution_count": 4
        }
      ]
    },
    {
      "cell_type": "code",
      "metadata": {
        "id": "NpLjQ4nzpPWx"
      },
      "source": [
        "ex2_dict = {1:'one', 2:'two'} #ส่วนหน้าเป็น index ส่วนหลังเป็น value ชี้ได้เฉพาะส่วนหน้า"
      ],
      "execution_count": null,
      "outputs": []
    },
    {
      "cell_type": "code",
      "metadata": {
        "colab": {
          "base_uri": "https://localhost:8080/",
          "height": 35
        },
        "id": "vYiustx-pyYA",
        "outputId": "52748767-178f-4c02-ce43-3cbb872cdbf0"
      },
      "source": [
        "ex2_dict[2]"
      ],
      "execution_count": null,
      "outputs": [
        {
          "output_type": "execute_result",
          "data": {
            "application/vnd.google.colaboratory.intrinsic+json": {
              "type": "string"
            },
            "text/plain": [
              "'two'"
            ]
          },
          "metadata": {
            "tags": []
          },
          "execution_count": 28
        }
      ]
    },
    {
      "cell_type": "markdown",
      "metadata": {
        "id": "FRjeK8lsqX_s"
      },
      "source": [
        "###การเพิ่มสมาชิก"
      ]
    },
    {
      "cell_type": "code",
      "metadata": {
        "id": "u8EAUrldp3vY"
      },
      "source": [
        "ex2_dict[4] = 'four'"
      ],
      "execution_count": null,
      "outputs": []
    },
    {
      "cell_type": "code",
      "metadata": {
        "colab": {
          "base_uri": "https://localhost:8080/"
        },
        "id": "pxuBbY6vq3vh",
        "outputId": "498f1f03-24ef-4d4a-ab9c-aaa811054875"
      },
      "source": [
        "ex2_dict"
      ],
      "execution_count": null,
      "outputs": [
        {
          "output_type": "execute_result",
          "data": {
            "text/plain": [
              "{1: 'one', 2: 'two', 4: 'four'}"
            ]
          },
          "metadata": {
            "tags": []
          },
          "execution_count": 30
        }
      ]
    },
    {
      "cell_type": "markdown",
      "metadata": {
        "id": "lzdTES46rAxO"
      },
      "source": [
        "### คำสั่ง"
      ]
    },
    {
      "cell_type": "code",
      "metadata": {
        "colab": {
          "base_uri": "https://localhost:8080/"
        },
        "id": "e9t3Uvosq9Yd",
        "outputId": "b63f687d-75df-4bdc-b0a0-6e711d1c4b9a"
      },
      "source": [
        "ex2_dict.keys()"
      ],
      "execution_count": null,
      "outputs": [
        {
          "output_type": "execute_result",
          "data": {
            "text/plain": [
              "dict_keys([1, 2, 4])"
            ]
          },
          "metadata": {
            "tags": []
          },
          "execution_count": 31
        }
      ]
    },
    {
      "cell_type": "code",
      "metadata": {
        "colab": {
          "base_uri": "https://localhost:8080/"
        },
        "id": "BkTFdWOXrJMB",
        "outputId": "1cb46ed3-7742-4ffd-e5d1-4d232ba70955"
      },
      "source": [
        "for index in ex2_dict.keys():\r\n",
        "      print(index)"
      ],
      "execution_count": null,
      "outputs": [
        {
          "output_type": "stream",
          "text": [
            "1\n",
            "2\n",
            "4\n"
          ],
          "name": "stdout"
        }
      ]
    },
    {
      "cell_type": "code",
      "metadata": {
        "colab": {
          "base_uri": "https://localhost:8080/"
        },
        "id": "5q_iCM05sAxT",
        "outputId": "8fed263e-dd50-407c-8701-179bda80b2db"
      },
      "source": [
        "ex2_dict.values()"
      ],
      "execution_count": null,
      "outputs": [
        {
          "output_type": "execute_result",
          "data": {
            "text/plain": [
              "dict_values(['one', 'two', 'four'])"
            ]
          },
          "metadata": {
            "tags": []
          },
          "execution_count": 33
        }
      ]
    },
    {
      "cell_type": "markdown",
      "metadata": {
        "id": "qWCb_rSHtFLJ"
      },
      "source": [
        "dict เอาไปใช้ร่วมกันกับ Dictionary"
      ]
    },
    {
      "cell_type": "markdown",
      "metadata": {
        "id": "S9lOCq0Dt9xH"
      },
      "source": [
        "numpy คือ package ที่ทำงานเกี่ยวกับ arry ของตัวเลข \r\n",
        "(ที่มีคนเขียนขึ้นมาและนิยมใช้)\r\n",
        "\r\n",
        "numpy -> number python"
      ]
    },
    {
      "cell_type": "code",
      "metadata": {
        "id": "pfXqWY22sHCQ"
      },
      "source": [
        "import numpy #วิธีเรียกใช้งาน package"
      ],
      "execution_count": null,
      "outputs": []
    },
    {
      "cell_type": "code",
      "metadata": {
        "colab": {
          "base_uri": "https://localhost:8080/"
        },
        "id": "esYTql05unmm",
        "outputId": "8b5a3533-34b7-4650-d679-60b0e746b6a4"
      },
      "source": [
        "ex_2d_array = numpy.array ([[5.2,3.0,4.5],[9.1,0.1,0.3]])\r\n",
        "print(ex_2d_array)"
      ],
      "execution_count": null,
      "outputs": [
        {
          "output_type": "stream",
          "text": [
            "[[5.2 3.  4.5]\n",
            " [9.1 0.1 0.3]]\n"
          ],
          "name": "stdout"
        }
      ]
    },
    {
      "cell_type": "markdown",
      "metadata": {
        "id": "kRTbQ6dyvRfi"
      },
      "source": [
        "### การชี้ค่าใน numpy array"
      ]
    },
    {
      "cell_type": "code",
      "metadata": {
        "colab": {
          "base_uri": "https://localhost:8080/"
        },
        "id": "Zs1St7tSvEjo",
        "outputId": "407934e4-54cc-4412-c1b5-e61b94522fe2"
      },
      "source": [
        "ex_2d_array[1,2] #จะเริ่มที่แถวที่0หลักที่0"
      ],
      "execution_count": null,
      "outputs": [
        {
          "output_type": "execute_result",
          "data": {
            "text/plain": [
              "0.3"
            ]
          },
          "metadata": {
            "tags": []
          },
          "execution_count": 39
        }
      ]
    },
    {
      "cell_type": "code",
      "metadata": {
        "colab": {
          "base_uri": "https://localhost:8080/"
        },
        "id": "c3xX8OzHvqs5",
        "outputId": "4bb704a0-fe75-4db0-9a2a-99006ee64bff"
      },
      "source": [
        "list_x = [[5.2,3.0,4.5],[9.1,0.1,0.3]] #การชี้ list\r\n",
        "\r\n",
        "print(len(list_x)) #การใช้len นับจำนวนสมาชิก\r\n",
        "\r\n",
        "print(list_x[1])\r\n",
        "\r\n",
        "\r\n",
        "print(list_x[1][2]) #ต้องเรียนก่อนว่าเป็นlistที่เท่าไหร่[1] แล้วค่อยเพิ่มสมาชิกที่จะหาอีกครั้ง[2]"
      ],
      "execution_count": null,
      "outputs": [
        {
          "output_type": "stream",
          "text": [
            "2\n",
            "[9.1, 0.1, 0.3]\n",
            "0.3\n"
          ],
          "name": "stdout"
        }
      ]
    },
    {
      "cell_type": "markdown",
      "metadata": {
        "id": "c56z-TToyzpl"
      },
      "source": [
        "### Operation"
      ]
    },
    {
      "cell_type": "code",
      "metadata": {
        "colab": {
          "base_uri": "https://localhost:8080/"
        },
        "id": "B0N7Cc2y0rx7",
        "outputId": "fe14fb19-d1ef-4b64-ddf6-f20f83e642b5"
      },
      "source": [
        "ex2_2d_array = numpy.array([[1,0,0],[0,0,1]])\r\n",
        "print(ex2_2d_array)\r\n",
        "print(ex_2d_array)"
      ],
      "execution_count": null,
      "outputs": [
        {
          "output_type": "stream",
          "text": [
            "[[1 0 0]\n",
            " [0 0 1]]\n",
            "[[5.2 3.  4.5]\n",
            " [9.1 0.1 0.3]]\n"
          ],
          "name": "stdout"
        }
      ]
    },
    {
      "cell_type": "code",
      "metadata": {
        "colab": {
          "base_uri": "https://localhost:8080/"
        },
        "id": "nyWBXUUk0yJX",
        "outputId": "9b15ed2a-c413-4e22-fea4-03f5bc076314"
      },
      "source": [
        "ex_2d_array.shape #.shape ตรวจขนาดของ matrix"
      ],
      "execution_count": null,
      "outputs": [
        {
          "output_type": "execute_result",
          "data": {
            "text/plain": [
              "(2, 3)"
            ]
          },
          "metadata": {
            "tags": []
          },
          "execution_count": 47
        }
      ]
    },
    {
      "cell_type": "code",
      "metadata": {
        "colab": {
          "base_uri": "https://localhost:8080/"
        },
        "id": "HP4rED3g02pP",
        "outputId": "aaab62df-7944-4032-b350-5545b4590ba8"
      },
      "source": [
        "ex2_2d_array + ex_2d_array"
      ],
      "execution_count": null,
      "outputs": [
        {
          "output_type": "execute_result",
          "data": {
            "text/plain": [
              "array([[6.2, 3. , 4.5],\n",
              "       [9.1, 0.1, 1.3]])"
            ]
          },
          "metadata": {
            "tags": []
          },
          "execution_count": 48
        }
      ]
    },
    {
      "cell_type": "code",
      "metadata": {
        "colab": {
          "base_uri": "https://localhost:8080/"
        },
        "id": "bMtFMIk2wdGL",
        "outputId": "36531735-0aa7-43d7-bbc0-5155c09b06a5"
      },
      "source": [
        "list_x = [[5.2,3.0,4.5],[9.1,0.1,0.3]] \r\n",
        "list_x2 = [[1,0,1],[0,0,1]]\r\n",
        "\r\n",
        "list_x + list_x2"
      ],
      "execution_count": null,
      "outputs": [
        {
          "output_type": "execute_result",
          "data": {
            "text/plain": [
              "[[5.2, 3.0, 4.5], [9.1, 0.1, 0.3], [1, 0, 1], [0, 0, 1]]"
            ]
          },
          "metadata": {
            "tags": []
          },
          "execution_count": 44
        }
      ]
    },
    {
      "cell_type": "code",
      "metadata": {
        "colab": {
          "base_uri": "https://localhost:8080/"
        },
        "id": "9YdbR_QUzcTe",
        "outputId": "6a2fdacd-5060-469c-9336-a4491e3306fb"
      },
      "source": [
        "ex2_2d_array * ex_2d_array #การคูณแบบ array เอาตำแหน่งเดียวกันมาคูณกัน"
      ],
      "execution_count": null,
      "outputs": [
        {
          "output_type": "execute_result",
          "data": {
            "text/plain": [
              "array([[5.2, 0. , 0. ],\n",
              "       [0. , 0. , 0.3]])"
            ]
          },
          "metadata": {
            "tags": []
          },
          "execution_count": 49
        }
      ]
    },
    {
      "cell_type": "markdown",
      "metadata": {
        "id": "QKPSY3H_1XAA"
      },
      "source": [
        "matix multiplication (dot product)\r\n"
      ]
    },
    {
      "cell_type": "code",
      "metadata": {
        "id": "CqxizGRh2SPO"
      },
      "source": [
        ""
      ],
      "execution_count": null,
      "outputs": []
    },
    {
      "cell_type": "code",
      "metadata": {
        "colab": {
          "base_uri": "https://localhost:8080/"
        },
        "id": "eBoE3gVV0-L7",
        "outputId": "c2135c6e-0d1b-41c6-aabe-3434966f84d5"
      },
      "source": [
        "print(ex_2d_array)\r\n",
        "print(ex_2d_array.T)"
      ],
      "execution_count": null,
      "outputs": [
        {
          "output_type": "stream",
          "text": [
            "[[5.2 3.  4.5]\n",
            " [9.1 0.1 0.3]]\n",
            "[[5.2 9.1]\n",
            " [3.  0.1]\n",
            " [4.5 0.3]]\n"
          ],
          "name": "stdout"
        }
      ]
    },
    {
      "cell_type": "code",
      "metadata": {
        "colab": {
          "base_uri": "https://localhost:8080/"
        },
        "id": "E9VTLKRS2Ky9",
        "outputId": "a0d83f50-fc16-4f53-d080-3c6306ed3b9a"
      },
      "source": [
        "dot_mat = numpy.dot(ex_2d_array,ex2_2d_array.T)\r\n",
        "print(dot_mat)"
      ],
      "execution_count": null,
      "outputs": [
        {
          "output_type": "stream",
          "text": [
            "[[5.2 4.5]\n",
            " [9.1 0.3]]\n"
          ],
          "name": "stdout"
        }
      ]
    },
    {
      "cell_type": "code",
      "metadata": {
        "colab": {
          "base_uri": "https://localhost:8080/"
        },
        "id": "pQDDx8633D-_",
        "outputId": "c10e1c75-9695-45ff-94d3-44d24d9a6209"
      },
      "source": [
        "numpy.linalg.det(dot_mat)"
      ],
      "execution_count": null,
      "outputs": [
        {
          "output_type": "execute_result",
          "data": {
            "text/plain": [
              "-39.389999999999986"
            ]
          },
          "metadata": {
            "tags": []
          },
          "execution_count": 55
        }
      ]
    },
    {
      "cell_type": "markdown",
      "metadata": {
        "id": "LTrkYj4r3-19"
      },
      "source": [
        "![unnamed.gif](data:image/gif;base64,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)"
      ]
    },
    {
      "cell_type": "markdown",
      "metadata": {
        "id": "001dLPes4Iyi"
      },
      "source": [
        ""
      ]
    },
    {
      "cell_type": "markdown",
      "metadata": {
        "id": "65mLVhnz4JVo"
      },
      "source": [
        "search google -> stackoverflow หรือ web ของ package สำหรับ operations อื่นๆ "
      ]
    },
    {
      "cell_type": "markdown",
      "metadata": {
        "id": "KHk-xKF55RIM"
      },
      "source": [
        "## matix slicing"
      ]
    },
    {
      "cell_type": "markdown",
      "metadata": {
        "id": "vxo0NCiI5dbc"
      },
      "source": [
        ""
      ]
    },
    {
      "cell_type": "code",
      "metadata": {
        "colab": {
          "base_uri": "https://localhost:8080/"
        },
        "id": "YXd6ec_x5ghH",
        "outputId": "77643160-b827-48e7-92c5-77f337a6a844"
      },
      "source": [
        "print(ex_2d_array)\r\n",
        "\r\n"
      ],
      "execution_count": null,
      "outputs": [
        {
          "output_type": "stream",
          "text": [
            "[[5.2 3.  4.5]\n",
            " [9.1 0.1 0.3]]\n"
          ],
          "name": "stdout"
        }
      ]
    },
    {
      "cell_type": "code",
      "metadata": {
        "colab": {
          "base_uri": "https://localhost:8080/"
        },
        "id": "lxZEC7M53xFh",
        "outputId": "9c3fe0cc-815e-4c36-d1bb-4f4fd9ec301a"
      },
      "source": [
        "ex_2d_array[1,1:]"
      ],
      "execution_count": null,
      "outputs": [
        {
          "output_type": "execute_result",
          "data": {
            "text/plain": [
              "array([0.1, 0.3])"
            ]
          },
          "metadata": {
            "tags": []
          },
          "execution_count": 58
        }
      ]
    },
    {
      "cell_type": "code",
      "metadata": {
        "colab": {
          "base_uri": "https://localhost:8080/"
        },
        "id": "USjdrBpg5uRd",
        "outputId": "024b161c-203f-495e-c19a-f90c2444a943"
      },
      "source": [
        "ex_2d_array[:,:2]"
      ],
      "execution_count": null,
      "outputs": [
        {
          "output_type": "execute_result",
          "data": {
            "text/plain": [
              "array([[5.2, 3. ],\n",
              "       [9.1, 0.1]])"
            ]
          },
          "metadata": {
            "tags": []
          },
          "execution_count": 59
        }
      ]
    },
    {
      "cell_type": "markdown",
      "metadata": {
        "id": "rIWaurAk54ur"
      },
      "source": [
        ""
      ]
    },
    {
      "cell_type": "markdown",
      "metadata": {
        "id": "7uRbjJZpQVDz"
      },
      "source": [
        "#HW 5 เขียน function คูณ matrix\r\n",
        "\r\n",
        "แล้ว test กับ matrix ขนาด\r\n",
        "\r\n",
        "(2,3)*(3,2) \r\n",
        "\r\n",
        "(4,4)*(4,1)\r\n",
        "\r\n",
        "(2,2)*(2,2)"
      ]
    },
    {
      "cell_type": "code",
      "metadata": {
        "id": "OqZY-4Q_QYsE"
      },
      "source": [
        "import numpy as np"
      ],
      "execution_count": 2,
      "outputs": []
    },
    {
      "cell_type": "code",
      "metadata": {
        "id": "6Fe29BWURXCY"
      },
      "source": [
        "A = np.array([ [1,2,3],[4,5,6] ] )#matrix2*3\r\n",
        "B = np.array ([ [1,2],[3,4],[4,5] ])#matrix3*2\r\n",
        "C = np.array ([ [1,2,8,7],[6,8,3,4],[1,7,4,5],[9,2,1,5] ]) #matrix4*4\r\n",
        "D = np.array ([ [5],[3],[2],[3] ]) #matrix4*1\r\n",
        "E = np.array ([ [1,2],[3,4]])#matrix2*2\r\n",
        "F = np.array ([ [8,3],[9,6]])#matrix2*2"
      ],
      "execution_count": 10,
      "outputs": []
    },
    {
      "cell_type": "code",
      "metadata": {
        "id": "ixREVdT3Xd2h",
        "outputId": "07dd8828-f054-42c4-e697-cf0a43f59636",
        "colab": {
          "base_uri": "https://localhost:8080/"
        }
      },
      "source": [
        "A\r\n",
        "B\r\n"
      ],
      "execution_count": 12,
      "outputs": [
        {
          "output_type": "execute_result",
          "data": {
            "text/plain": [
              "array([[1, 2],\n",
              "       [3, 4],\n",
              "       [4, 5]])"
            ]
          },
          "metadata": {
            "tags": []
          },
          "execution_count": 12
        }
      ]
    },
    {
      "cell_type": "code",
      "metadata": {
        "id": "4usqj0AhSima"
      },
      "source": [
        "def matrixmult (A, B):\r\n",
        "    G = [[0 for row in range(len(B[0]))] for col in range(len(A))]\r\n",
        "    for i in range(len(A)):\r\n",
        "        for j in range(len(B[0])):\r\n",
        "            for k in range(len(B)):\r\n",
        "                G[i][j] += A[i][k]*B[k][j]\r\n",
        "    P = np.matrix(G)\r\n",
        "    return P"
      ],
      "execution_count": 25,
      "outputs": []
    },
    {
      "cell_type": "code",
      "metadata": {
        "id": "0nrW5u-IURV2",
        "outputId": "ce78c302-4143-4d60-95d8-a0428242be7a",
        "colab": {
          "base_uri": "https://localhost:8080/"
        }
      },
      "source": [
        "matrixmult(A,B) #ข้อ1"
      ],
      "execution_count": 26,
      "outputs": [
        {
          "output_type": "execute_result",
          "data": {
            "text/plain": [
              "matrix([[19, 25],\n",
              "        [43, 58]])"
            ]
          },
          "metadata": {
            "tags": []
          },
          "execution_count": 26
        }
      ]
    },
    {
      "cell_type": "code",
      "metadata": {
        "id": "0dPt-gOKZEkN",
        "outputId": "6878a98f-bdbc-452c-c9cc-520bc38c17e1",
        "colab": {
          "base_uri": "https://localhost:8080/"
        }
      },
      "source": [
        "matrixmult(C,D) #ข้อ2"
      ],
      "execution_count": 27,
      "outputs": [
        {
          "output_type": "execute_result",
          "data": {
            "text/plain": [
              "matrix([[48],\n",
              "        [72],\n",
              "        [49],\n",
              "        [68]])"
            ]
          },
          "metadata": {
            "tags": []
          },
          "execution_count": 27
        }
      ]
    },
    {
      "cell_type": "code",
      "metadata": {
        "id": "5UKn3wIuZXaM",
        "outputId": "5b5e2fcb-bb00-4593-dcec-3a211b033ec3",
        "colab": {
          "base_uri": "https://localhost:8080/"
        }
      },
      "source": [
        "matrixmult(E,F) #ข้อ3"
      ],
      "execution_count": 28,
      "outputs": [
        {
          "output_type": "execute_result",
          "data": {
            "text/plain": [
              "matrix([[26, 15],\n",
              "        [60, 33]])"
            ]
          },
          "metadata": {
            "tags": []
          },
          "execution_count": 28
        }
      ]
    },
    {
      "cell_type": "code",
      "metadata": {
        "id": "xNPt5OgyZ95Z"
      },
      "source": [
        ""
      ],
      "execution_count": null,
      "outputs": []
    }
  ]
}