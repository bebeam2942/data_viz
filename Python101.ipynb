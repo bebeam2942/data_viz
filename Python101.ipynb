{
  "nbformat": 4,
  "nbformat_minor": 0,
  "metadata": {
    "colab": {
      "name": "Python101.ipynb",
      "provenance": [],
      "authorship_tag": "ABX9TyPhQWIAAi/MSevTCYAdLqbE",
      "include_colab_link": true
    },
    "kernelspec": {
      "name": "python3",
      "display_name": "Python 3"
    }
  },
  "cells": [
    {
      "cell_type": "markdown",
      "metadata": {
        "id": "view-in-github",
        "colab_type": "text"
      },
      "source": [
        "<a href=\"https://colab.research.google.com/github/bebeam2942/data_viz/blob/main/Python101.ipynb\" target=\"_parent\"><img src=\"https://colab.research.google.com/assets/colab-badge.svg\" alt=\"Open In Colab\"/></a>"
      ]
    },
    {
      "cell_type": "code",
      "metadata": {
        "id": "_6CaOBgfNki6"
      },
      "source": [
        "หลักการตั้งชื่อตัวแปรเบื้องต้น\r\n",
        "\r\n",
        "1.ตั้งให้สื่อ\r\n",
        "2.ภาษาอังกฤษ\r\n",
        "3.ใช้ตัวเลขได้แต่ห้ามขึ้นต้นด้วยตัวเลข\r\n",
        "4.ห้สมเว้นวรรค"
      ],
      "execution_count": null,
      "outputs": []
    },
    {
      "cell_type": "code",
      "metadata": {
        "id": "ZzPPQt_9M5O_"
      },
      "source": [
        "pi = 3.14159265359"
      ],
      "execution_count": 1,
      "outputs": []
    },
    {
      "cell_type": "code",
      "metadata": {
        "colab": {
          "base_uri": "https://localhost:8080/"
        },
        "id": "Dw0zkZXdOjD3",
        "outputId": "95cdb493-1d2f-4426-b187-a3439f640f2c"
      },
      "source": [
        "pi"
      ],
      "execution_count": 2,
      "outputs": [
        {
          "output_type": "execute_result",
          "data": {
            "text/plain": [
              "3.14159265359"
            ]
          },
          "metadata": {
            "tags": []
          },
          "execution_count": 2
        }
      ]
    },
    {
      "cell_type": "code",
      "metadata": {
        "id": "Z3BIbnulOnEU"
      },
      "source": [
        "# int : จำนวนเต็ม"
      ],
      "execution_count": 8,
      "outputs": []
    },
    {
      "cell_type": "code",
      "metadata": {
        "id": "X6O01AFDO6YS"
      },
      "source": [
        "a = 10"
      ],
      "execution_count": 4,
      "outputs": []
    },
    {
      "cell_type": "code",
      "metadata": {
        "colab": {
          "base_uri": "https://localhost:8080/"
        },
        "id": "Y2Vm6yUtO6TZ",
        "outputId": "d6f01384-3ab3-487d-a095-5ad317e6e27f"
      },
      "source": [
        "print(a)"
      ],
      "execution_count": 5,
      "outputs": [
        {
          "output_type": "stream",
          "text": [
            "10\n"
          ],
          "name": "stdout"
        }
      ]
    },
    {
      "cell_type": "code",
      "metadata": {
        "id": "N5XbdBnVO6N5"
      },
      "source": [
        "### เครื่องหมาย modlo จะเป็นการหาเอาแค่เศษออกมา"
      ],
      "execution_count": 9,
      "outputs": []
    },
    {
      "cell_type": "code",
      "metadata": {
        "colab": {
          "base_uri": "https://localhost:8080/"
        },
        "id": "tjKCzGRHaE1u",
        "outputId": "2bb2eb5f-332b-4dc5-9f4d-5185c6f42c5c"
      },
      "source": [
        "print(f'% คือการหารเอาเศษ เช่น 7%3 ={7%3} \\\\\r\n",
        "          แต่ \\n/ คือการหารปกติ เช่น 7/3 = {7/3} \\\\\r\n",
        "          และ \\n // คือการหารเอาส่วน เช่น 7//3 = {7//3} \\\\\r\n",
        "          หรือ\\nใช้ int เพื่อหารเอาส่วน เช่น int(7/3) = {int(7/3)}') # \\n คือการขึ้นบรรทัดใหม่\r\n"
      ],
      "execution_count": 20,
      "outputs": [
        {
          "output_type": "stream",
          "text": [
            "% คือการหารเอาเศษ เช่น 7%3 =1 \\          แต่ \n",
            "/ คือการหารปกติ เช่น 7/3 = 2.3333333333333335 \\          และ \n",
            " // คือการหารเอาส่วน เช่น 7//3 = 2 \\          หรือ\n",
            "ใช้ int เพื่อหารเอาส่วน เช่น int(7/3) = 2\n"
          ],
          "name": "stdout"
        }
      ]
    },
    {
      "cell_type": "code",
      "metadata": {
        "colab": {
          "base_uri": "https://localhost:8080/"
        },
        "id": "Y5C3RYxYO6KS",
        "outputId": "76bc79bf-65c7-445b-bd8b-cdac69a939b3"
      },
      "source": [
        "print(f'// คือการหารเอาส่วน เช่น 7//3 = {7//3}')"
      ],
      "execution_count": 17,
      "outputs": [
        {
          "output_type": "stream",
          "text": [
            "// คือการหารเอาส่วน เช่น 7//3 = 2\n"
          ],
          "name": "stdout"
        }
      ]
    },
    {
      "cell_type": "code",
      "metadata": {
        "colab": {
          "base_uri": "https://localhost:8080/"
        },
        "id": "gzimNIaKYZlo",
        "outputId": "ff4efb41-0732-4e8f-9556-0c276faad2f8"
      },
      "source": [
        "int(7/3) ##สามารถใช้ intเพื่อหารเอาส่วนได้"
      ],
      "execution_count": 19,
      "outputs": [
        {
          "output_type": "execute_result",
          "data": {
            "text/plain": [
              "2"
            ]
          },
          "metadata": {
            "tags": []
          },
          "execution_count": 19
        }
      ]
    },
    {
      "cell_type": "markdown",
      "metadata": {
        "id": "Jy8oOv7tYZdn"
      },
      "source": [
        "## DATA STRUCTURE (โครงสร้างข้อมูล)"
      ]
    },
    {
      "cell_type": "markdown",
      "metadata": {
        "id": "fSV0CCVqaxUn"
      },
      "source": [
        ""
      ]
    },
    {
      "cell_type": "markdown",
      "metadata": {
        "id": "0GQpOi4Sa9ED"
      },
      "source": [
        "### แบบที่1 > square brackets"
      ]
    },
    {
      "cell_type": "code",
      "metadata": {
        "id": "5zL66bTka8Z4"
      },
      "source": [
        "list_a = []"
      ],
      "execution_count": 21,
      "outputs": []
    },
    {
      "cell_type": "code",
      "metadata": {
        "colab": {
          "base_uri": "https://localhost:8080/"
        },
        "id": "YHlxmQdkapnP",
        "outputId": "8724d30b-e841-400f-a06e-247d60a6bbf5"
      },
      "source": [
        "list_b = [1,5,'v']\r\n",
        "print(list_b)"
      ],
      "execution_count": 22,
      "outputs": [
        {
          "output_type": "stream",
          "text": [
            "[1, 5, 'v']\n"
          ],
          "name": "stdout"
        }
      ]
    },
    {
      "cell_type": "markdown",
      "metadata": {
        "id": "X-pBQWxrbkVM"
      },
      "source": [
        "### ลำดับที่อยู่ใน list มีความสำคัญ (ลำดับใน list เริ่มจาก 0,1,2,...)"
      ]
    },
    {
      "cell_type": "code",
      "metadata": {
        "id": "7CIfp3DwbVLT"
      },
      "source": [
        ""
      ],
      "execution_count": null,
      "outputs": []
    },
    {
      "cell_type": "markdown",
      "metadata": {
        "id": "jHDsbvWOb5fg"
      },
      "source": [
        "### แบบที่2"
      ]
    },
    {
      "cell_type": "code",
      "metadata": {
        "id": "fLv1ltNhb-5g"
      },
      "source": [
        ""
      ],
      "execution_count": null,
      "outputs": []
    },
    {
      "cell_type": "markdown",
      "metadata": {
        "id": "QOpeNdQrcQT0"
      },
      "source": [
        "### append() เพิ่มสมาชิกใน list"
      ]
    },
    {
      "cell_type": "code",
      "metadata": {
        "colab": {
          "base_uri": "https://localhost:8080/"
        },
        "id": "yAnPv1d6cbZV",
        "outputId": "7fffea43-2ebc-4430-8604-5d710b611a6a"
      },
      "source": [
        "list_b.append('u')\r\n",
        "print(list_b)\r\n"
      ],
      "execution_count": 23,
      "outputs": [
        {
          "output_type": "stream",
          "text": [
            "[1, 5, 'v', 'u']\n"
          ],
          "name": "stdout"
        }
      ]
    },
    {
      "cell_type": "code",
      "metadata": {
        "id": "HdyznA-GctIc"
      },
      "source": [
        "list_b.pop() ### ดึงสมาชิกที่สุดท้ายออกจาก list"
      ],
      "execution_count": null,
      "outputs": []
    },
    {
      "cell_type": "code",
      "metadata": {
        "id": "0mYKb0rVdJCj"
      },
      "source": [
        ""
      ],
      "execution_count": null,
      "outputs": []
    },
    {
      "cell_type": "code",
      "metadata": {
        "id": "2tCXqdzJdK5L"
      },
      "source": [
        ""
      ],
      "execution_count": null,
      "outputs": []
    },
    {
      "cell_type": "markdown",
      "metadata": {
        "id": "bLOYn2yAdLR2"
      },
      "source": [
        "## Strint > list of characters"
      ]
    },
    {
      "cell_type": "code",
      "metadata": {
        "colab": {
          "base_uri": "https://localhost:8080/",
          "height": 35
        },
        "id": "YNc3t9qWdUiQ",
        "outputId": "8319be41-df02-407e-d72c-48c41a0701b2"
      },
      "source": [
        "t = 'python is easy'\r\n",
        "t"
      ],
      "execution_count": 24,
      "outputs": [
        {
          "output_type": "execute_result",
          "data": {
            "application/vnd.google.colaboratory.intrinsic+json": {
              "type": "string"
            },
            "text/plain": [
              "'python is easy'"
            ]
          },
          "metadata": {
            "tags": []
          },
          "execution_count": 24
        }
      ]
    },
    {
      "cell_type": "code",
      "metadata": {
        "colab": {
          "base_uri": "https://localhost:8080/"
        },
        "id": "fetCEH9-dnpv",
        "outputId": "6d665757-0dd2-4e00-eb9d-6d5e8637425b"
      },
      "source": [
        "len(list_b) # len คือคำสั่งตรวจความยาวของ list (จำนวนสามชิก)"
      ],
      "execution_count": 25,
      "outputs": [
        {
          "output_type": "execute_result",
          "data": {
            "text/plain": [
              "4"
            ]
          },
          "metadata": {
            "tags": []
          },
          "execution_count": 25
        }
      ]
    },
    {
      "cell_type": "code",
      "metadata": {
        "colab": {
          "base_uri": "https://localhost:8080/"
        },
        "id": "JYb51KRbd7Ro",
        "outputId": "386135d8-8f7a-47cf-a62d-7745a077b237"
      },
      "source": [
        "len(t)"
      ],
      "execution_count": 26,
      "outputs": [
        {
          "output_type": "execute_result",
          "data": {
            "text/plain": [
              "14"
            ]
          },
          "metadata": {
            "tags": []
          },
          "execution_count": 26
        }
      ]
    },
    {
      "cell_type": "markdown",
      "metadata": {
        "id": "85zyh-qneGYx"
      },
      "source": [
        "### access a member of list (list&string)\r\n",
        "### โดยการเริ่มนับจาก 0\r\n",
        "### 0 คือ สามาชิกตัวแรก , -1 คือสมาชิกตัวสุดท้าย"
      ]
    },
    {
      "cell_type": "code",
      "metadata": {
        "colab": {
          "base_uri": "https://localhost:8080/",
          "height": 35
        },
        "id": "c9Lhxl4GeBe-",
        "outputId": "94394a50-6490-40c0-abc4-c4f0e98f1376"
      },
      "source": [
        "t[1]"
      ],
      "execution_count": 27,
      "outputs": [
        {
          "output_type": "execute_result",
          "data": {
            "application/vnd.google.colaboratory.intrinsic+json": {
              "type": "string"
            },
            "text/plain": [
              "'y'"
            ]
          },
          "metadata": {
            "tags": []
          },
          "execution_count": 27
        }
      ]
    },
    {
      "cell_type": "code",
      "metadata": {
        "colab": {
          "base_uri": "https://localhost:8080/",
          "height": 35
        },
        "id": "sgFCPSOeeQuJ",
        "outputId": "f1bdd4c8-84fb-49ce-f1ac-38d3509661b4"
      },
      "source": [
        "t[-1]"
      ],
      "execution_count": 28,
      "outputs": [
        {
          "output_type": "execute_result",
          "data": {
            "application/vnd.google.colaboratory.intrinsic+json": {
              "type": "string"
            },
            "text/plain": [
              "'y'"
            ]
          },
          "metadata": {
            "tags": []
          },
          "execution_count": 28
        }
      ]
    },
    {
      "cell_type": "code",
      "metadata": {
        "colab": {
          "base_uri": "https://localhost:8080/",
          "height": 35
        },
        "id": "Uf-aTHf9ebs8",
        "outputId": "4dd2a2de-38a9-4e86-9b5c-e02101e2c36e"
      },
      "source": [
        "t[-3]"
      ],
      "execution_count": 29,
      "outputs": [
        {
          "output_type": "execute_result",
          "data": {
            "application/vnd.google.colaboratory.intrinsic+json": {
              "type": "string"
            },
            "text/plain": [
              "'a'"
            ]
          },
          "metadata": {
            "tags": []
          },
          "execution_count": 29
        }
      ]
    },
    {
      "cell_type": "markdown",
      "metadata": {
        "id": "si2I5kKKfLcB"
      },
      "source": [
        "### ตัวที่อยู่ข้างใน [] เราเรียกว่า index (ตัวชี้)"
      ]
    },
    {
      "cell_type": "code",
      "metadata": {
        "id": "PX2BnNwufHXy"
      },
      "source": [
        ""
      ],
      "execution_count": null,
      "outputs": []
    },
    {
      "cell_type": "markdown",
      "metadata": {
        "id": "UtUE3Nstfn0O"
      },
      "source": [
        "### list slicing สามารถทำได้โดยใช้ colon : \r\n",
        "### (a:b) -> [a,b)   ข้างหน้า : คือจุดเริ่มต้น ด้านหลัง : คือจุดจบ \r\n",
        "### [ จุดทึบเอาตัวเลขนั้น ) จุดโปร่งไปไม่เอา\r\n"
      ]
    },
    {
      "cell_type": "code",
      "metadata": {
        "colab": {
          "base_uri": "https://localhost:8080/"
        },
        "id": "GOE42LPJfuEq",
        "outputId": "1deda0e6-3ab2-4bf9-c819-502564b4bc05"
      },
      "source": [
        "print (t)\r\n",
        "print (t[7:9])"
      ],
      "execution_count": 31,
      "outputs": [
        {
          "output_type": "stream",
          "text": [
            "python is easy\n",
            "is\n"
          ],
          "name": "stdout"
        }
      ]
    },
    {
      "cell_type": "markdown",
      "metadata": {
        "id": "JR93TjpyhOM8"
      },
      "source": [
        "### ถ้าเว้นว่างหน้า : หมายความว่า เริ่มตั้งแต่ตัวแรก\r\n",
        "### ถ้าเว้นว่างหลัง : หมายความว่า ไปจนถึงตัวสุดท้าย\r\n"
      ]
    },
    {
      "cell_type": "code",
      "metadata": {
        "colab": {
          "base_uri": "https://localhost:8080/"
        },
        "id": "2d2NFk_2hA4Q",
        "outputId": "3d45b5d3-fe1f-4dc0-86cb-af936f072be0"
      },
      "source": [
        "print(t)\r\n",
        "print(t[:6])\r\n",
        "print(t[9:])\r\n",
        "print(t[:])\r\n"
      ],
      "execution_count": 36,
      "outputs": [
        {
          "output_type": "stream",
          "text": [
            "python is easy\n",
            "python\n",
            " easy\n",
            "python is easy\n"
          ],
          "name": "stdout"
        }
      ]
    },
    {
      "cell_type": "markdown",
      "metadata": {
        "id": "yqNwPpsoiU5r"
      },
      "source": [
        "## เราสามารถเอา list มาต่อกันได้ด้วย +"
      ]
    },
    {
      "cell_type": "code",
      "metadata": {
        "colab": {
          "base_uri": "https://localhost:8080/",
          "height": 35
        },
        "id": "q1lHehYthzFl",
        "outputId": "c0314aea-db09-4d55-b7eb-a15587bc3443"
      },
      "source": [
        "t + '??'"
      ],
      "execution_count": 38,
      "outputs": [
        {
          "output_type": "execute_result",
          "data": {
            "application/vnd.google.colaboratory.intrinsic+json": {
              "type": "string"
            },
            "text/plain": [
              "'python is easy??'"
            ]
          },
          "metadata": {
            "tags": []
          },
          "execution_count": 38
        }
      ]
    },
    {
      "cell_type": "code",
      "metadata": {
        "colab": {
          "base_uri": "https://localhost:8080/"
        },
        "id": "uj5GQATFilyP",
        "outputId": "70098f9c-59a3-477a-acbf-1db8d3589dab"
      },
      "source": [
        "list_b + list_a"
      ],
      "execution_count": 39,
      "outputs": [
        {
          "output_type": "execute_result",
          "data": {
            "text/plain": [
              "[1, 5, 'v', 'u']"
            ]
          },
          "metadata": {
            "tags": []
          },
          "execution_count": 39
        }
      ]
    },
    {
      "cell_type": "code",
      "metadata": {
        "colab": {
          "base_uri": "https://localhost:8080/",
          "height": 163
        },
        "id": "9Ib4FSzyiy5s",
        "outputId": "046df066-0a06-4977-e957-5a6fded269da"
      },
      "source": [
        "t + list_b ## ไม่สามารถเอา list มาต่อกับ str ได้"
      ],
      "execution_count": 40,
      "outputs": [
        {
          "output_type": "error",
          "ename": "TypeError",
          "evalue": "ignored",
          "traceback": [
            "\u001b[0;31m---------------------------------------------------------------------------\u001b[0m",
            "\u001b[0;31mTypeError\u001b[0m                                 Traceback (most recent call last)",
            "\u001b[0;32m<ipython-input-40-80e4f386253d>\u001b[0m in \u001b[0;36m<module>\u001b[0;34m()\u001b[0m\n\u001b[0;32m----> 1\u001b[0;31m \u001b[0mt\u001b[0m \u001b[0;34m+\u001b[0m \u001b[0mlist_b\u001b[0m \u001b[0;31m## ไม่สามารถเอา list มาต่อกับ str ได้\u001b[0m\u001b[0;34m\u001b[0m\u001b[0;34m\u001b[0m\u001b[0m\n\u001b[0m",
            "\u001b[0;31mTypeError\u001b[0m: must be str, not list"
          ]
        }
      ]
    },
    {
      "cell_type": "markdown",
      "metadata": {
        "id": "M5LcmPmcjDvQ"
      },
      "source": [
        "### การแบ่ง string ตามสัญลักษณ์ที่กำหนด -> split string"
      ]
    },
    {
      "cell_type": "code",
      "metadata": {
        "colab": {
          "base_uri": "https://localhost:8080/"
        },
        "id": "SWf9cpFNixSD",
        "outputId": "83abbe06-1e8e-4806-9cb0-86392be482e4"
      },
      "source": [
        "t.split(' ')"
      ],
      "execution_count": 41,
      "outputs": [
        {
          "output_type": "execute_result",
          "data": {
            "text/plain": [
              "['python', 'is', 'easy']"
            ]
          },
          "metadata": {
            "tags": []
          },
          "execution_count": 41
        }
      ]
    },
    {
      "cell_type": "code",
      "metadata": {
        "id": "GHqI4tG1jkr1"
      },
      "source": [
        "time = '12:30:15'"
      ],
      "execution_count": 42,
      "outputs": []
    },
    {
      "cell_type": "code",
      "metadata": {
        "colab": {
          "base_uri": "https://localhost:8080/"
        },
        "id": "PIf0ERwcjx6e",
        "outputId": "1ad20e7f-fc00-4f8e-bd9b-b26bb49ead7b"
      },
      "source": [
        "time.split(':')"
      ],
      "execution_count": 43,
      "outputs": [
        {
          "output_type": "execute_result",
          "data": {
            "text/plain": [
              "['12', '30', '15']"
            ]
          },
          "metadata": {
            "tags": []
          },
          "execution_count": 43
        }
      ]
    },
    {
      "cell_type": "code",
      "metadata": {
        "id": "flzTUX7Vj40x"
      },
      "source": [
        "t_sp = t.split(' ')\r\n",
        "print(t_sp)\r\n",
        "\r\n",
        "## วิธีรวมกลับ คือเอามารวมกัน \r\n",
        "  \r\n",
        "print ( ' ')"
      ],
      "execution_count": null,
      "outputs": []
    }
  ]
}