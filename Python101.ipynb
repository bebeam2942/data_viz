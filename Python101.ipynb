{
  "nbformat": 4,
  "nbformat_minor": 0,
  "metadata": {
    "colab": {
      "name": "Python101.ipynb",
      "provenance": [],
      "authorship_tag": "ABX9TyNv4D8kboSqIr0adx+TJjwF",
      "include_colab_link": true
    },
    "kernelspec": {
      "name": "python3",
      "display_name": "Python 3"
    }
  },
  "cells": [
    {
      "cell_type": "markdown",
      "metadata": {
        "id": "view-in-github",
        "colab_type": "text"
      },
      "source": [
        "<a href=\"https://colab.research.google.com/github/bebeam2942/data_viz/blob/main/Python101.ipynb\" target=\"_parent\"><img src=\"https://colab.research.google.com/assets/colab-badge.svg\" alt=\"Open In Colab\"/></a>"
      ]
    },
    {
      "cell_type": "markdown",
      "metadata": {
        "id": "9qV4zjNp1A0M"
      },
      "source": [
        "## หลักการตั้งชื่อตัวแปรเบื้องต้น\r\n",
        "\r\n",
        "1.ตั้งให้สื่อ \\\r\n",
        "2.ภาษาอังกฤษ \\\r\n",
        "3.ใช้ตัวเลขได้แต่ห้ามขึ้นต้นด้วยตัวเลข \\\r\n",
        "4.ห้ามเว้นวรรค"
      ]
    },
    {
      "cell_type": "code",
      "metadata": {
        "id": "ZzPPQt_9M5O_"
      },
      "source": [
        "pi = 3.14159265359"
      ],
      "execution_count": null,
      "outputs": []
    },
    {
      "cell_type": "code",
      "metadata": {
        "colab": {
          "base_uri": "https://localhost:8080/"
        },
        "id": "Dw0zkZXdOjD3",
        "outputId": "95cdb493-1d2f-4426-b187-a3439f640f2c"
      },
      "source": [
        "pi"
      ],
      "execution_count": null,
      "outputs": [
        {
          "output_type": "execute_result",
          "data": {
            "text/plain": [
              "3.14159265359"
            ]
          },
          "metadata": {
            "tags": []
          },
          "execution_count": 2
        }
      ]
    },
    {
      "cell_type": "markdown",
      "metadata": {
        "id": "NTuAVRAh02cK"
      },
      "source": [
        "## int : จำนวนเต็ม"
      ]
    },
    {
      "cell_type": "code",
      "metadata": {
        "id": "X6O01AFDO6YS"
      },
      "source": [
        "a = 10"
      ],
      "execution_count": null,
      "outputs": []
    },
    {
      "cell_type": "code",
      "metadata": {
        "colab": {
          "base_uri": "https://localhost:8080/"
        },
        "id": "Y2Vm6yUtO6TZ",
        "outputId": "d6f01384-3ab3-487d-a095-5ad317e6e27f"
      },
      "source": [
        "print(a)"
      ],
      "execution_count": null,
      "outputs": [
        {
          "output_type": "stream",
          "text": [
            "10\n"
          ],
          "name": "stdout"
        }
      ]
    },
    {
      "cell_type": "markdown",
      "metadata": {
        "id": "-Ez8eQ461Ys1"
      },
      "source": [
        "## float : จำนวนจริง (ทศนิยม)"
      ]
    },
    {
      "cell_type": "code",
      "metadata": {
        "colab": {
          "base_uri": "https://localhost:8080/"
        },
        "id": "Wp3Gykad1cmm",
        "outputId": "5fc374f7-0d5a-4ed5-a0ff-d2335ce5b83b"
      },
      "source": [
        "b=10.\r\n",
        "print(b)"
      ],
      "execution_count": null,
      "outputs": [
        {
          "output_type": "stream",
          "text": [
            "10.0\n"
          ],
          "name": "stdout"
        }
      ]
    },
    {
      "cell_type": "markdown",
      "metadata": {
        "id": "scZPbLA_2HU_"
      },
      "source": [
        "## ตัวอักษร (char (character)) ข้อความ (text หรือ string)\r\n",
        ".. # hashtag, sharp ใช้สำหรับคอมเม้นต์\r\n"
      ]
    },
    {
      "cell_type": "code",
      "metadata": {
        "colab": {
          "base_uri": "https://localhost:8080/"
        },
        "id": "1GcZXGSG2agp",
        "outputId": "4dcef604-fbf1-421e-8619-6745b3bf2d8c"
      },
      "source": [
        "c= 'chonticha'  # เราจะบอกว่าตัวแปรเป็นตัวอักษรหรือข้อความโดยการใช้ single quote ' หรือ double quote \" ล้อมรอบ  ## ใช้อันไหนก็ได้แต่ ' จะสะดวกมากกว่า\r\n",
        "print(c)\r\n"
      ],
      "execution_count": null,
      "outputs": [
        {
          "output_type": "stream",
          "text": [
            "chonticha\n"
          ],
          "name": "stdout"
        }
      ]
    },
    {
      "cell_type": "markdown",
      "metadata": {
        "id": "y9E1h7Fl2zRd"
      },
      "source": [
        "## ตัวเลขที่เป็น string ไม่สามารถเอามา + - x / กับตัวเลขได้ จะทำให้เกิด error"
      ]
    },
    {
      "cell_type": "code",
      "metadata": {
        "colab": {
          "base_uri": "https://localhost:8080/"
        },
        "id": "xhrR-xj639ZL",
        "outputId": "65be4024-b016-465f-a884-c9ca5ce76e51"
      },
      "source": [
        "d = '10'\r\n",
        "print(d)\r\n"
      ],
      "execution_count": null,
      "outputs": [
        {
          "output_type": "stream",
          "text": [
            "10\n"
          ],
          "name": "stdout"
        }
      ]
    },
    {
      "cell_type": "code",
      "metadata": {
        "colab": {
          "base_uri": "https://localhost:8080/",
          "height": 163
        },
        "id": "4mecvgFi4GcY",
        "outputId": "5f8b9c33-cbbe-4d96-eb0e-8fec4f89d631"
      },
      "source": [
        "d +1 ##error เพราะ d เป็น str"
      ],
      "execution_count": null,
      "outputs": [
        {
          "output_type": "error",
          "ename": "TypeError",
          "evalue": "ignored",
          "traceback": [
            "\u001b[0;31m---------------------------------------------------------------------------\u001b[0m",
            "\u001b[0;31mTypeError\u001b[0m                                 Traceback (most recent call last)",
            "\u001b[0;32m<ipython-input-20-fcec68117c82>\u001b[0m in \u001b[0;36m<module>\u001b[0;34m()\u001b[0m\n\u001b[0;32m----> 1\u001b[0;31m \u001b[0md\u001b[0m \u001b[0;34m+\u001b[0m\u001b[0;36m1\u001b[0m \u001b[0;31m##error เพราะ d เป็น str\u001b[0m\u001b[0;34m\u001b[0m\u001b[0;34m\u001b[0m\u001b[0m\n\u001b[0m",
            "\u001b[0;31mTypeError\u001b[0m: must be str, not int"
          ]
        }
      ]
    },
    {
      "cell_type": "markdown",
      "metadata": {
        "id": "hMV5IX2X5EH_"
      },
      "source": [
        "## variable casting (การเปลี่ยนชนิดของข้อมูล)"
      ]
    },
    {
      "cell_type": "code",
      "metadata": {
        "colab": {
          "base_uri": "https://localhost:8080/"
        },
        "id": "oLzanccr4yRt",
        "outputId": "aec08b57-5992-41f1-ea43-457d65745bc2"
      },
      "source": [
        "int(d) + 1 \r\n"
      ],
      "execution_count": null,
      "outputs": [
        {
          "output_type": "execute_result",
          "data": {
            "text/plain": [
              "11"
            ]
          },
          "metadata": {
            "tags": []
          },
          "execution_count": 21
        }
      ]
    },
    {
      "cell_type": "code",
      "metadata": {
        "colab": {
          "base_uri": "https://localhost:8080/"
        },
        "id": "w269obVe5WaV",
        "outputId": "34ee7548-00e1-4f54-e916-04aba1f2791f"
      },
      "source": [
        "print(a)\r\n",
        "print(float(a))\r\n",
        "print(str(a))\r\n"
      ],
      "execution_count": null,
      "outputs": [
        {
          "output_type": "stream",
          "text": [
            "10\n",
            "10.0\n",
            "10\n"
          ],
          "name": "stdout"
        }
      ]
    },
    {
      "cell_type": "markdown",
      "metadata": {
        "id": "hPE6DQi46C_T"
      },
      "source": [
        "## Operation (Operators +,-,*,/,%) ตัวดำเนินการ"
      ]
    },
    {
      "cell_type": "code",
      "metadata": {
        "colab": {
          "base_uri": "https://localhost:8080/"
        },
        "id": "mHhUT7WY6Ka0",
        "outputId": "e51f0714-3cd8-46c3-e4ce-e52c14f4ffb5"
      },
      "source": [
        "a+b\r\n"
      ],
      "execution_count": null,
      "outputs": [
        {
          "output_type": "execute_result",
          "data": {
            "text/plain": [
              "20.0"
            ]
          },
          "metadata": {
            "tags": []
          },
          "execution_count": 27
        }
      ]
    },
    {
      "cell_type": "code",
      "metadata": {
        "colab": {
          "base_uri": "https://localhost:8080/"
        },
        "id": "aYlmEuq16ZQI",
        "outputId": "9eedb465-8363-47f1-9e58-f3b0e23fa13a"
      },
      "source": [
        "ab=a+b\r\n",
        "print(ab)"
      ],
      "execution_count": null,
      "outputs": [
        {
          "output_type": "stream",
          "text": [
            "20.0\n"
          ],
          "name": "stdout"
        }
      ]
    },
    {
      "cell_type": "markdown",
      "metadata": {
        "id": "AaVrQh6k4vce"
      },
      "source": [
        "### เครื่องหมาย modlo ( % ) จะเป็นการหาเอาแค่เศษออกมา"
      ]
    },
    {
      "cell_type": "code",
      "metadata": {
        "colab": {
          "base_uri": "https://localhost:8080/"
        },
        "id": "tjKCzGRHaE1u",
        "outputId": "2bb2eb5f-332b-4dc5-9f4d-5185c6f42c5c"
      },
      "source": [
        "print(f'% คือการหารเอาเศษ เช่น 7%3 ={7%3} \\\\\r\n",
        "          แต่ \\n/ คือการหารปกติ เช่น 7/3 = {7/3} \\\\\r\n",
        "          และ \\n // คือการหารเอาส่วน เช่น 7//3 = {7//3} \\\\\r\n",
        "          หรือ\\nใช้ int เพื่อหารเอาส่วน เช่น int(7/3) = {int(7/3)}') # \\n คือการขึ้นบรรทัดใหม่\r\n"
      ],
      "execution_count": null,
      "outputs": [
        {
          "output_type": "stream",
          "text": [
            "% คือการหารเอาเศษ เช่น 7%3 =1 \\          แต่ \n",
            "/ คือการหารปกติ เช่น 7/3 = 2.3333333333333335 \\          และ \n",
            " // คือการหารเอาส่วน เช่น 7//3 = 2 \\          หรือ\n",
            "ใช้ int เพื่อหารเอาส่วน เช่น int(7/3) = 2\n"
          ],
          "name": "stdout"
        }
      ]
    },
    {
      "cell_type": "code",
      "metadata": {
        "colab": {
          "base_uri": "https://localhost:8080/"
        },
        "id": "Y5C3RYxYO6KS",
        "outputId": "76bc79bf-65c7-445b-bd8b-cdac69a939b3"
      },
      "source": [
        "print(f'// คือการหารเอาส่วน เช่น 7//3 = {7//3}')"
      ],
      "execution_count": null,
      "outputs": [
        {
          "output_type": "stream",
          "text": [
            "// คือการหารเอาส่วน เช่น 7//3 = 2\n"
          ],
          "name": "stdout"
        }
      ]
    },
    {
      "cell_type": "code",
      "metadata": {
        "colab": {
          "base_uri": "https://localhost:8080/"
        },
        "id": "gzimNIaKYZlo",
        "outputId": "ff4efb41-0732-4e8f-9556-0c276faad2f8"
      },
      "source": [
        "int(7/3) ##สามารถใช้ intเพื่อหารเอาส่วนได้"
      ],
      "execution_count": null,
      "outputs": [
        {
          "output_type": "execute_result",
          "data": {
            "text/plain": [
              "2"
            ]
          },
          "metadata": {
            "tags": []
          },
          "execution_count": 19
        }
      ]
    },
    {
      "cell_type": "markdown",
      "metadata": {
        "id": "Jy8oOv7tYZdn"
      },
      "source": [
        "## DATA STRUCTURE (โครงสร้างข้อมูล)"
      ]
    },
    {
      "cell_type": "markdown",
      "metadata": {
        "id": "fSV0CCVqaxUn"
      },
      "source": [
        ""
      ]
    },
    {
      "cell_type": "markdown",
      "metadata": {
        "id": "0GQpOi4Sa9ED"
      },
      "source": [
        "### แบบที่1 > square brackets"
      ]
    },
    {
      "cell_type": "code",
      "metadata": {
        "id": "5zL66bTka8Z4"
      },
      "source": [
        "list_a = []"
      ],
      "execution_count": null,
      "outputs": []
    },
    {
      "cell_type": "code",
      "metadata": {
        "colab": {
          "base_uri": "https://localhost:8080/"
        },
        "id": "YHlxmQdkapnP",
        "outputId": "d896b59e-21fb-46f4-fab5-19bd4d93eccc"
      },
      "source": [
        "list_b = [1,5,'v']\r\n",
        "print(list_b)"
      ],
      "execution_count": null,
      "outputs": [
        {
          "output_type": "stream",
          "text": [
            "[1, 5, 'v']\n"
          ],
          "name": "stdout"
        }
      ]
    },
    {
      "cell_type": "markdown",
      "metadata": {
        "id": "X-pBQWxrbkVM"
      },
      "source": [
        "### ลำดับที่อยู่ใน list มีความสำคัญ (ลำดับใน list เริ่มจาก 0,1,2,...)"
      ]
    },
    {
      "cell_type": "code",
      "metadata": {
        "id": "7CIfp3DwbVLT",
        "colab": {
          "base_uri": "https://localhost:8080/"
        },
        "outputId": "1ac3641f-a0f5-4bf8-83bd-12375f57667c"
      },
      "source": [
        "list_b[1]"
      ],
      "execution_count": null,
      "outputs": [
        {
          "output_type": "execute_result",
          "data": {
            "text/plain": [
              "5"
            ]
          },
          "metadata": {
            "tags": []
          },
          "execution_count": 31
        }
      ]
    },
    {
      "cell_type": "markdown",
      "metadata": {
        "id": "jHDsbvWOb5fg"
      },
      "source": [
        "### แบบที่2"
      ]
    },
    {
      "cell_type": "code",
      "metadata": {
        "id": "fLv1ltNhb-5g",
        "colab": {
          "base_uri": "https://localhost:8080/"
        },
        "outputId": "8f77798c-f11e-46df-a6d1-e887803b2912"
      },
      "source": [
        "list_c = list()\r\n",
        "print(list_c)"
      ],
      "execution_count": null,
      "outputs": [
        {
          "output_type": "stream",
          "text": [
            "[]\n"
          ],
          "name": "stdout"
        }
      ]
    },
    {
      "cell_type": "markdown",
      "metadata": {
        "id": "QOpeNdQrcQT0"
      },
      "source": [
        "### append() เพิ่มสมาชิกใน list"
      ]
    },
    {
      "cell_type": "code",
      "metadata": {
        "colab": {
          "base_uri": "https://localhost:8080/"
        },
        "id": "KprQqjZr7pU3",
        "outputId": "b3e7aaf4-e4b9-4f73-ce9d-b9b403f0b5e1"
      },
      "source": [
        "list_b.append('u')\r\n",
        "print(list_b)"
      ],
      "execution_count": null,
      "outputs": [
        {
          "output_type": "stream",
          "text": [
            "[1, 5, 'u', 'u', 'u', 'u', 'u']\n"
          ],
          "name": "stdout"
        }
      ]
    },
    {
      "cell_type": "code",
      "metadata": {
        "id": "HdyznA-GctIc",
        "colab": {
          "base_uri": "https://localhost:8080/",
          "height": 35
        },
        "outputId": "13a9e40d-a18b-4502-a694-8da732583a3a"
      },
      "source": [
        "list_b.pop() ### ดึงสมาชิกที่สุดท้ายออกจาก list"
      ],
      "execution_count": null,
      "outputs": [
        {
          "output_type": "execute_result",
          "data": {
            "application/vnd.google.colaboratory.intrinsic+json": {
              "type": "string"
            },
            "text/plain": [
              "'u'"
            ]
          },
          "metadata": {
            "tags": []
          },
          "execution_count": 39
        }
      ]
    },
    {
      "cell_type": "code",
      "metadata": {
        "id": "0mYKb0rVdJCj"
      },
      "source": [
        ""
      ],
      "execution_count": null,
      "outputs": []
    },
    {
      "cell_type": "code",
      "metadata": {
        "id": "2tCXqdzJdK5L"
      },
      "source": [
        ""
      ],
      "execution_count": null,
      "outputs": []
    },
    {
      "cell_type": "markdown",
      "metadata": {
        "id": "bLOYn2yAdLR2"
      },
      "source": [
        "## Strint > list of characters"
      ]
    },
    {
      "cell_type": "code",
      "metadata": {
        "colab": {
          "base_uri": "https://localhost:8080/",
          "height": 35
        },
        "id": "YNc3t9qWdUiQ",
        "outputId": "8319be41-df02-407e-d72c-48c41a0701b2"
      },
      "source": [
        "t = 'python is easy'\r\n",
        "t"
      ],
      "execution_count": null,
      "outputs": [
        {
          "output_type": "execute_result",
          "data": {
            "application/vnd.google.colaboratory.intrinsic+json": {
              "type": "string"
            },
            "text/plain": [
              "'python is easy'"
            ]
          },
          "metadata": {
            "tags": []
          },
          "execution_count": 24
        }
      ]
    },
    {
      "cell_type": "code",
      "metadata": {
        "colab": {
          "base_uri": "https://localhost:8080/"
        },
        "id": "fetCEH9-dnpv",
        "outputId": "6d665757-0dd2-4e00-eb9d-6d5e8637425b"
      },
      "source": [
        "len(list_b) # len คือคำสั่งตรวจความยาวของ list (จำนวนสามชิก)"
      ],
      "execution_count": null,
      "outputs": [
        {
          "output_type": "execute_result",
          "data": {
            "text/plain": [
              "4"
            ]
          },
          "metadata": {
            "tags": []
          },
          "execution_count": 25
        }
      ]
    },
    {
      "cell_type": "code",
      "metadata": {
        "colab": {
          "base_uri": "https://localhost:8080/"
        },
        "id": "JYb51KRbd7Ro",
        "outputId": "386135d8-8f7a-47cf-a62d-7745a077b237"
      },
      "source": [
        "len(t)"
      ],
      "execution_count": null,
      "outputs": [
        {
          "output_type": "execute_result",
          "data": {
            "text/plain": [
              "14"
            ]
          },
          "metadata": {
            "tags": []
          },
          "execution_count": 26
        }
      ]
    },
    {
      "cell_type": "markdown",
      "metadata": {
        "id": "85zyh-qneGYx"
      },
      "source": [
        "### access a member of list (list&string)\r\n",
        "### โดยการเริ่มนับจาก 0\r\n",
        "### 0 คือ สามาชิกตัวแรก , -1 คือสมาชิกตัวสุดท้าย"
      ]
    },
    {
      "cell_type": "code",
      "metadata": {
        "colab": {
          "base_uri": "https://localhost:8080/",
          "height": 35
        },
        "id": "c9Lhxl4GeBe-",
        "outputId": "94394a50-6490-40c0-abc4-c4f0e98f1376"
      },
      "source": [
        "t[1]"
      ],
      "execution_count": null,
      "outputs": [
        {
          "output_type": "execute_result",
          "data": {
            "application/vnd.google.colaboratory.intrinsic+json": {
              "type": "string"
            },
            "text/plain": [
              "'y'"
            ]
          },
          "metadata": {
            "tags": []
          },
          "execution_count": 27
        }
      ]
    },
    {
      "cell_type": "code",
      "metadata": {
        "colab": {
          "base_uri": "https://localhost:8080/",
          "height": 35
        },
        "id": "sgFCPSOeeQuJ",
        "outputId": "f1bdd4c8-84fb-49ce-f1ac-38d3509661b4"
      },
      "source": [
        "t[-1]"
      ],
      "execution_count": null,
      "outputs": [
        {
          "output_type": "execute_result",
          "data": {
            "application/vnd.google.colaboratory.intrinsic+json": {
              "type": "string"
            },
            "text/plain": [
              "'y'"
            ]
          },
          "metadata": {
            "tags": []
          },
          "execution_count": 28
        }
      ]
    },
    {
      "cell_type": "code",
      "metadata": {
        "colab": {
          "base_uri": "https://localhost:8080/",
          "height": 35
        },
        "id": "Uf-aTHf9ebs8",
        "outputId": "4dd2a2de-38a9-4e86-9b5c-e02101e2c36e"
      },
      "source": [
        "t[-3]"
      ],
      "execution_count": null,
      "outputs": [
        {
          "output_type": "execute_result",
          "data": {
            "application/vnd.google.colaboratory.intrinsic+json": {
              "type": "string"
            },
            "text/plain": [
              "'a'"
            ]
          },
          "metadata": {
            "tags": []
          },
          "execution_count": 29
        }
      ]
    },
    {
      "cell_type": "markdown",
      "metadata": {
        "id": "si2I5kKKfLcB"
      },
      "source": [
        "### ตัวที่อยู่ข้างใน [] เราเรียกว่า index (ตัวชี้)"
      ]
    },
    {
      "cell_type": "code",
      "metadata": {
        "id": "PX2BnNwufHXy"
      },
      "source": [
        ""
      ],
      "execution_count": null,
      "outputs": []
    },
    {
      "cell_type": "markdown",
      "metadata": {
        "id": "UtUE3Nstfn0O"
      },
      "source": [
        "### list slicing สามารถทำได้โดยใช้ colon : \r\n",
        "### (a:b) -> [a,b)   ข้างหน้า : คือจุดเริ่มต้น ด้านหลัง : คือจุดจบ \r\n",
        "### [ จุดทึบเอาตัวเลขนั้น ) จุดโปร่งไปไม่เอา\r\n"
      ]
    },
    {
      "cell_type": "code",
      "metadata": {
        "colab": {
          "base_uri": "https://localhost:8080/"
        },
        "id": "GOE42LPJfuEq",
        "outputId": "1deda0e6-3ab2-4bf9-c819-502564b4bc05"
      },
      "source": [
        "print (t)\r\n",
        "print (t[7:9])"
      ],
      "execution_count": null,
      "outputs": [
        {
          "output_type": "stream",
          "text": [
            "python is easy\n",
            "is\n"
          ],
          "name": "stdout"
        }
      ]
    },
    {
      "cell_type": "markdown",
      "metadata": {
        "id": "JR93TjpyhOM8"
      },
      "source": [
        "### ถ้าเว้นว่างหน้า : หมายความว่า เริ่มตั้งแต่ตัวแรก\r\n",
        "### ถ้าเว้นว่างหลัง : หมายความว่า ไปจนถึงตัวสุดท้าย\r\n"
      ]
    },
    {
      "cell_type": "code",
      "metadata": {
        "colab": {
          "base_uri": "https://localhost:8080/"
        },
        "id": "2d2NFk_2hA4Q",
        "outputId": "3d45b5d3-fe1f-4dc0-86cb-af936f072be0"
      },
      "source": [
        "print(t)\r\n",
        "print(t[:6])\r\n",
        "print(t[9:])\r\n",
        "print(t[:])\r\n"
      ],
      "execution_count": null,
      "outputs": [
        {
          "output_type": "stream",
          "text": [
            "python is easy\n",
            "python\n",
            " easy\n",
            "python is easy\n"
          ],
          "name": "stdout"
        }
      ]
    },
    {
      "cell_type": "markdown",
      "metadata": {
        "id": "yqNwPpsoiU5r"
      },
      "source": [
        "## เราสามารถเอา list มาต่อกันได้ด้วย +"
      ]
    },
    {
      "cell_type": "code",
      "metadata": {
        "colab": {
          "base_uri": "https://localhost:8080/",
          "height": 35
        },
        "id": "q1lHehYthzFl",
        "outputId": "c0314aea-db09-4d55-b7eb-a15587bc3443"
      },
      "source": [
        "t + '??'"
      ],
      "execution_count": null,
      "outputs": [
        {
          "output_type": "execute_result",
          "data": {
            "application/vnd.google.colaboratory.intrinsic+json": {
              "type": "string"
            },
            "text/plain": [
              "'python is easy??'"
            ]
          },
          "metadata": {
            "tags": []
          },
          "execution_count": 38
        }
      ]
    },
    {
      "cell_type": "code",
      "metadata": {
        "colab": {
          "base_uri": "https://localhost:8080/"
        },
        "id": "uj5GQATFilyP",
        "outputId": "70098f9c-59a3-477a-acbf-1db8d3589dab"
      },
      "source": [
        "list_b + list_a"
      ],
      "execution_count": null,
      "outputs": [
        {
          "output_type": "execute_result",
          "data": {
            "text/plain": [
              "[1, 5, 'v', 'u']"
            ]
          },
          "metadata": {
            "tags": []
          },
          "execution_count": 39
        }
      ]
    },
    {
      "cell_type": "code",
      "metadata": {
        "colab": {
          "base_uri": "https://localhost:8080/",
          "height": 163
        },
        "id": "9Ib4FSzyiy5s",
        "outputId": "046df066-0a06-4977-e957-5a6fded269da"
      },
      "source": [
        "t + list_b ## ไม่สามารถเอา list มาต่อกับ str ได้"
      ],
      "execution_count": null,
      "outputs": [
        {
          "output_type": "error",
          "ename": "TypeError",
          "evalue": "ignored",
          "traceback": [
            "\u001b[0;31m---------------------------------------------------------------------------\u001b[0m",
            "\u001b[0;31mTypeError\u001b[0m                                 Traceback (most recent call last)",
            "\u001b[0;32m<ipython-input-40-80e4f386253d>\u001b[0m in \u001b[0;36m<module>\u001b[0;34m()\u001b[0m\n\u001b[0;32m----> 1\u001b[0;31m \u001b[0mt\u001b[0m \u001b[0;34m+\u001b[0m \u001b[0mlist_b\u001b[0m \u001b[0;31m## ไม่สามารถเอา list มาต่อกับ str ได้\u001b[0m\u001b[0;34m\u001b[0m\u001b[0;34m\u001b[0m\u001b[0m\n\u001b[0m",
            "\u001b[0;31mTypeError\u001b[0m: must be str, not list"
          ]
        }
      ]
    },
    {
      "cell_type": "markdown",
      "metadata": {
        "id": "M5LcmPmcjDvQ"
      },
      "source": [
        "### การแบ่ง string ตามสัญลักษณ์ที่กำหนด -> split string"
      ]
    },
    {
      "cell_type": "code",
      "metadata": {
        "colab": {
          "base_uri": "https://localhost:8080/"
        },
        "id": "SWf9cpFNixSD",
        "outputId": "83abbe06-1e8e-4806-9cb0-86392be482e4"
      },
      "source": [
        "t.split(' ')"
      ],
      "execution_count": null,
      "outputs": [
        {
          "output_type": "execute_result",
          "data": {
            "text/plain": [
              "['python', 'is', 'easy']"
            ]
          },
          "metadata": {
            "tags": []
          },
          "execution_count": 41
        }
      ]
    },
    {
      "cell_type": "code",
      "metadata": {
        "id": "GHqI4tG1jkr1"
      },
      "source": [
        "time = '12:30:15'"
      ],
      "execution_count": null,
      "outputs": []
    },
    {
      "cell_type": "code",
      "metadata": {
        "colab": {
          "base_uri": "https://localhost:8080/"
        },
        "id": "PIf0ERwcjx6e",
        "outputId": "1ad20e7f-fc00-4f8e-bd9b-b26bb49ead7b"
      },
      "source": [
        "time.split(':')"
      ],
      "execution_count": null,
      "outputs": [
        {
          "output_type": "execute_result",
          "data": {
            "text/plain": [
              "['12', '30', '15']"
            ]
          },
          "metadata": {
            "tags": []
          },
          "execution_count": 43
        }
      ]
    },
    {
      "cell_type": "code",
      "metadata": {
        "id": "flzTUX7Vj40x"
      },
      "source": [
        "t_sp = t.split(' ')\r\n",
        "print(t_sp)\r\n",
        "\r\n",
        "## วิธีรวมกลับ คือเอามารวมกัน \r\n",
        "  \r\n",
        "print ( ' ')"
      ],
      "execution_count": null,
      "outputs": []
    },
    {
      "cell_type": "markdown",
      "metadata": {
        "id": "ct-BOaQl8Xc3"
      },
      "source": [
        "#HW คำนวณเวลาเป็นวินาทีของเวลาต่อไปนี้โดยใช้คำสั่ง split() ช่วย (print ออกมาให้สวยงาม)\r\n",
        "\r\n",
        "---\r\n",
        "\r\n",
        "\r\n",
        "\r\n",
        "12:30:15\r\n",
        "\r\n",
        "13:41:07\r\n",
        "\r\n",
        "12:53:15\r\n",
        "\r\n",
        "00:59:25\r\n",
        "\r\n",
        "11:11:11\r\n",
        "\r\n",
        "16:06:09"
      ]
    },
    {
      "cell_type": "code",
      "metadata": {
        "id": "hrZFecUi8ivh",
        "colab": {
          "base_uri": "https://localhost:8080/"
        },
        "outputId": "93ba2d97-047c-4ab4-b2d9-ff129fa419ee"
      },
      "source": [
        "## ข้อที่1 คำนวณเวลา 12:30:15 นาที\r\n",
        "\r\n",
        "timeno1='12:30:15'\r\n",
        "timeno1_sp = timeno1.split(':')\r\n",
        "hr1= int(timeno1_sp[0])*3600\r\n",
        "min1= int(timeno1_sp[1])*60\r\n",
        "sec1= int(timeno1_sp[-1])  \r\n",
        "\r\n",
        "print(f'คำนวณเวลา 12:30:15 นาที เป็นวินาที จะได้ { hr1+min1+sec1} วินาที')"
      ],
      "execution_count": 17,
      "outputs": [
        {
          "output_type": "stream",
          "text": [
            "คำนวณเวลา 12:30:15 นาที เป็นวินาที จะได้ 45015 วินาที\n"
          ],
          "name": "stdout"
        }
      ]
    },
    {
      "cell_type": "code",
      "metadata": {
        "colab": {
          "base_uri": "https://localhost:8080/"
        },
        "id": "P1wnqtr1xDP4",
        "outputId": "f03c342a-0fe4-4103-f786-ad43f4e1fc99"
      },
      "source": [
        "## ข้อที่2 คำนวณเวลา 13:41:07 นาที\r\n",
        "\r\n",
        "timeno2='13:41:07'\r\n",
        "timeno2_sp = timeno2.split(':')\r\n",
        "hr2= int(timeno2_sp[0])*3600\r\n",
        "min2= int(timeno2_sp[1])*60\r\n",
        "sec2= int(timeno2_sp[-1])  \r\n",
        "\r\n",
        "print(f'คำนวณเวลา 13:41:07 นาที เป็นวินาที จะได้ { hr2+min2+sec2} วินาที')"
      ],
      "execution_count": 18,
      "outputs": [
        {
          "output_type": "stream",
          "text": [
            "คำนวณเวลา 13:41:07 นาที เป็นวินาที จะได้ 49267 วินาที\n"
          ],
          "name": "stdout"
        }
      ]
    },
    {
      "cell_type": "code",
      "metadata": {
        "colab": {
          "base_uri": "https://localhost:8080/"
        },
        "id": "TwAkiro8xwiY",
        "outputId": "ef02a248-d23e-473c-f010-e4d856b9397c"
      },
      "source": [
        "## ข้อที่3 คำนวณเวลา 13:41:07 นาที\r\n",
        "\r\n",
        "timeno3='12:53:15'\r\n",
        "timeno3_sp = timeno3.split(':')\r\n",
        "hr3= int(timeno3_sp[0])*3600\r\n",
        "min3= int(timeno3_sp[1])*60\r\n",
        "sec3= int(timeno3_sp[-1])  \r\n",
        "\r\n",
        "print(f'คำนวณเวลา 12:53:15นาที เป็นวินาที จะได้ { hr3+min3+sec3} วินาที')"
      ],
      "execution_count": 19,
      "outputs": [
        {
          "output_type": "stream",
          "text": [
            "คำนวณเวลา 12:53:15นาที เป็นวินาที จะได้ 46395 วินาที\n"
          ],
          "name": "stdout"
        }
      ]
    },
    {
      "cell_type": "code",
      "metadata": {
        "colab": {
          "base_uri": "https://localhost:8080/"
        },
        "id": "TxT3GKxi2Qw9",
        "outputId": "745499e3-1c57-4f3e-815a-f4a58f34e4a8"
      },
      "source": [
        "## ข้อที่4 คำนวณเวลา 00:59:25 นาที\r\n",
        "\r\n",
        "timeno4='00:59:25'\r\n",
        "timeno4_sp = timeno4.split(':')\r\n",
        "hr4= int(timeno4_sp[0])*3600\r\n",
        "min4= int(timeno4_sp[1])*60\r\n",
        "sec4= int(timeno4_sp[-1])  \r\n",
        "\r\n",
        "print(f'คำนวณเวลา 00:59:25นาที เป็นวินาที จะได้ { hr4+min4+sec4} วินาที')"
      ],
      "execution_count": 22,
      "outputs": [
        {
          "output_type": "stream",
          "text": [
            "คำนวณเวลา 00:59:25นาที เป็นวินาที จะได้ 3565 วินาที\n"
          ],
          "name": "stdout"
        }
      ]
    },
    {
      "cell_type": "code",
      "metadata": {
        "colab": {
          "base_uri": "https://localhost:8080/"
        },
        "id": "oeKYflvd2fdv",
        "outputId": "ab452603-126f-43ce-e623-042771c94366"
      },
      "source": [
        "## ข้อที่5 คำนวณเวลา 11:11:11 นาที\r\n",
        "\r\n",
        "timeno5='11:11:11'\r\n",
        "timeno5_sp = timeno5.split(':')\r\n",
        "hr5= int(timeno5_sp[0])*3600\r\n",
        "min5= int(timeno5_sp[1])*60\r\n",
        "sec5= int(timeno5_sp[-1])  \r\n",
        "\r\n",
        "print(f'คำนวณเวลา 11:11:11นาที เป็นวินาที จะได้ { hr5+min5+sec5} วินาที')"
      ],
      "execution_count": 23,
      "outputs": [
        {
          "output_type": "stream",
          "text": [
            "คำนวณเวลา 11:11:11นาที เป็นวินาที จะได้ 40271 วินาที\n"
          ],
          "name": "stdout"
        }
      ]
    },
    {
      "cell_type": "code",
      "metadata": {
        "colab": {
          "base_uri": "https://localhost:8080/"
        },
        "id": "6yKqHuVk22hQ",
        "outputId": "33cbdcc0-9da0-42c2-e941-3aa5b4fac3ac"
      },
      "source": [
        "# ข้อที่6 คำนวณเวลา 16:06:09 นาที\r\n",
        "\r\n",
        "timeno6='16:06:09'\r\n",
        "timeno6_sp = timeno6.split(':')\r\n",
        "hr6= int(timeno6_sp[0])*3600\r\n",
        "min6= int(timeno6_sp[1])*60\r\n",
        "sec6= int(timeno6_sp[-1])  \r\n",
        "\r\n",
        "print(f'คำนวณเวลา 16:06:09นาที เป็นวินาที จะได้ { hr6+min6+sec6} วินาที')"
      ],
      "execution_count": 24,
      "outputs": [
        {
          "output_type": "stream",
          "text": [
            "คำนวณเวลา 16:06:09นาที เป็นวินาที จะได้ 57969 วินาที\n"
          ],
          "name": "stdout"
        }
      ]
    },
    {
      "cell_type": "code",
      "metadata": {
        "id": "OBa_6w8E3Kml"
      },
      "source": [
        ""
      ],
      "execution_count": null,
      "outputs": []
    }
  ]
}