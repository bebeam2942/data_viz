{
  "nbformat": 4,
  "nbformat_minor": 0,
  "metadata": {
    "colab": {
      "name": "Day2MyPython.ipynb",
      "provenance": [],
      "authorship_tag": "ABX9TyPOJfz/ibxcfkCHGOG78hR4",
      "include_colab_link": true
    },
    "kernelspec": {
      "name": "python3",
      "display_name": "Python 3"
    }
  },
  "cells": [
    {
      "cell_type": "markdown",
      "metadata": {
        "id": "view-in-github",
        "colab_type": "text"
      },
      "source": [
        "<a href=\"https://colab.research.google.com/github/bebeam2942/data_viz/blob/main/Day2MyPython.ipynb\" target=\"_parent\"><img src=\"https://colab.research.google.com/assets/colab-badge.svg\" alt=\"Open In Colab\"/></a>"
      ]
    },
    {
      "cell_type": "markdown",
      "metadata": {
        "id": "-H_8GUn9njwe"
      },
      "source": [
        "## Numpy\r\n",
        "\r\n"
      ]
    },
    {
      "cell_type": "code",
      "metadata": {
        "id": "57JG8wsGWV0-"
      },
      "source": [
        "import numpy as np"
      ],
      "execution_count": 1,
      "outputs": []
    },
    {
      "cell_type": "markdown",
      "metadata": {
        "id": "f8Ub4bA1usOC"
      },
      "source": [
        "### การสร้าง Array มิติต่างๆ"
      ]
    },
    {
      "cell_type": "code",
      "metadata": {
        "colab": {
          "base_uri": "https://localhost:8080/"
        },
        "id": "f0S7OS0toV3o",
        "outputId": "10d2bb6e-4ef4-467c-b8c8-978a96df7246"
      },
      "source": [
        "#การสร้าง array 0 มิติ\r\n",
        "arr = np.array(1)\r\n",
        "arr"
      ],
      "execution_count": 4,
      "outputs": [
        {
          "output_type": "execute_result",
          "data": {
            "text/plain": [
              "array(1)"
            ]
          },
          "metadata": {
            "tags": []
          },
          "execution_count": 4
        }
      ]
    },
    {
      "cell_type": "code",
      "metadata": {
        "colab": {
          "base_uri": "https://localhost:8080/"
        },
        "id": "t1LlfzIBo1yp",
        "outputId": "2cf2a9a2-1732-4401-be31-e83b92b9afee"
      },
      "source": [
        "#การสร้าง array 1 มิติ \r\n",
        "a = np.array([1,2,3])\r\n",
        "a.ndim #เช็คว่า array มีกี่มิติ\r\n",
        "li = [1,2,3,4] #เป็นการสร้าง array โดยใช้ list แล้วค่อยเอาไปยัดใส่ฟังก์ชัน\r\n",
        "b= np.array(li)\r\n",
        "b"
      ],
      "execution_count": 6,
      "outputs": [
        {
          "output_type": "execute_result",
          "data": {
            "text/plain": [
              "array([1, 2, 3, 4])"
            ]
          },
          "metadata": {
            "tags": []
          },
          "execution_count": 6
        }
      ]
    },
    {
      "cell_type": "code",
      "metadata": {
        "colab": {
          "base_uri": "https://localhost:8080/"
        },
        "id": "fxtMKMM9pY8q",
        "outputId": "acdb72b3-a063-467f-a138-05a839f91515"
      },
      "source": [
        "#การสร้าง array 2 มิติ   จะเป็นพิกัดแนวตั้งกับแนวนอน จะมี [[]] 2อัน\r\n",
        "c = np.array([[1,2,3],[4,5,6]]) #แถวที่0คือแถวแรกสุด จะเริ่มนับที่0เสมอ\r\n",
        "c\r\n",
        "c.ndim"
      ],
      "execution_count": 9,
      "outputs": [
        {
          "output_type": "execute_result",
          "data": {
            "text/plain": [
              "2"
            ]
          },
          "metadata": {
            "tags": []
          },
          "execution_count": 9
        }
      ]
    },
    {
      "cell_type": "code",
      "metadata": {
        "colab": {
          "base_uri": "https://localhost:8080/"
        },
        "id": "SavEYL1Fsb_y",
        "outputId": "1ba59c7a-f270-4148-a932-37097133d9f0"
      },
      "source": [
        "li = [[1,2,3],[4,5,6],[7,8,9]] #หมายถึงมี3แถว\r\n",
        "d =np.array(li)\r\n",
        "d"
      ],
      "execution_count": 11,
      "outputs": [
        {
          "output_type": "execute_result",
          "data": {
            "text/plain": [
              "array([[1, 2, 3],\n",
              "       [4, 5, 6],\n",
              "       [7, 8, 9]])"
            ]
          },
          "metadata": {
            "tags": []
          },
          "execution_count": 11
        }
      ]
    },
    {
      "cell_type": "code",
      "metadata": {
        "colab": {
          "base_uri": "https://localhost:8080/"
        },
        "id": "JvVSCbGbtLqi",
        "outputId": "f005b7a7-56b9-4dac-cc90-333388020dea"
      },
      "source": [
        "#การสร้าง array 3 มิติ \r\n",
        "k=np.array([[[1,2,3],[4,5,6]]])\r\n",
        "k\r\n",
        "k.ndim"
      ],
      "execution_count": 14,
      "outputs": [
        {
          "output_type": "execute_result",
          "data": {
            "text/plain": [
              "3"
            ]
          },
          "metadata": {
            "tags": []
          },
          "execution_count": 14
        }
      ]
    },
    {
      "cell_type": "code",
      "metadata": {
        "id": "ggG5IMCfuZzZ"
      },
      "source": [
        ""
      ],
      "execution_count": null,
      "outputs": []
    }
  ]
}