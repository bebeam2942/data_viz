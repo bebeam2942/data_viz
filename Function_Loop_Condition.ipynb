{
  "nbformat": 4,
  "nbformat_minor": 0,
  "metadata": {
    "colab": {
      "name": "Function_Loop_Condition.ipynb",
      "provenance": [],
      "authorship_tag": "ABX9TyP7UzMNXCixIba9fPHfJzfi",
      "include_colab_link": true
    },
    "kernelspec": {
      "name": "python3",
      "display_name": "Python 3"
    }
  },
  "cells": [
    {
      "cell_type": "markdown",
      "metadata": {
        "id": "view-in-github",
        "colab_type": "text"
      },
      "source": [
        "<a href=\"https://colab.research.google.com/github/bebeam2942/data_viz/blob/main/Function_Loop_Condition.ipynb\" target=\"_parent\"><img src=\"https://colab.research.google.com/assets/colab-badge.svg\" alt=\"Open In Colab\"/></a>"
      ]
    },
    {
      "cell_type": "code",
      "metadata": {
        "colab": {
          "base_uri": "https://localhost:8080/"
        },
        "id": "4fE3KWTUe2S1",
        "outputId": "991e997e-a1e0-419b-8b27-9c98b2aae19c"
      },
      "source": [
        "name = 'ชลธิชา'\r\n",
        "surname = 'ภูลคร'\r\n",
        "ID = '613020548-7'\r\n",
        "\r\n",
        "b = (f' ชื่อ {name} นามสกุล {surname} รหัสนักศึกษา {ID}')\r\n",
        "print(b)"
      ],
      "execution_count": null,
      "outputs": [
        {
          "output_type": "stream",
          "text": [
            " ชื่อ ชลธิชา นามสกุล ภูลคร รหัสนักศึกษา 613020548-7\n"
          ],
          "name": "stdout"
        }
      ]
    },
    {
      "cell_type": "markdown",
      "metadata": {
        "id": "rtLoZ-DYj6yN"
      },
      "source": [
        "backtick ( ` ) ==> กด Alt + กด 9 ปล่อย แล้วกด 6 ###เป็นการไฮไลท์สีเทา  \\\r\n",
        "tide ( ~ ) \\\r\n",
        "curly bracket ({ }) \\\r\n",
        "square bracket ([])\r\n",
        "\r\n",
        "\r\n"
      ]
    },
    {
      "cell_type": "markdown",
      "metadata": {
        "id": "O0DVgfy8ma5T"
      },
      "source": [
        "## function มีส่วนสำคัญทั้งหมด 4 ส่วน"
      ]
    },
    {
      "cell_type": "markdown",
      "metadata": {
        "id": "K0Wk8yPDnMUq"
      },
      "source": [
        "### ตัวอย่างการเขียน function\r\n"
      ]
    },
    {
      "cell_type": "code",
      "metadata": {
        "id": "aQKdd1e1lB96"
      },
      "source": [
        "def print_name(surname,ID,name):\r\n",
        "    st =  f' ชื่อ {name}  นามสกุล  {surname}  รหัสนักศึกษา {ID}'\r\n",
        "    return st"
      ],
      "execution_count": null,
      "outputs": []
    },
    {
      "cell_type": "code",
      "metadata": {
        "colab": {
          "base_uri": "https://localhost:8080/",
          "height": 35
        },
        "id": "5I7rv4UdlYKO",
        "outputId": "530f3fb1-6415-4d67-9c2d-42c512e8ea4a"
      },
      "source": [
        "print_name('ภูลคร','613020548-7','ชลธิชา')"
      ],
      "execution_count": null,
      "outputs": [
        {
          "output_type": "execute_result",
          "data": {
            "application/vnd.google.colaboratory.intrinsic+json": {
              "type": "string"
            },
            "text/plain": [
              "' ชื่อ ชลธิชา  นามสกุล  ภูลคร  รหัสนักศึกษา 613020548-7'"
            ]
          },
          "metadata": {
            "tags": []
          },
          "execution_count": 12
        }
      ]
    },
    {
      "cell_type": "code",
      "metadata": {
        "colab": {
          "base_uri": "https://localhost:8080/"
        },
        "id": "rZlTUB86n1YX",
        "outputId": "580742b5-8227-4148-af89-2643dfd5dde8"
      },
      "source": [
        "print(print_name(name='ชลธิชา',surname='ภูลคร',ID='613020548-7'))"
      ],
      "execution_count": null,
      "outputs": [
        {
          "output_type": "stream",
          "text": [
            " ชื่อ ชลธิชา  นามสกุล  ภูลคร  รหัสนักศึกษา 613020548-7\n"
          ],
          "name": "stdout"
        }
      ]
    },
    {
      "cell_type": "markdown",
      "metadata": {
        "id": "zEyfsWYrpaVH"
      },
      "source": [
        ""
      ]
    },
    {
      "cell_type": "code",
      "metadata": {
        "id": "NcLfmkz8pW8o"
      },
      "source": [
        "def print_name2(surname,ID,name):\r\n",
        "    st =  f' ชื่อ {name}  นามสกุล  {surname}  รหัสนักศึกษา {ID}'\r\n",
        "    print(st)"
      ],
      "execution_count": null,
      "outputs": []
    },
    {
      "cell_type": "code",
      "metadata": {
        "colab": {
          "base_uri": "https://localhost:8080/"
        },
        "id": "VWMfK2mYpylE",
        "outputId": "71361878-d890-45e4-deac-67b9d429ffea"
      },
      "source": [
        "print_name2(name='ชลธิชา',surname='ภูลคร',ID='613020548-7')"
      ],
      "execution_count": null,
      "outputs": [
        {
          "output_type": "stream",
          "text": [
            " ชื่อ ชลธิชา  นามสกุล  ภูลคร  รหัสนักศึกษา 613020548-7\n"
          ],
          "name": "stdout"
        }
      ]
    },
    {
      "cell_type": "markdown",
      "metadata": {
        "id": "fZBobJ6CqWGS"
      },
      "source": [
        "ฟังก์ชันไม่จำเป็นต้องมี input "
      ]
    },
    {
      "cell_type": "code",
      "metadata": {
        "id": "O9cW8c3JqBX8"
      },
      "source": [
        "def Pi ():\r\n",
        "      return 3.14159265359"
      ],
      "execution_count": null,
      "outputs": []
    },
    {
      "cell_type": "code",
      "metadata": {
        "colab": {
          "base_uri": "https://localhost:8080/"
        },
        "id": "8AzIZOLmrIo8",
        "outputId": "b9955497-e573-4e7b-dcbe-72072457c12c"
      },
      "source": [
        "Pi()*(2**2) # หาพื้นที่ของวงกลมรัศมีเท่ากับ Pi * r^2"
      ],
      "execution_count": null,
      "outputs": [
        {
          "output_type": "execute_result",
          "data": {
            "text/plain": [
              "12.56637061436"
            ]
          },
          "metadata": {
            "tags": []
          },
          "execution_count": 20
        }
      ]
    },
    {
      "cell_type": "markdown",
      "metadata": {
        "id": "F05Bhn58rdZh"
      },
      "source": [
        "เราสามารถกำหนดค่า drfauil ให้กันฟังก์ชั่นได้ (ค่าเริ่มต้น) \r\n",
        " ###### เช่นค่าไม่ได้พิมอะไรลงไปในฟังก์ ฟังก์ชันที่ขึ้นค่าเริ่มต้นให้"
      ]
    },
    {
      "cell_type": "code",
      "metadata": {
        "id": "OkFji5JgrRXa"
      },
      "source": [
        "def print_2lines_default(name,surname,ID,grade='F'):\r\n",
        "    st = f'ชื่อ {name} นามสกุล {surname} รหัส {ID}'\r\n",
        "    print (st)\r\n",
        "    st2=f'เกรดวิชา Data Viz >>> {grade}'\r\n",
        "    print(st2)  "
      ],
      "execution_count": null,
      "outputs": []
    },
    {
      "cell_type": "code",
      "metadata": {
        "colab": {
          "base_uri": "https://localhost:8080/"
        },
        "id": "HGeiezc-Rl_8",
        "outputId": "de5b3489-2159-4d7e-9994-0bf072e778fa"
      },
      "source": [
        "print_2lines_default('ชลธิชา','ภูลคร','613020548-7')"
      ],
      "execution_count": null,
      "outputs": [
        {
          "output_type": "stream",
          "text": [
            "ชื่อ ชลธิชา นามสกุล ภูลคร รหัส 613020548-7\n",
            "เกรดวิชา Data Viz >>> F\n"
          ],
          "name": "stdout"
        }
      ]
    },
    {
      "cell_type": "code",
      "metadata": {
        "colab": {
          "base_uri": "https://localhost:8080/"
        },
        "id": "Ugezl3Q9R9Cz",
        "outputId": "573c6dcd-d9c9-4ead-ac90-59790205f230"
      },
      "source": [
        "print_2lines_default('ชลธิชา','ภูลคร','613020548-7','A')"
      ],
      "execution_count": null,
      "outputs": [
        {
          "output_type": "stream",
          "text": [
            "ชื่อ ชลธิชา นามสกุล ภูลคร รหัส 613020548-7\n",
            "เกรดวิชา Data Viz >>> A\n"
          ],
          "name": "stdout"
        }
      ]
    },
    {
      "cell_type": "markdown",
      "metadata": {
        "id": "V-d_n8w567AQ"
      },
      "source": [
        "# LOOP การวนซ้ำ"
      ]
    },
    {
      "cell_type": "markdown",
      "metadata": {
        "id": "J_IDnyNf7AL_"
      },
      "source": [
        "for เป็นคำที่ใช้บอก python ว่าเรากำลังเขียน loop โดย for จะวนดึงสมาชิกจาก listA มาทำ process do_something"
      ]
    },
    {
      "cell_type": "code",
      "metadata": {
        "id": "XhR1XGm_SGQB",
        "outputId": "861fe18a-a4f2-41c6-88c9-a86c619cb052",
        "colab": {
          "base_uri": "https://localhost:8080/"
        }
      },
      "source": [
        "for i in [1,2,3] :\r\n",
        "    o = i**2\r\n",
        "    print (f'this member = {i} after process = {o}')"
      ],
      "execution_count": 5,
      "outputs": [
        {
          "output_type": "stream",
          "text": [
            "this member = 1 after process = 1\n",
            "this member = 2 after process = 4\n",
            "this member = 3 after process = 9\n"
          ],
          "name": "stdout"
        }
      ]
    },
    {
      "cell_type": "markdown",
      "metadata": {
        "id": "xbYfRHmz7HBG"
      },
      "source": [
        "ตัวอย่างการใช้คำสั่ง for ในการวนซ้ำค่าของ i เมื่อ i คือ 'Thanapong' และคำสั่ง print(f'{i} -> /') เพื่อกำหนดให้ผลลัพธ์แสดงสัญลักษณ์ -> / จากนั้นเพิ่มคำสั่ง print(' ') อีกครั้งเพื่อให้ผลลัพธ์มีการเว้นวรรค¶"
      ]
    },
    {
      "cell_type": "code",
      "metadata": {
        "id": "jV7sq-N77IHK",
        "outputId": "509d5fc6-e71d-4f49-dca2-130b41749f92",
        "colab": {
          "base_uri": "https://localhost:8080/"
        }
      },
      "source": [
        "for i in 'Chonticha':\r\n",
        "    print(f'{i} -> / ' )"
      ],
      "execution_count": 6,
      "outputs": [
        {
          "output_type": "stream",
          "text": [
            "C -> / \n",
            "h -> / \n",
            "o -> / \n",
            "n -> / \n",
            "t -> / \n",
            "i -> / \n",
            "c -> / \n",
            "h -> / \n",
            "a -> / \n"
          ],
          "name": "stdout"
        }
      ]
    },
    {
      "cell_type": "code",
      "metadata": {
        "id": "7uf2601V7N5z",
        "outputId": "1b7ecbb3-8255-4c4b-e1bd-520341ce61b1",
        "colab": {
          "base_uri": "https://localhost:8080/"
        }
      },
      "source": [
        "for i in 'Chonticha':\r\n",
        "    print(f'{i} -> / ' ,end = '') #สั่งให้ print แบบ ไม่เว้นบรรทัด"
      ],
      "execution_count": 7,
      "outputs": [
        {
          "output_type": "stream",
          "text": [
            "C -> / h -> / o -> / n -> / t -> / i -> / c -> / h -> / a -> / "
          ],
          "name": "stdout"
        }
      ]
    },
    {
      "cell_type": "code",
      "metadata": {
        "id": "7aGxwHKa7USh",
        "outputId": "1b237452-5f05-423a-f14e-04eb7b49b06f",
        "colab": {
          "base_uri": "https://localhost:8080/"
        }
      },
      "source": [
        "for i in 'Chonticha':\r\n",
        "    print(f'{i} -> / ' ,end = ',') #สั่งให้ print แบบ ไม่เว้นบรรทัด"
      ],
      "execution_count": 8,
      "outputs": [
        {
          "output_type": "stream",
          "text": [
            "C -> / ,h -> / ,o -> / ,n -> / ,t -> / ,i -> / ,c -> / ,h -> / ,a -> / ,"
          ],
          "name": "stdout"
        }
      ]
    },
    {
      "cell_type": "markdown",
      "metadata": {
        "id": "gVd8gRCH7ZwQ"
      },
      "source": [
        "สร้าง list ตัวเลขแบบอัตโนมัติ range()"
      ]
    },
    {
      "cell_type": "code",
      "metadata": {
        "id": "3PW9q2Wz7cVv",
        "outputId": "3f767a2a-446a-443b-8ccc-e32f2d1d9dcb",
        "colab": {
          "base_uri": "https://localhost:8080/"
        }
      },
      "source": [
        "range5_output = range(5)\r\n",
        "print(list(range5_output))"
      ],
      "execution_count": 9,
      "outputs": [
        {
          "output_type": "stream",
          "text": [
            "[0, 1, 2, 3, 4]\n"
          ],
          "name": "stdout"
        }
      ]
    },
    {
      "cell_type": "code",
      "metadata": {
        "id": "kMChNNiP7fAS",
        "outputId": "3c9526eb-44b3-491f-857a-e40de6798202",
        "colab": {
          "base_uri": "https://localhost:8080/"
        }
      },
      "source": [
        "for i in range(100):\r\n",
        "    print('งง',end=' ')"
      ],
      "execution_count": 10,
      "outputs": [
        {
          "output_type": "stream",
          "text": [
            "งง งง งง งง งง งง งง งง งง งง งง งง งง งง งง งง งง งง งง งง งง งง งง งง งง งง งง งง งง งง งง งง งง งง งง งง งง งง งง งง งง งง งง งง งง งง งง งง งง งง งง งง งง งง งง งง งง งง งง งง งง งง งง งง งง งง งง งง งง งง งง งง งง งง งง งง งง งง งง งง งง งง งง งง งง งง งง งง งง งง งง งง งง งง งง งง งง งง งง งง "
          ],
          "name": "stdout"
        }
      ]
    },
    {
      "cell_type": "code",
      "metadata": {
        "id": "2nRBAbPb7iyX",
        "outputId": "5bc888fa-c70e-4914-a321-2b6f3cf5240f",
        "colab": {
          "base_uri": "https://localhost:8080/"
        }
      },
      "source": [
        "list(range(1,11)) #เริ่มต้นเป็นวงทึบ จบเป็นวงกลมโปร่ง เหมือน list slicing"
      ],
      "execution_count": 11,
      "outputs": [
        {
          "output_type": "execute_result",
          "data": {
            "text/plain": [
              "[1, 2, 3, 4, 5, 6, 7, 8, 9, 10]"
            ]
          },
          "metadata": {
            "tags": []
          },
          "execution_count": 11
        }
      ]
    },
    {
      "cell_type": "code",
      "metadata": {
        "id": "k1g0SwRc7mWL",
        "outputId": "7ee650e7-f98f-404a-98ed-c3083ae36e13",
        "colab": {
          "base_uri": "https://localhost:8080/"
        }
      },
      "source": [
        "list(range(-3,20,4))"
      ],
      "execution_count": 12,
      "outputs": [
        {
          "output_type": "execute_result",
          "data": {
            "text/plain": [
              "[-3, 1, 5, 9, 13, 17]"
            ]
          },
          "metadata": {
            "tags": []
          },
          "execution_count": 12
        }
      ]
    },
    {
      "cell_type": "markdown",
      "metadata": {
        "id": "7FoyqOpr7pUe"
      },
      "source": [
        "### loop in loop\r\n"
      ]
    },
    {
      "cell_type": "markdown",
      "metadata": {
        "id": "GM97xJuE7t5q"
      },
      "source": [
        "สามารถใช้ for loop ซ้อนกันสองรอบได้"
      ]
    },
    {
      "cell_type": "code",
      "metadata": {
        "id": "Lmxu-BCP7rzk",
        "outputId": "bf3f5ab0-4475-4dc8-b8af-0dfbbe2fe4f0",
        "colab": {
          "base_uri": "https://localhost:8080/"
        }
      },
      "source": [
        "for name1 in  range(2,5): #(2, 3, 4)\r\n",
        "    print(f'now name1 = {name1}')\r\n",
        "    for name2 in  range(1,13):\r\n",
        "        print(name1,' x ',name2,' = ',name1*name2)\r\n",
        "    print('the inner loop is end')"
      ],
      "execution_count": 13,
      "outputs": [
        {
          "output_type": "stream",
          "text": [
            "now name1 = 2\n",
            "2  x  1  =  2\n",
            "2  x  2  =  4\n",
            "2  x  3  =  6\n",
            "2  x  4  =  8\n",
            "2  x  5  =  10\n",
            "2  x  6  =  12\n",
            "2  x  7  =  14\n",
            "2  x  8  =  16\n",
            "2  x  9  =  18\n",
            "2  x  10  =  20\n",
            "2  x  11  =  22\n",
            "2  x  12  =  24\n",
            "the inner loop is end\n",
            "now name1 = 3\n",
            "3  x  1  =  3\n",
            "3  x  2  =  6\n",
            "3  x  3  =  9\n",
            "3  x  4  =  12\n",
            "3  x  5  =  15\n",
            "3  x  6  =  18\n",
            "3  x  7  =  21\n",
            "3  x  8  =  24\n",
            "3  x  9  =  27\n",
            "3  x  10  =  30\n",
            "3  x  11  =  33\n",
            "3  x  12  =  36\n",
            "the inner loop is end\n",
            "now name1 = 4\n",
            "4  x  1  =  4\n",
            "4  x  2  =  8\n",
            "4  x  3  =  12\n",
            "4  x  4  =  16\n",
            "4  x  5  =  20\n",
            "4  x  6  =  24\n",
            "4  x  7  =  28\n",
            "4  x  8  =  32\n",
            "4  x  9  =  36\n",
            "4  x  10  =  40\n",
            "4  x  11  =  44\n",
            "4  x  12  =  48\n",
            "the inner loop is end\n"
          ],
          "name": "stdout"
        }
      ]
    },
    {
      "cell_type": "markdown",
      "metadata": {
        "id": "svGtbMNp70OJ"
      },
      "source": [
        "### loop in function\r\n",
        "การวนลูปในฟังก์ชั่น¶"
      ]
    },
    {
      "cell_type": "code",
      "metadata": {
        "id": "40o1674E7x0g"
      },
      "source": [
        "def print_feelings(I,friendS,feeling = 'คิดถึง'):\r\n",
        "    for friend in friendS:\r\n",
        "        print(f'{I} {feeling} {friend}')"
      ],
      "execution_count": 14,
      "outputs": []
    },
    {
      "cell_type": "code",
      "metadata": {
        "id": "Nd8ZH3Cf766d"
      },
      "source": [
        "list_friends = ['หมู','หมา','กา','ไก่']"
      ],
      "execution_count": 16,
      "outputs": []
    },
    {
      "cell_type": "code",
      "metadata": {
        "id": "8V6NAtf68R5t",
        "outputId": "4b8971c7-b27c-43ee-ecef-23ec82ab06b1",
        "colab": {
          "base_uri": "https://localhost:8080/"
        }
      },
      "source": [
        "print_feelings('บีม',list_friends)"
      ],
      "execution_count": 17,
      "outputs": [
        {
          "output_type": "stream",
          "text": [
            "บีม คิดถึง หมู\n",
            "บีม คิดถึง หมา\n",
            "บีม คิดถึง กา\n",
            "บีม คิดถึง ไก่\n"
          ],
          "name": "stdout"
        }
      ]
    },
    {
      "cell_type": "code",
      "metadata": {
        "id": "bxLGvNL_8bIO",
        "outputId": "508d864f-5d8e-48be-d3d5-3beb597a6fc5",
        "colab": {
          "base_uri": "https://localhost:8080/"
        }
      },
      "source": [
        "\r\n",
        "print_feelings('บีม',list_friends,feeling='รัก')"
      ],
      "execution_count": 18,
      "outputs": [
        {
          "output_type": "stream",
          "text": [
            "บีม รัก หมู\n",
            "บีม รัก หมา\n",
            "บีม รัก กา\n",
            "บีม รัก ไก่\n"
          ],
          "name": "stdout"
        }
      ]
    },
    {
      "cell_type": "markdown",
      "metadata": {
        "id": "nOAtDRDu8mO-"
      },
      "source": [
        "conditional คือ เงื่อนไข /ประโยคเงื่อนไข\r\n",
        "True / False\r\n",
        "การวนลูปโดยมีเงื่อนไขต่างๆมาเกี่ยวข้อง โดยมี pattern ดังนี้"
      ]
    },
    {
      "cell_type": "code",
      "metadata": {
        "id": "JbJEqUrP8ndS",
        "outputId": "c68c7ee3-c25a-4840-a181-a9e26a7b6fed",
        "colab": {
          "base_uri": "https://localhost:8080/"
        }
      },
      "source": [
        "print(list_friends)"
      ],
      "execution_count": 19,
      "outputs": [
        {
          "output_type": "stream",
          "text": [
            "['หมู', 'หมา', 'กา', 'ไก่']\n"
          ],
          "name": "stdout"
        }
      ]
    },
    {
      "cell_type": "code",
      "metadata": {
        "id": "OCF9oyxT8tbG",
        "outputId": "532d058f-476b-43bf-a362-cf21e617ef72",
        "colab": {
          "base_uri": "https://localhost:8080/"
        }
      },
      "source": [
        "for name1 in list_friends :\r\n",
        "    for name2 in list_friends :\r\n",
        "            print(name1,'รัก',name2)"
      ],
      "execution_count": 20,
      "outputs": [
        {
          "output_type": "stream",
          "text": [
            "หมู รัก หมู\n",
            "หมู รัก หมา\n",
            "หมู รัก กา\n",
            "หมู รัก ไก่\n",
            "หมา รัก หมู\n",
            "หมา รัก หมา\n",
            "หมา รัก กา\n",
            "หมา รัก ไก่\n",
            "กา รัก หมู\n",
            "กา รัก หมา\n",
            "กา รัก กา\n",
            "กา รัก ไก่\n",
            "ไก่ รัก หมู\n",
            "ไก่ รัก หมา\n",
            "ไก่ รัก กา\n",
            "ไก่ รัก ไก่\n"
          ],
          "name": "stdout"
        }
      ]
    },
    {
      "cell_type": "code",
      "metadata": {
        "id": "LvyZRlEC8y8H",
        "outputId": "df69adb2-1d5e-483e-c09f-d1243130b41c",
        "colab": {
          "base_uri": "https://localhost:8080/"
        }
      },
      "source": [
        "for name1 in list_friends:\r\n",
        "    for name2 in list_friends:\r\n",
        "        if name1 == name2: #ปริ้นชื่อคนเดียวกันซ้ำ\r\n",
        "            print(name1,'รัก',name2)"
      ],
      "execution_count": 21,
      "outputs": [
        {
          "output_type": "stream",
          "text": [
            "หมู รัก หมู\n",
            "หมา รัก หมา\n",
            "กา รัก กา\n",
            "ไก่ รัก ไก่\n"
          ],
          "name": "stdout"
        }
      ]
    },
    {
      "cell_type": "code",
      "metadata": {
        "id": "4d1WYby185oS",
        "outputId": "e83fc7f7-7cb2-425b-a09b-5352fe893aef",
        "colab": {
          "base_uri": "https://localhost:8080/"
        }
      },
      "source": [
        "\r\n",
        "for name1 in list_friends:\r\n",
        "    for name2 in list_friends:\r\n",
        "        if name1 == name2: \r\n",
        "            'do nothing'\r\n",
        "        else:\r\n",
        "            print(name1,'รัก',name2)"
      ],
      "execution_count": 22,
      "outputs": [
        {
          "output_type": "stream",
          "text": [
            "หมู รัก หมา\n",
            "หมู รัก กา\n",
            "หมู รัก ไก่\n",
            "หมา รัก หมู\n",
            "หมา รัก กา\n",
            "หมา รัก ไก่\n",
            "กา รัก หมู\n",
            "กา รัก หมา\n",
            "กา รัก ไก่\n",
            "ไก่ รัก หมู\n",
            "ไก่ รัก หมา\n",
            "ไก่ รัก กา\n"
          ],
          "name": "stdout"
        }
      ]
    },
    {
      "cell_type": "markdown",
      "metadata": {
        "id": "opBbqyy289yK"
      },
      "source": [
        "==, !=,>=,<=,<,>"
      ]
    },
    {
      "cell_type": "code",
      "metadata": {
        "id": "LCZmJrGA878f",
        "outputId": "373ac335-7535-4c91-d8e1-3d78c7f6fbf9",
        "colab": {
          "base_uri": "https://localhost:8080/"
        }
      },
      "source": [
        "'A' == 'B'"
      ],
      "execution_count": 23,
      "outputs": [
        {
          "output_type": "execute_result",
          "data": {
            "text/plain": [
              "False"
            ]
          },
          "metadata": {
            "tags": []
          },
          "execution_count": 23
        }
      ]
    },
    {
      "cell_type": "code",
      "metadata": {
        "id": "otBecaQc9Eda",
        "outputId": "23782097-f867-493d-d4a8-44049f0b8f68",
        "colab": {
          "base_uri": "https://localhost:8080/"
        }
      },
      "source": [
        "'A' != 'B'"
      ],
      "execution_count": 24,
      "outputs": [
        {
          "output_type": "execute_result",
          "data": {
            "text/plain": [
              "True"
            ]
          },
          "metadata": {
            "tags": []
          },
          "execution_count": 24
        }
      ]
    },
    {
      "cell_type": "markdown",
      "metadata": {
        "id": "tRs0GODh9IcH"
      },
      "source": [
        "หากหลังเงื่อนไข True ถูกต้องจะทำการ print ข้อความออกมาว่า Yes"
      ]
    },
    {
      "cell_type": "code",
      "metadata": {
        "id": "9XFznlkj9JL8",
        "outputId": "befcbc84-0571-4352-e74d-117ceddce801",
        "colab": {
          "base_uri": "https://localhost:8080/"
        }
      },
      "source": [
        "if True:\r\n",
        "    print('Yes')"
      ],
      "execution_count": 25,
      "outputs": [
        {
          "output_type": "stream",
          "text": [
            "Yes\n"
          ],
          "name": "stdout"
        }
      ]
    },
    {
      "cell_type": "code",
      "metadata": {
        "id": "Fc_jYT7-9NGa"
      },
      "source": [
        "if False:\r\n",
        "    print('No')"
      ],
      "execution_count": 26,
      "outputs": []
    },
    {
      "cell_type": "markdown",
      "metadata": {
        "id": "D8EbtgaO9QNn"
      },
      "source": [
        "หากหลังเงื่อนไข False ไม่ถูกต้องจะไม่ปริ้นข้อความใดๆออกมา\r\n",
        "ซึ่งจะต้องใช้เงื่อนไขนี้ จึงจะได้ปริ้นค่าเงื่อนไขนั้นออกมา ดังนี้"
      ]
    },
    {
      "cell_type": "code",
      "metadata": {
        "id": "wLIOoDmP9Q6Z",
        "outputId": "d794db23-3340-4b31-c737-009be35b0b53",
        "colab": {
          "base_uri": "https://localhost:8080/"
        }
      },
      "source": [
        "if False:\r\n",
        "    print('Yes')\r\n",
        "else:\r\n",
        "    print('No')"
      ],
      "execution_count": 27,
      "outputs": [
        {
          "output_type": "stream",
          "text": [
            "No\n"
          ],
          "name": "stdout"
        }
      ]
    },
    {
      "cell_type": "markdown",
      "metadata": {
        "id": "KySQTn77zHOS"
      },
      "source": [
        "#HW\r\n",
        "เขียน function ตัดเกรด โดยที่ iputเป็นคะแนน(0-100) ,output เป็นเกรด (F-A)\r\n",
        "วนลูป input [1,50,65,90,101,-5,49]\r\n",
        "\r\n",
        "กำหนด\r\n",
        "\r\n",
        "  ถ้าคะแนนอยู่ระหว่างมากกว่าหรือเท่ากับ  0  แต่น้อยกว่า 50 จะได้เกรด F \r\n",
        "\r\n",
        "  ถ้าคะแนนอยู่ระหว่างมากกว่าหรือเท่ากับ 50 แต่น้อยกว่า 55 จะได้เกรด D\r\n",
        "  \r\n",
        "  ถ้าคะแนนอยู่ระหว่างมากกว่าหรือเท่ากับ 55 แต่น้อยกว่า 60 จะได้เกรด D+\r\n",
        "  \r\n",
        "  ถ้าคะแนนอยู่ระหว่างมากกว่าหรือเท่ากับ 60 แต่น้อยกว่า 65 จะได้เกรด C\r\n",
        "  \r\n",
        "  ถ้าคะแนนอยู่ระหว่างมากกว่าหรือเท่ากับ 65 แต่น้อยกว่า 70 จะได้เกรด C+\r\n",
        "  \r\n",
        "  ถ้าคะแนนอยู่ระหว่างมากกว่าหรือเท่ากับ 70 แต่น้อยกว่า 75 จะได้เกรด B\r\n",
        "  \r\n",
        "  ถ้าคะแนนอยู่ระหว่างมากกว่าหรือเท่ากับ 75 แต่น้อยกว่า 80 จะได้เกรด B+\r\n",
        "  \r\n",
        "  ถ้าคะแนนอยู่ระหว่างมากกว่าหรือเท่ากับ 80  จะได้เกรด A\r\n",
        "  \r\n",
        "  แต่ว่าค่าคะแนนจะต้องไม่ต่ำกว่า 0 และมากกว่า 100 ไม่งั้นจะเกิด error"
      ]
    },
    {
      "cell_type": "code",
      "metadata": {
        "id": "4QTenaKMziJq"
      },
      "source": [
        "def Grade(point) :\r\n",
        "      if point<0 :\r\n",
        "         print(f' คะแนนเท่ากับ {point}  error')\r\n",
        "      elif 0 <= point < 50 :\r\n",
        "         print(f' คะแนนเท่ากับ {point} จะได้เกรด F ')\r\n",
        "      elif 50 <= point < 55 :\r\n",
        "         print(f' คะแนนเท่ากับ {point} จะได้เกรด D ')\r\n",
        "      elif 55 <= point < 60 :\r\n",
        "         print(f' คะแนนเท่ากับ {point} จะได้เกรด D+ ')\r\n",
        "      elif 60 <= point < 65 :\r\n",
        "         print(f' คะแนนเท่ากับ {point} จะได้เกรด C ')\r\n",
        "      elif 65 <= point < 70 :\r\n",
        "         print(f' คะแนนเท่ากับ {point} จะได้เกรด C+ ')\r\n",
        "      elif 70 <= point < 75 :\r\n",
        "         print(f' คะแนนเท่ากับ {point} จะได้เกรด B ')\r\n",
        "      elif 75 <= point < 80 :\r\n",
        "         print(f' คะแนนเท่ากับ {point} จะได้เกรด B+ ')\r\n",
        "      elif 80 <= point <101 :\r\n",
        "         print(f' คะแนนเท่ากับ {point} จะได้เกรด A ')\r\n",
        "      elif  point > 100 :\r\n",
        "         print(f' คะแนนเท่ากับ {point}  error ')\r\n",
        "\r\n",
        "        \r\n",
        "         "
      ],
      "execution_count": 2,
      "outputs": []
    },
    {
      "cell_type": "code",
      "metadata": {
        "id": "1H3Qq-cp2HNW"
      },
      "source": [
        "list_Grade = [1,50,65,90,101,-5,49]\r\n"
      ],
      "execution_count": 3,
      "outputs": []
    },
    {
      "cell_type": "code",
      "metadata": {
        "id": "VKX3xLvk2oj4",
        "outputId": "a46f4677-88a7-4517-e586-67e473548f6b",
        "colab": {
          "base_uri": "https://localhost:8080/"
        }
      },
      "source": [
        "for i in list_Grade : \r\n",
        "     Grade(i)"
      ],
      "execution_count": 4,
      "outputs": [
        {
          "output_type": "stream",
          "text": [
            " คะแนนเท่ากับ 1 จะได้เกรด F \n",
            " คะแนนเท่ากับ 50 จะได้เกรด D \n",
            " คะแนนเท่ากับ 65 จะได้เกรด C+ \n",
            " คะแนนเท่ากับ 90 จะได้เกรด A \n",
            " คะแนนเท่ากับ 101  error \n",
            " คะแนนเท่ากับ -5  error\n",
            " คะแนนเท่ากับ 49 จะได้เกรด F \n"
          ],
          "name": "stdout"
        }
      ]
    },
    {
      "cell_type": "code",
      "metadata": {
        "id": "s4HtZEMU25hZ"
      },
      "source": [
        ""
      ],
      "execution_count": null,
      "outputs": []
    }
  ]
}