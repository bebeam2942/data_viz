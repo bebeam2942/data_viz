{
  "nbformat": 4,
  "nbformat_minor": 0,
  "metadata": {
    "colab": {
      "name": "Function_Loop_Condition.ipynb",
      "provenance": [],
      "authorship_tag": "ABX9TyNgxCVBEjQn5yBIqCk26EG2",
      "include_colab_link": true
    },
    "kernelspec": {
      "name": "python3",
      "display_name": "Python 3"
    }
  },
  "cells": [
    {
      "cell_type": "markdown",
      "metadata": {
        "id": "view-in-github",
        "colab_type": "text"
      },
      "source": [
        "<a href=\"https://colab.research.google.com/github/bebeam2942/data_viz/blob/main/Function_Loop_Condition.ipynb\" target=\"_parent\"><img src=\"https://colab.research.google.com/assets/colab-badge.svg\" alt=\"Open In Colab\"/></a>"
      ]
    },
    {
      "cell_type": "code",
      "metadata": {
        "colab": {
          "base_uri": "https://localhost:8080/"
        },
        "id": "4fE3KWTUe2S1",
        "outputId": "991e997e-a1e0-419b-8b27-9c98b2aae19c"
      },
      "source": [
        "name = 'ชลธิชา'\r\n",
        "surname = 'ภูลคร'\r\n",
        "ID = '613020548-7'\r\n",
        "\r\n",
        "b = (f' ชื่อ {name} นามสกุล {surname} รหัสนักศึกษา {ID}')\r\n",
        "print(b)"
      ],
      "execution_count": 6,
      "outputs": [
        {
          "output_type": "stream",
          "text": [
            " ชื่อ ชลธิชา นามสกุล ภูลคร รหัสนักศึกษา 613020548-7\n"
          ],
          "name": "stdout"
        }
      ]
    },
    {
      "cell_type": "markdown",
      "metadata": {
        "id": "rtLoZ-DYj6yN"
      },
      "source": [
        "backtick ( ` ) ==> กด Alt + กด 9 ปล่อย แล้วกด 6 ###เป็นการไฮไลท์สีเทา  \\\r\n",
        "tide ( ~ ) \\\r\n",
        "curly bracket ({ }) \\\r\n",
        "square bracket ([])\r\n",
        "\r\n",
        "\r\n"
      ]
    },
    {
      "cell_type": "markdown",
      "metadata": {
        "id": "O0DVgfy8ma5T"
      },
      "source": [
        "## function มีส่วนสำคัญทั้งหมด 4 ส่วน"
      ]
    },
    {
      "cell_type": "markdown",
      "metadata": {
        "id": "K0Wk8yPDnMUq"
      },
      "source": [
        "### ตัวอย่างการเขียน function\r\n"
      ]
    },
    {
      "cell_type": "code",
      "metadata": {
        "id": "aQKdd1e1lB96"
      },
      "source": [
        "def print_name(surname,ID,name):\r\n",
        "    st =  f' ชื่อ {name}  นามสกุล  {surname}  รหัสนักศึกษา {ID}'\r\n",
        "    return st"
      ],
      "execution_count": 11,
      "outputs": []
    },
    {
      "cell_type": "code",
      "metadata": {
        "colab": {
          "base_uri": "https://localhost:8080/",
          "height": 35
        },
        "id": "5I7rv4UdlYKO",
        "outputId": "530f3fb1-6415-4d67-9c2d-42c512e8ea4a"
      },
      "source": [
        "print_name('ภูลคร','613020548-7','ชลธิชา')"
      ],
      "execution_count": 12,
      "outputs": [
        {
          "output_type": "execute_result",
          "data": {
            "application/vnd.google.colaboratory.intrinsic+json": {
              "type": "string"
            },
            "text/plain": [
              "' ชื่อ ชลธิชา  นามสกุล  ภูลคร  รหัสนักศึกษา 613020548-7'"
            ]
          },
          "metadata": {
            "tags": []
          },
          "execution_count": 12
        }
      ]
    },
    {
      "cell_type": "code",
      "metadata": {
        "colab": {
          "base_uri": "https://localhost:8080/"
        },
        "id": "rZlTUB86n1YX",
        "outputId": "580742b5-8227-4148-af89-2643dfd5dde8"
      },
      "source": [
        "print(print_name(name='ชลธิชา',surname='ภูลคร',ID='613020548-7'))"
      ],
      "execution_count": 13,
      "outputs": [
        {
          "output_type": "stream",
          "text": [
            " ชื่อ ชลธิชา  นามสกุล  ภูลคร  รหัสนักศึกษา 613020548-7\n"
          ],
          "name": "stdout"
        }
      ]
    },
    {
      "cell_type": "markdown",
      "metadata": {
        "id": "zEyfsWYrpaVH"
      },
      "source": [
        ""
      ]
    },
    {
      "cell_type": "code",
      "metadata": {
        "id": "NcLfmkz8pW8o"
      },
      "source": [
        "def print_name2(surname,ID,name):\r\n",
        "    st =  f' ชื่อ {name}  นามสกุล  {surname}  รหัสนักศึกษา {ID}'\r\n",
        "    print(st)"
      ],
      "execution_count": 14,
      "outputs": []
    },
    {
      "cell_type": "code",
      "metadata": {
        "colab": {
          "base_uri": "https://localhost:8080/"
        },
        "id": "VWMfK2mYpylE",
        "outputId": "71361878-d890-45e4-deac-67b9d429ffea"
      },
      "source": [
        "print_name2(name='ชลธิชา',surname='ภูลคร',ID='613020548-7')"
      ],
      "execution_count": 17,
      "outputs": [
        {
          "output_type": "stream",
          "text": [
            " ชื่อ ชลธิชา  นามสกุล  ภูลคร  รหัสนักศึกษา 613020548-7\n"
          ],
          "name": "stdout"
        }
      ]
    },
    {
      "cell_type": "markdown",
      "metadata": {
        "id": "fZBobJ6CqWGS"
      },
      "source": [
        "ฟังก์ชันไม่จำเป็นต้องมี input "
      ]
    },
    {
      "cell_type": "code",
      "metadata": {
        "id": "O9cW8c3JqBX8"
      },
      "source": [
        "def Pi ():\r\n",
        "      return 3.14159265359"
      ],
      "execution_count": 18,
      "outputs": []
    },
    {
      "cell_type": "code",
      "metadata": {
        "colab": {
          "base_uri": "https://localhost:8080/"
        },
        "id": "8AzIZOLmrIo8",
        "outputId": "b9955497-e573-4e7b-dcbe-72072457c12c"
      },
      "source": [
        "Pi()*(2**2) # หาพื้นที่ของวงกลมรัศมีเท่ากับ Pi * r^2"
      ],
      "execution_count": 20,
      "outputs": [
        {
          "output_type": "execute_result",
          "data": {
            "text/plain": [
              "12.56637061436"
            ]
          },
          "metadata": {
            "tags": []
          },
          "execution_count": 20
        }
      ]
    },
    {
      "cell_type": "markdown",
      "metadata": {
        "id": "F05Bhn58rdZh"
      },
      "source": [
        "เราสามารถกำหนดค่า drfauil ให้กันฟังก์ชั่นได้ (ค่าเริ่มต้น) \r\n",
        " ###### เช่นค่าไม่ได้พิมอะไรลงไปในฟังก์ ฟังก์ชันที่ขึ้นค่าเริ่มต้นให้"
      ]
    },
    {
      "cell_type": "code",
      "metadata": {
        "id": "OkFji5JgrRXa"
      },
      "source": [
        "def  "
      ],
      "execution_count": null,
      "outputs": []
    }
  ]
}