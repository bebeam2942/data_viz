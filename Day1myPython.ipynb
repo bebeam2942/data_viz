{
  "nbformat": 4,
  "nbformat_minor": 0,
  "metadata": {
    "colab": {
      "name": "Day1myPython.ipynb",
      "provenance": [],
      "authorship_tag": "ABX9TyNia0WSaOWJkHY7bYp4Ubp1",
      "include_colab_link": true
    },
    "kernelspec": {
      "name": "python3",
      "display_name": "Python 3"
    }
  },
  "cells": [
    {
      "cell_type": "markdown",
      "metadata": {
        "id": "view-in-github",
        "colab_type": "text"
      },
      "source": [
        "<a href=\"https://colab.research.google.com/github/bebeam2942/data_viz/blob/main/Day1myPython.ipynb\" target=\"_parent\"><img src=\"https://colab.research.google.com/assets/colab-badge.svg\" alt=\"Open In Colab\"/></a>"
      ]
    },
    {
      "cell_type": "code",
      "metadata": {
        "colab": {
          "base_uri": "https://localhost:8080/"
        },
        "id": "FB-OK-UJ_Vkl",
        "outputId": "eebc2f38-30c4-4482-b560-23dc37c6bde4"
      },
      "source": [
        "print(\"beam\")  #คือการคอมเม้นต์ต้องใส่ด้านบนหรือด้านหลังคำสั่ง หรือ \"\"\" \"\"\""
      ],
      "execution_count": 1,
      "outputs": [
        {
          "output_type": "stream",
          "text": [
            "beam\n"
          ],
          "name": "stdout"
        }
      ]
    },
    {
      "cell_type": "code",
      "metadata": {
        "colab": {
          "base_uri": "https://localhost:8080/"
        },
        "id": "TLGB3sB3ADSS",
        "outputId": "f5fca3ff-7097-4b58-8ec5-245da7f2207f"
      },
      "source": [
        "#string => ข้อความ ตัวอักษร ' \"\" '''\r\n",
        "#number => integer , float\r\n",
        "#boolean => true , false ทำงานร่วมกับข้อมูลเปรียบเทียบ\r\n",
        "print(-1) #ถ้าเป็นตัวเลขไม่ต้องใส่ ' '\r\n",
        "print(\"1\"+\"9\") #คือการบวก sting\r\n",
        "print(1+9)\r\n",
        "print(3.99)\r\n",
        "print(True)\r\n",
        "print(False)\r\n",
        "print(\"Chonticha \\n\" + \"Phulakhon\")  # + คือการนำstringมาต่อกัน , \\n คือการขึ้นบรรทัดใหม่"
      ],
      "execution_count": 7,
      "outputs": [
        {
          "output_type": "stream",
          "text": [
            "-1\n",
            "19\n",
            "10\n",
            "3.99\n",
            "True\n",
            "False\n",
            "Chonticha \n",
            "Phulakhon\n"
          ],
          "name": "stdout"
        }
      ]
    },
    {
      "cell_type": "markdown",
      "metadata": {
        "id": "90rB-KfDDRfk"
      },
      "source": [
        "##Data Taye & Variable"
      ]
    },
    {
      "cell_type": "code",
      "metadata": {
        "colab": {
          "base_uri": "https://localhost:8080/"
        },
        "id": "QR_OzCuYBGyJ",
        "outputId": "291097d6-e963-47db-97e0-98bce3edcd58"
      },
      "source": [
        "# Data Type & Variable\r\n",
        "# ชื่อตัวแปร = ค่าที่เก็บในตัวแปร จะใช้งานร่วมกับ data type\r\n",
        "\r\n",
        "x = 20 #integer หมายถึง x เก็บค่าเลข 20\r\n",
        "print('ผลลัพธ์คือ = ' + str(x)) # print(\"ผลลัพธ์ = \"+str(x)) #แปลงเป็น string โดยใช้ str\r\n",
        "y = 3.99\r\n",
        "print(y)\r\n",
        "z = True\r\n",
        "print(z)\r\n",
        "# ถ้าอยากรู้ชนิดข้อมูลที่อยู่ในตัวแปล จะใช้คำสั่ง ``` type ```\r\n",
        "print(type(y)) \r\n",
        "print(type(\"beam\"))\r\n",
        "print(type(z))"
      ],
      "execution_count": 17,
      "outputs": [
        {
          "output_type": "stream",
          "text": [
            "ผลลัพธ์คือ = 20\n",
            "3.99\n",
            "True\n",
            "<class 'float'>\n",
            "<class 'str'>\n",
            "<class 'bool'>\n"
          ],
          "name": "stdout"
        }
      ]
    },
    {
      "cell_type": "markdown",
      "metadata": {
        "id": "cMXA6LN7Ho1t"
      },
      "source": [
        "##กฎการตั้งชื่อ"
      ]
    },
    {
      "cell_type": "code",
      "metadata": {
        "colab": {
          "base_uri": "https://localhost:8080/"
        },
        "id": "D5GW2LAjETKJ",
        "outputId": "c1cd98fb-3e4c-4cb7-a6e4-dbb9ce6dfdef"
      },
      "source": [
        "#กฎการตั้งชื่อ\r\n",
        "\r\n",
        "\"\"\"\r\n",
        "1.ใส่ตัวเลข ตัวอักษร เครื่องหมาย \r\n",
        "2.ห้ามขึ้นต้นด้วยตัวเลขและสัญสักษณ์ ยกเว้น _ \r\n",
        "3.ห้ามซ้ำกับ keywords\r\n",
        "4.case sensitive \r\n",
        "\"\"\"\r\n",
        "\r\n",
        "name=\"A\" #ถึงชื่อจะเหมือนกันแต่จะออกผลลัพธ์ต่างกัน ตัวพิมเล็กพิมใหญ่ความหมายต่างกัน\r\n",
        "NAME=\"B\"\r\n",
        "nAmE=\"C\"\r\n",
        "\r\n",
        "print(name)\r\n",
        "print(NAME)\r\n",
        "print(nAmE)"
      ],
      "execution_count": 18,
      "outputs": [
        {
          "output_type": "stream",
          "text": [
            "A\n",
            "B\n",
            "C\n"
          ],
          "name": "stdout"
        }
      ]
    },
    {
      "cell_type": "markdown",
      "metadata": {
        "id": "2EOZQdMGac67"
      },
      "source": [
        "##Type Coversion"
      ]
    },
    {
      "cell_type": "code",
      "metadata": {
        "colab": {
          "base_uri": "https://localhost:8080/"
        },
        "id": "qQ6J_FAUI3Y9",
        "outputId": "43aeb065-8163-43b6-90f2-86e91ce29bdd"
      },
      "source": [
        "#Type Coversion\r\n",
        "x = 10\r\n",
        "y = 3.14\r\n",
        "z = \"20\"\r\n",
        "\r\n",
        "#จะแปลง str ให้เป็น int เพื่อเอามาบวกกัน\r\n",
        "int(z) #จะเป็นการแปลง z ให้เป็น int\r\n",
        "# \"20\" = > 20\r\n",
        "result =  x+int(z)\r\n",
        "print(result)\r\n",
        "# 10 => \"10\"\r\n",
        "\r\n",
        "# บวกเลข \r\n",
        "z=float(z)\r\n",
        "# 10+3.14 = 13.14\r\n",
        "# \"10\" + \"20\" =\"1020\" => result\r\n",
        "\r\n",
        "z=z+50\r\n",
        "# string => int \r\n",
        "# int => string\r\n",
        "\r\n",
        "#อยากให้แปลงตัวไหนเป็นตัวไหน ก็เอามาใส่ด้านหลัง()\r\n",
        "#string => float\r\n",
        "#float => string\r\n",
        "\r\n",
        "# int => float\r\n",
        "# float => int\r\n",
        "print(z)"
      ],
      "execution_count": 22,
      "outputs": [
        {
          "output_type": "stream",
          "text": [
            "30\n",
            "70.0\n"
          ],
          "name": "stdout"
        }
      ]
    },
    {
      "cell_type": "markdown",
      "metadata": {
        "id": "ZBZk1DAwc-im"
      },
      "source": [
        "##  Input"
      ]
    },
    {
      "cell_type": "code",
      "metadata": {
        "colab": {
          "base_uri": "https://localhost:8080/"
        },
        "id": "4HeamGD0b185",
        "outputId": "475f256d-b5ff-4467-8779-4628fb30f894"
      },
      "source": [
        "\r\n",
        "x=int(input(\"ป้อนตัวเลขตัวที่ 1 : \")) #รับค่าที่ผู้ใช้ป้อนแล้วเก็บลงตัวแปร fname\r\n",
        "y=int(input(\"ป้อนตัวเลขตัวที่ 2 : \")) #เป็นการป้อนตัวเลข ต้องบอกว่าเป็น int ด้วย\r\n",
        "#process & output \r\n",
        "print(x+y) #หรือ z = int(x) + int(y)\r\n"
      ],
      "execution_count": 26,
      "outputs": [
        {
          "output_type": "stream",
          "text": [
            "ป้อนตัวเลขตัวที่ 1 : 4\n",
            "ป้อนตัวเลขตัวที่ 2 : 20\n",
            "24\n"
          ],
          "name": "stdout"
        }
      ]
    },
    {
      "cell_type": "code",
      "metadata": {
        "colab": {
          "base_uri": "https://localhost:8080/"
        },
        "id": "zkk4oLKIdVQC",
        "outputId": "07cb3f55-22f7-4289-82fc-597d56475b71"
      },
      "source": [
        "#EX\r\n",
        "name = input('กรุณาพิมพ์ชื่อ : ') #ป้อนข้อความไม่ต้องพิมอะไรเพิ่ม\r\n",
        "print('คุณพิมพ์คำว่า = ' +name)"
      ],
      "execution_count": 25,
      "outputs": [
        {
          "output_type": "stream",
          "text": [
            "กรุณาพิมพ์ชื่อ : บีม\n",
            "คุณพิมพ์คำว่า = บีม\n"
          ],
          "name": "stdout"
        }
      ]
    },
    {
      "cell_type": "code",
      "metadata": {
        "id": "3z6v2yi1eTlM"
      },
      "source": [
        ""
      ],
      "execution_count": null,
      "outputs": []
    }
  ]
}