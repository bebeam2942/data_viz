{
  "nbformat": 4,
  "nbformat_minor": 0,
  "metadata": {
    "colab": {
      "name": "Day1myPython.ipynb",
      "provenance": [],
      "authorship_tag": "ABX9TyOWQ84HsIjpkDmSxdE3hNfR",
      "include_colab_link": true
    },
    "kernelspec": {
      "name": "python3",
      "display_name": "Python 3"
    }
  },
  "cells": [
    {
      "cell_type": "markdown",
      "metadata": {
        "id": "view-in-github",
        "colab_type": "text"
      },
      "source": [
        "<a href=\"https://colab.research.google.com/github/bebeam2942/data_viz/blob/main/Day1myPython.ipynb\" target=\"_parent\"><img src=\"https://colab.research.google.com/assets/colab-badge.svg\" alt=\"Open In Colab\"/></a>"
      ]
    },
    {
      "cell_type": "code",
      "metadata": {
        "colab": {
          "base_uri": "https://localhost:8080/"
        },
        "id": "FB-OK-UJ_Vkl",
        "outputId": "eebc2f38-30c4-4482-b560-23dc37c6bde4"
      },
      "source": [
        "print(\"beam\")  #คือการคอมเม้นต์ต้องใส่ด้านบนหรือด้านหลังคำสั่ง หรือ \"\"\" \"\"\""
      ],
      "execution_count": null,
      "outputs": [
        {
          "output_type": "stream",
          "text": [
            "beam\n"
          ],
          "name": "stdout"
        }
      ]
    },
    {
      "cell_type": "code",
      "metadata": {
        "colab": {
          "base_uri": "https://localhost:8080/"
        },
        "id": "TLGB3sB3ADSS",
        "outputId": "f5fca3ff-7097-4b58-8ec5-245da7f2207f"
      },
      "source": [
        "#string => ข้อความ ตัวอักษร ' \"\" '''\r\n",
        "#number => integer , float\r\n",
        "#boolean => true , false ทำงานร่วมกับข้อมูลเปรียบเทียบ\r\n",
        "print(-1) #ถ้าเป็นตัวเลขไม่ต้องใส่ ' '\r\n",
        "print(\"1\"+\"9\") #คือการบวก sting\r\n",
        "print(1+9)\r\n",
        "print(3.99)\r\n",
        "print(True)\r\n",
        "print(False)\r\n",
        "print(\"Chonticha \\n\" + \"Phulakhon\")  # + คือการนำstringมาต่อกัน , \\n คือการขึ้นบรรทัดใหม่"
      ],
      "execution_count": null,
      "outputs": [
        {
          "output_type": "stream",
          "text": [
            "-1\n",
            "19\n",
            "10\n",
            "3.99\n",
            "True\n",
            "False\n",
            "Chonticha \n",
            "Phulakhon\n"
          ],
          "name": "stdout"
        }
      ]
    },
    {
      "cell_type": "markdown",
      "metadata": {
        "id": "90rB-KfDDRfk"
      },
      "source": [
        "##Data Taye & Variable"
      ]
    },
    {
      "cell_type": "code",
      "metadata": {
        "colab": {
          "base_uri": "https://localhost:8080/"
        },
        "id": "QR_OzCuYBGyJ",
        "outputId": "291097d6-e963-47db-97e0-98bce3edcd58"
      },
      "source": [
        "# Data Type & Variable\r\n",
        "# ชื่อตัวแปร = ค่าที่เก็บในตัวแปร จะใช้งานร่วมกับ data type\r\n",
        "\r\n",
        "x = 20 #integer หมายถึง x เก็บค่าเลข 20\r\n",
        "print('ผลลัพธ์คือ = ' + str(x)) # print(\"ผลลัพธ์ = \"+str(x)) #แปลงเป็น string โดยใช้ str\r\n",
        "y = 3.99\r\n",
        "print(y)\r\n",
        "z = True\r\n",
        "print(z)\r\n",
        "# ถ้าอยากรู้ชนิดข้อมูลที่อยู่ในตัวแปล จะใช้คำสั่ง ``` type ```\r\n",
        "print(type(y)) \r\n",
        "print(type(\"beam\"))\r\n",
        "print(type(z))"
      ],
      "execution_count": null,
      "outputs": [
        {
          "output_type": "stream",
          "text": [
            "ผลลัพธ์คือ = 20\n",
            "3.99\n",
            "True\n",
            "<class 'float'>\n",
            "<class 'str'>\n",
            "<class 'bool'>\n"
          ],
          "name": "stdout"
        }
      ]
    },
    {
      "cell_type": "markdown",
      "metadata": {
        "id": "cMXA6LN7Ho1t"
      },
      "source": [
        "##กฎการตั้งชื่อ"
      ]
    },
    {
      "cell_type": "code",
      "metadata": {
        "colab": {
          "base_uri": "https://localhost:8080/"
        },
        "id": "D5GW2LAjETKJ",
        "outputId": "c1cd98fb-3e4c-4cb7-a6e4-dbb9ce6dfdef"
      },
      "source": [
        "#กฎการตั้งชื่อ\r\n",
        "\r\n",
        "\"\"\"\r\n",
        "1.ใส่ตัวเลข ตัวอักษร เครื่องหมาย \r\n",
        "2.ห้ามขึ้นต้นด้วยตัวเลขและสัญสักษณ์ ยกเว้น _ \r\n",
        "3.ห้ามซ้ำกับ keywords\r\n",
        "4.case sensitive \r\n",
        "\"\"\"\r\n",
        "\r\n",
        "name=\"A\" #ถึงชื่อจะเหมือนกันแต่จะออกผลลัพธ์ต่างกัน ตัวพิมเล็กพิมใหญ่ความหมายต่างกัน\r\n",
        "NAME=\"B\"\r\n",
        "nAmE=\"C\"\r\n",
        "\r\n",
        "print(name)\r\n",
        "print(NAME)\r\n",
        "print(nAmE)"
      ],
      "execution_count": null,
      "outputs": [
        {
          "output_type": "stream",
          "text": [
            "A\n",
            "B\n",
            "C\n"
          ],
          "name": "stdout"
        }
      ]
    },
    {
      "cell_type": "markdown",
      "metadata": {
        "id": "2EOZQdMGac67"
      },
      "source": [
        "##Type Coversion"
      ]
    },
    {
      "cell_type": "code",
      "metadata": {
        "colab": {
          "base_uri": "https://localhost:8080/"
        },
        "id": "qQ6J_FAUI3Y9",
        "outputId": "43aeb065-8163-43b6-90f2-86e91ce29bdd"
      },
      "source": [
        "#Type Coversion\r\n",
        "x = 10\r\n",
        "y = 3.14\r\n",
        "z = \"20\"\r\n",
        "\r\n",
        "#จะแปลง str ให้เป็น int เพื่อเอามาบวกกัน\r\n",
        "int(z) #จะเป็นการแปลง z ให้เป็น int\r\n",
        "# \"20\" = > 20\r\n",
        "result =  x+int(z)\r\n",
        "print(result)\r\n",
        "# 10 => \"10\"\r\n",
        "\r\n",
        "# บวกเลข \r\n",
        "z=float(z)\r\n",
        "# 10+3.14 = 13.14\r\n",
        "# \"10\" + \"20\" =\"1020\" => result\r\n",
        "\r\n",
        "z=z+50\r\n",
        "# string => int \r\n",
        "# int => string\r\n",
        "\r\n",
        "#อยากให้แปลงตัวไหนเป็นตัวไหน ก็เอามาใส่ด้านหลัง()\r\n",
        "#string => float\r\n",
        "#float => string\r\n",
        "\r\n",
        "# int => float\r\n",
        "# float => int\r\n",
        "print(z)"
      ],
      "execution_count": null,
      "outputs": [
        {
          "output_type": "stream",
          "text": [
            "30\n",
            "70.0\n"
          ],
          "name": "stdout"
        }
      ]
    },
    {
      "cell_type": "markdown",
      "metadata": {
        "id": "ZBZk1DAwc-im"
      },
      "source": [
        "##  Input"
      ]
    },
    {
      "cell_type": "code",
      "metadata": {
        "colab": {
          "base_uri": "https://localhost:8080/"
        },
        "id": "4HeamGD0b185",
        "outputId": "475f256d-b5ff-4467-8779-4628fb30f894"
      },
      "source": [
        "\r\n",
        "x=int(input(\"ป้อนตัวเลขตัวที่ 1 : \")) #รับค่าที่ผู้ใช้ป้อนแล้วเก็บลงตัวแปร fname\r\n",
        "y=int(input(\"ป้อนตัวเลขตัวที่ 2 : \")) #เป็นการป้อนตัวเลข ต้องบอกว่าเป็น int ด้วย\r\n",
        "#process & output \r\n",
        "print(x+y) #หรือ z = int(x) + int(y)\r\n"
      ],
      "execution_count": null,
      "outputs": [
        {
          "output_type": "stream",
          "text": [
            "ป้อนตัวเลขตัวที่ 1 : 4\n",
            "ป้อนตัวเลขตัวที่ 2 : 20\n",
            "24\n"
          ],
          "name": "stdout"
        }
      ]
    },
    {
      "cell_type": "code",
      "metadata": {
        "colab": {
          "base_uri": "https://localhost:8080/"
        },
        "id": "zkk4oLKIdVQC",
        "outputId": "07cb3f55-22f7-4289-82fc-597d56475b71"
      },
      "source": [
        "#EX\r\n",
        "name = input('กรุณาพิมพ์ชื่อ : ') #ป้อนข้อความไม่ต้องพิมอะไรเพิ่ม\r\n",
        "print('คุณพิมพ์คำว่า = ' +name)"
      ],
      "execution_count": null,
      "outputs": [
        {
          "output_type": "stream",
          "text": [
            "กรุณาพิมพ์ชื่อ : บีม\n",
            "คุณพิมพ์คำว่า = บีม\n"
          ],
          "name": "stdout"
        }
      ]
    },
    {
      "cell_type": "markdown",
      "metadata": {
        "id": "2FBR_AMuAhBL"
      },
      "source": [
        "# ตัวดำเนินการทางคณิตศาสตร์"
      ]
    },
    {
      "cell_type": "code",
      "metadata": {
        "id": "fqNpqucnAghd",
        "outputId": "6070b60b-606d-4c9b-ab0e-29316aac8414",
        "colab": {
          "base_uri": "https://localhost:8080/"
        }
      },
      "source": [
        "x = 10\r\n",
        "y = 3\r\n",
        "\r\n",
        "print(\"ผลบวก\" , x+y)\r\n",
        "print(\"ผลลบ\" , x-y)\r\n",
        "print(\"ผลคูณ\", x*y)\r\n",
        "print(\"ผลหาร\",x/y)\r\n",
        "print(\"หารปัดเศษ\", x//y)\r\n",
        "print(\"ยกกำลัง\",x**y)\r\n",
        "print(\"หารเอาเศษ\",x%y)"
      ],
      "execution_count": 1,
      "outputs": [
        {
          "output_type": "stream",
          "text": [
            "ผลบวก 13\n",
            "ผลลบ 7\n",
            "ผลคูณ 30\n",
            "ผลหาร 3.3333333333333335\n",
            "หารปัดเศษ 3\n",
            "ยกกำลัง 1000\n",
            "หารเอาเศษ 1\n"
          ],
          "name": "stdout"
        }
      ]
    },
    {
      "cell_type": "markdown",
      "metadata": {
        "id": "jRXgvv2ZBceI"
      },
      "source": [
        "#ตัวดำเนินการเปรียบเทียบ​"
      ]
    },
    {
      "cell_type": "code",
      "metadata": {
        "id": "3z6v2yi1eTlM",
        "outputId": "b0a4348e-82f7-45be-ff77-b795f02c1aff",
        "colab": {
          "base_uri": "https://localhost:8080/"
        }
      },
      "source": [
        "# นำข้อมูลอย่างน้อย 2 ค่ามาเปรียบเทียบกัน\r\n",
        "# ชนิดข้อมูลเหมือนกัน\r\n",
        "# คำตอบ 2 คำตอบ => จริง / เท็จ\r\n",
        "\r\n",
        "x,y,z = 8, 7,5\r\n",
        "\r\n",
        "# print(\"ค่า x มากกว่า y หรือไม่ ? : \",x>y)\r\n",
        "# print(\"ค่า x น้อยกว่า y หรือไม่ ? :\", x<y)\r\n",
        "# print(\"ค่า x เท่ากับ y หรือไม่ ? :\", x==y)\r\n",
        "# print(\"ค่า x ไม่เท่ากับ y หรือไม่ ?\",x!=y)\r\n",
        "\r\n",
        "# print(\"ค่า x มากกว่า หรือ เท่ากับ ค่า y หรือไม่ ?\",x>=y)\r\n",
        "# print(\"ค่า x น้อยกว่า หรือ เท่ากับ ค่า y หรือไม่ ?\", x<=y)\r\n",
        "\r\n",
        "#และ\r\n",
        "print(\"ค่า x มากกว่า y และ y มากกว่า z หรือไม่ ? : \",x>y>z)\r\n",
        "print(\"ค่า x น้อยกว่า y และ y น้อยกว่า z หรือไม่ ? : \",x<y<z)"
      ],
      "execution_count": 2,
      "outputs": [
        {
          "output_type": "stream",
          "text": [
            "ค่า x มากกว่า y และ y มากกว่า z หรือไม่ ? :  True\n",
            "ค่า x น้อยกว่า y และ y น้อยกว่า z หรือไม่ ? :  False\n"
          ],
          "name": "stdout"
        }
      ]
    },
    {
      "cell_type": "markdown",
      "metadata": {
        "id": "RH1-GpJIEZhf"
      },
      "source": [
        "#โปรแกรมคำนวณค่า BMI (ดัชนีมวลกาย)"
      ]
    },
    {
      "cell_type": "code",
      "metadata": {
        "id": "d5spzuQODrER",
        "outputId": "a106ea44-a69f-4374-8884-81cf8914149d",
        "colab": {
          "base_uri": "https://localhost:8080/"
        }
      },
      "source": [
        "\r\n",
        "# BMI = น้ำหนัก (kg) / ส่วนสูง * ส่วนสูง (m)\r\n",
        "# input \r\n",
        "weight=int(input(\"ป้อนน้ำหนักของคุณ (kg):\"))\r\n",
        "height=int(input(\"ป้อนส่วนสูงของคุณ (cm) :\"))/100 #ใส่intเพื่อให้คำนวณทางคณิตได้\r\n",
        "\r\n",
        "#process\r\n",
        "\r\n",
        "print(\"BMI = \",weight/(height**2))"
      ],
      "execution_count": 3,
      "outputs": [
        {
          "output_type": "stream",
          "text": [
            "ป้อนน้ำหนักของคุณ (kg):45\n",
            "ป้อนส่วนสูงของคุณ (cm) :155\n",
            "BMI =  18.730489073881373\n"
          ],
          "name": "stdout"
        }
      ]
    },
    {
      "cell_type": "markdown",
      "metadata": {
        "id": "lL044pfPIE38"
      },
      "source": [
        "#โครงสร้างควบคุมแบบเลือก if"
      ]
    },
    {
      "cell_type": "code",
      "metadata": {
        "id": "sQxwWnkrFW5Z",
        "outputId": "2f5f8e43-74d4-4e09-9cc1-f9fff3efa970",
        "colab": {
          "base_uri": "https://localhost:8080/"
        }
      },
      "source": [
        "age=int(input(\"ป้อนอายุของคุณ :\"))\r\n",
        "#35\r\n",
        "if age>=15 and age <=20:\r\n",
        "    print(\"วัยรุ่น\")\r\n",
        "elif age>=20 and age<=29:\r\n",
        "    print(\"วัยหนุ่มสาว\")\r\n",
        "elif age>=30 and age<=39:\r\n",
        "    print(\"วัยผู้ใหญ่\")\r\n",
        "elif age>=80:\r\n",
        "    print(\"วัยชรา\")\r\n",
        "else :\r\n",
        "    print(\"วัยเด็ก\")\r\n",
        "\r\n",
        "print(\"จบโปรแกรม\")\r\n",
        "\r\n",
        "# 15 - 20 => วัยรุ่น\r\n",
        "# 21 - 29 => วัยหนุ่มสาว\r\n",
        "# 30 - 39 => วัยผู้ใหญ่\r\n",
        "\r\n",
        "\r\n",
        "# and or not "
      ],
      "execution_count": 5,
      "outputs": [
        {
          "output_type": "stream",
          "text": [
            "ป้อนอายุของคุณ :8\n",
            "วัยเด็ก\n",
            "จบโปรแกรม\n"
          ],
          "name": "stdout"
        }
      ]
    },
    {
      "cell_type": "markdown",
      "metadata": {
        "id": "H4ouH_phJyMb"
      },
      "source": [
        "# if ซ้อน if"
      ]
    },
    {
      "cell_type": "code",
      "metadata": {
        "id": "JZsX3G2HIPuK",
        "outputId": "d050a4b6-8691-4c7c-a74a-d42b97343201",
        "colab": {
          "base_uri": "https://localhost:8080/"
        }
      },
      "source": [
        "# if ซ้อน if\r\n",
        "age=int(input(\"ป้อนอายุของคุณ : \"))\r\n",
        "\r\n",
        "if age<=15: \r\n",
        "    if age==15:  #ถ้าเงื่อนไข if ด้านบนเป็นจริงจะลงมาบรรทัดนี้ ถ้า=15 จะเป็นม.3 แล้วจะมาเช็คด้านในอีกทีว่าอายุที่เราใส่ลงตรงกับข้อไหน\r\n",
        "        print(\"ม.3\")\r\n",
        "    elif age==14:\r\n",
        "        print(\"ม.2\")\r\n",
        "    elif age==13:\r\n",
        "        print(\"ม.1\")\r\n",
        "    else :\r\n",
        "        print(\"ประถมศึกษา\")\r\n",
        "else :\r\n",
        "    print(\"ม.ปลาย\")\r\n",
        "\r\n",
        "print(\"จบโปรแกรม\")\r\n"
      ],
      "execution_count": 7,
      "outputs": [
        {
          "output_type": "stream",
          "text": [
            "ป้อนอายุของคุณ : 21\n",
            "ม.ปลาย\n",
            "จบโปรแกรม\n"
          ],
          "name": "stdout"
        }
      ]
    },
    {
      "cell_type": "markdown",
      "metadata": {
        "id": "fL6BFvoqhetx"
      },
      "source": [
        "# โครงสร้างควบคุมแบบทำซ้ำ While loop"
      ]
    },
    {
      "cell_type": "code",
      "metadata": {
        "id": "pgyTFFEzJ092",
        "outputId": "058ac823-d21b-4321-8f93-9e9642f4a525",
        "colab": {
          "base_uri": "https://localhost:8080/"
        }
      },
      "source": [
        "# While ตามด้วยเงื่อนไข\r\n",
        "summation=0\r\n",
        "\r\n",
        "for i in range(1,11): # summation\r\n",
        "    print(\"รอบที่  = \",i)\r\n",
        "\r\n",
        "print(\"ผลรวม = \", summation)\r\n",
        "print(\"เฉลี่ย = \", summation/10)"
      ],
      "execution_count": 8,
      "outputs": [
        {
          "output_type": "stream",
          "text": [
            "รอบที่  =  1\n",
            "รอบที่  =  2\n",
            "รอบที่  =  3\n",
            "รอบที่  =  4\n",
            "รอบที่  =  5\n",
            "รอบที่  =  6\n",
            "รอบที่  =  7\n",
            "รอบที่  =  8\n",
            "รอบที่  =  9\n",
            "รอบที่  =  10\n",
            "ผลรวม =  0\n",
            "เฉลี่ย =  0.0\n"
          ],
          "name": "stdout"
        }
      ]
    },
    {
      "cell_type": "code",
      "metadata": {
        "id": "EnG2Pp0chk3r"
      },
      "source": [
        ""
      ],
      "execution_count": null,
      "outputs": []
    }
  ]
}