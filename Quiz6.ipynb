{
  "nbformat": 4,
  "nbformat_minor": 0,
  "metadata": {
    "colab": {
      "name": "Quiz6.ipynb",
      "provenance": [],
      "collapsed_sections": [],
      "mount_file_id": "1phBb6zvibz8C-2TyiJv3n7JNJXAfV7Av",
      "authorship_tag": "ABX9TyN/GRqJieE3VSJ8UBgNsUZQ",
      "include_colab_link": true
    },
    "kernelspec": {
      "name": "python3",
      "display_name": "Python 3"
    },
    "language_info": {
      "name": "python"
    }
  },
  "cells": [
    {
      "cell_type": "markdown",
      "metadata": {
        "id": "view-in-github",
        "colab_type": "text"
      },
      "source": [
        "<a href=\"https://colab.research.google.com/github/bebeam2942/data_viz/blob/main/Quiz6.ipynb\" target=\"_parent\"><img src=\"https://colab.research.google.com/assets/colab-badge.svg\" alt=\"Open In Colab\"/></a>"
      ]
    },
    {
      "cell_type": "code",
      "metadata": {
        "id": "BvHVaGMdb-M2"
      },
      "source": [
        "import pandas as pd\n",
        "import os\n",
        "from datetime import date,datetime\n",
        "import io"
      ],
      "execution_count": 19,
      "outputs": []
    },
    {
      "cell_type": "code",
      "metadata": {
        "colab": {
          "base_uri": "https://localhost:8080/",
          "height": 976
        },
        "id": "c3jGIrpTcRMW",
        "outputId": "017d6694-c1d7-4e67-ddaa-fb835da04ad0"
      },
      "source": [
        "Q6 = pd.read_csv('/content/drive/MyDrive/dataviz_2021_data/search_request.csv')\n",
        "Q6"
      ],
      "execution_count": 4,
      "outputs": [
        {
          "output_type": "stream",
          "text": [
            "/usr/local/lib/python3.7/dist-packages/IPython/core/interactiveshell.py:2718: DtypeWarning: Columns (7,8,9) have mixed types.Specify dtype option on import or set low_memory=False.\n",
            "  interactivity=interactivity, compiler=compiler, result=result)\n"
          ],
          "name": "stderr"
        },
        {
          "output_type": "execute_result",
          "data": {
            "text/html": [
              "<div>\n",
              "<style scoped>\n",
              "    .dataframe tbody tr th:only-of-type {\n",
              "        vertical-align: middle;\n",
              "    }\n",
              "\n",
              "    .dataframe tbody tr th {\n",
              "        vertical-align: top;\n",
              "    }\n",
              "\n",
              "    .dataframe thead th {\n",
              "        text-align: right;\n",
              "    }\n",
              "</style>\n",
              "<table border=\"1\" class=\"dataframe\">\n",
              "  <thead>\n",
              "    <tr style=\"text-align: right;\">\n",
              "      <th></th>\n",
              "      <th>Unnamed: 0</th>\n",
              "      <th>search_id</th>\n",
              "      <th>search_timestamp</th>\n",
              "      <th>user_agent</th>\n",
              "      <th>q</th>\n",
              "      <th>user_id</th>\n",
              "      <th>session_id</th>\n",
              "      <th>number_of_result</th>\n",
              "      <th>lat</th>\n",
              "      <th>long</th>\n",
              "    </tr>\n",
              "  </thead>\n",
              "  <tbody>\n",
              "    <tr>\n",
              "      <th>0</th>\n",
              "      <td>0</td>\n",
              "      <td>683de889-f923-494e-9d46-44a3d67b7259</td>\n",
              "      <td>2018-06-14 12:34:35.449</td>\n",
              "      <td>Wongnai/8.17.3 rv:8.17.3.3921 (iPhone5,4; iOS;...</td>\n",
              "      <td>NaN</td>\n",
              "      <td>NaN</td>\n",
              "      <td>5lqjjikta19d296mo7g2h1k86p</td>\n",
              "      <td>18</td>\n",
              "      <td>12.6347</td>\n",
              "      <td>101.463</td>\n",
              "    </tr>\n",
              "    <tr>\n",
              "      <th>1</th>\n",
              "      <td>1</td>\n",
              "      <td>4a811230-ffa4-4631-a4c8-5d0394137d02</td>\n",
              "      <td>2018-06-14 17:11:19.469</td>\n",
              "      <td>Mozilla/5.0 (iPhone; CPU iPhone OS 11_4 like M...</td>\n",
              "      <td>NaN</td>\n",
              "      <td>NaN</td>\n",
              "      <td>1r3iotmp0o9slom91stdt9vivc</td>\n",
              "      <td>10</td>\n",
              "      <td>14.8009</td>\n",
              "      <td>102.534</td>\n",
              "    </tr>\n",
              "    <tr>\n",
              "      <th>2</th>\n",
              "      <td>2</td>\n",
              "      <td>7ad6ee8e-438e-4bea-9183-74dcef9e358e</td>\n",
              "      <td>2018-06-14 13:22:31.736</td>\n",
              "      <td>Mozilla/5.0 (Linux; Android 7.0; SAMSUNG SM-J7...</td>\n",
              "      <td>NaN</td>\n",
              "      <td>NaN</td>\n",
              "      <td>5ci1eo4v5u9dha4ppgu94ue7p6</td>\n",
              "      <td>8</td>\n",
              "      <td>13.7383</td>\n",
              "      <td>100.371</td>\n",
              "    </tr>\n",
              "    <tr>\n",
              "      <th>3</th>\n",
              "      <td>3</td>\n",
              "      <td>0c17a5f5-fa89-40f4-ae94-a8659268f827</td>\n",
              "      <td>2018-06-02 12:37:27.331</td>\n",
              "      <td>Mozilla/5.0 (Linux; Android 7.1.1; SM-N950F Bu...</td>\n",
              "      <td>NaN</td>\n",
              "      <td>NaN</td>\n",
              "      <td>39n535qgje9kpojp0grhfj8umk</td>\n",
              "      <td>12</td>\n",
              "      <td>12.6669</td>\n",
              "      <td>101.861</td>\n",
              "    </tr>\n",
              "    <tr>\n",
              "      <th>4</th>\n",
              "      <td>4</td>\n",
              "      <td>6870dc3a-5602-44fc-80ed-df0a7783df9d</td>\n",
              "      <td>2018-06-02 11:19:22.404</td>\n",
              "      <td>Mozilla/5.0 (iPhone; CPU iPhone OS 11_3_1 like...</td>\n",
              "      <td>NaN</td>\n",
              "      <td>NaN</td>\n",
              "      <td>5pa03h6lj691to60erver1l8o4</td>\n",
              "      <td>14</td>\n",
              "      <td>12.2372</td>\n",
              "      <td>99.88</td>\n",
              "    </tr>\n",
              "    <tr>\n",
              "      <th>...</th>\n",
              "      <td>...</td>\n",
              "      <td>...</td>\n",
              "      <td>...</td>\n",
              "      <td>...</td>\n",
              "      <td>...</td>\n",
              "      <td>...</td>\n",
              "      <td>...</td>\n",
              "      <td>...</td>\n",
              "      <td>...</td>\n",
              "      <td>...</td>\n",
              "    </tr>\n",
              "    <tr>\n",
              "      <th>10004352</th>\n",
              "      <td>10005225</td>\n",
              "      <td>5d8c10aa-63cf-4bdd-ab01-0af17a98781f</td>\n",
              "      <td>2018-06-24 09:23:57.777</td>\n",
              "      <td>okhttp/3.9.0;WongnaiAndroid 8.16.6;OPPO;CPH1729</td>\n",
              "      <td>NaN</td>\n",
              "      <td>153319.0</td>\n",
              "      <td>1oaki72de48dm87jbgj2a2crgf</td>\n",
              "      <td>22</td>\n",
              "      <td>NaN</td>\n",
              "      <td>NaN</td>\n",
              "    </tr>\n",
              "    <tr>\n",
              "      <th>10004353</th>\n",
              "      <td>10005226</td>\n",
              "      <td>66cc94db-217a-4d8e-aa20-b1d10e17c968</td>\n",
              "      <td>2018-06-24 17:03:39.908</td>\n",
              "      <td>Wongnai/10.0 (iPhone10,6; iOS; 11.4; en_TH;)</td>\n",
              "      <td>NaN</td>\n",
              "      <td>NaN</td>\n",
              "      <td>1pb7i5fe2g9hd92qbkbgh06aek</td>\n",
              "      <td>22</td>\n",
              "      <td>NaN</td>\n",
              "      <td>NaN</td>\n",
              "    </tr>\n",
              "    <tr>\n",
              "      <th>10004354</th>\n",
              "      <td>10005227</td>\n",
              "      <td>4eb3b514-fb71-4dfe-a580-c560e8c9dcc7</td>\n",
              "      <td>2018-06-24 19:17:55.797</td>\n",
              "      <td>Wongnai/10.0 (iPhone10,6; iOS; 11.4; en_TH;)</td>\n",
              "      <td>NaN</td>\n",
              "      <td>NaN</td>\n",
              "      <td>282oq0of578c6p4q760medgd30</td>\n",
              "      <td>22</td>\n",
              "      <td>NaN</td>\n",
              "      <td>NaN</td>\n",
              "    </tr>\n",
              "    <tr>\n",
              "      <th>10004355</th>\n",
              "      <td>10005228</td>\n",
              "      <td>f5554532-2eb1-4ba6-a98e-1e10b2174d2c</td>\n",
              "      <td>2018-06-24 16:53:06.067</td>\n",
              "      <td>Wongnai/10.0 (iPhone10,6; iOS; 11.4; en_TH;)</td>\n",
              "      <td>NaN</td>\n",
              "      <td>21520.0</td>\n",
              "      <td>2cpkib5gr19un9fmner728bair</td>\n",
              "      <td>22</td>\n",
              "      <td>NaN</td>\n",
              "      <td>NaN</td>\n",
              "    </tr>\n",
              "    <tr>\n",
              "      <th>10004356</th>\n",
              "      <td>10005229</td>\n",
              "      <td>48421ba4-8c69-46a5-aa05-425ddc82a09a</td>\n",
              "      <td>2018-06-24 18:06:58.441</td>\n",
              "      <td>Wongnai/10.0 (iPhone10,6; iOS; 11.4; en_TH;)</td>\n",
              "      <td>NaN</td>\n",
              "      <td>23581.0</td>\n",
              "      <td>2hb8cusb4797ioih8nq118l4t0</td>\n",
              "      <td>22</td>\n",
              "      <td>NaN</td>\n",
              "      <td>NaN</td>\n",
              "    </tr>\n",
              "  </tbody>\n",
              "</table>\n",
              "<p>10004357 rows × 10 columns</p>\n",
              "</div>"
            ],
            "text/plain": [
              "          Unnamed: 0                             search_id  ...      lat     long\n",
              "0                  0  683de889-f923-494e-9d46-44a3d67b7259  ...  12.6347  101.463\n",
              "1                  1  4a811230-ffa4-4631-a4c8-5d0394137d02  ...  14.8009  102.534\n",
              "2                  2  7ad6ee8e-438e-4bea-9183-74dcef9e358e  ...  13.7383  100.371\n",
              "3                  3  0c17a5f5-fa89-40f4-ae94-a8659268f827  ...  12.6669  101.861\n",
              "4                  4  6870dc3a-5602-44fc-80ed-df0a7783df9d  ...  12.2372    99.88\n",
              "...              ...                                   ...  ...      ...      ...\n",
              "10004352    10005225  5d8c10aa-63cf-4bdd-ab01-0af17a98781f  ...      NaN      NaN\n",
              "10004353    10005226  66cc94db-217a-4d8e-aa20-b1d10e17c968  ...      NaN      NaN\n",
              "10004354    10005227  4eb3b514-fb71-4dfe-a580-c560e8c9dcc7  ...      NaN      NaN\n",
              "10004355    10005228  f5554532-2eb1-4ba6-a98e-1e10b2174d2c  ...      NaN      NaN\n",
              "10004356    10005229  48421ba4-8c69-46a5-aa05-425ddc82a09a  ...      NaN      NaN\n",
              "\n",
              "[10004357 rows x 10 columns]"
            ]
          },
          "metadata": {
            "tags": []
          },
          "execution_count": 4
        }
      ]
    },
    {
      "cell_type": "code",
      "metadata": {
        "colab": {
          "base_uri": "https://localhost:8080/",
          "height": 35
        },
        "id": "bgyt_YEUd_QL",
        "outputId": "697e37cd-5d4e-421d-ef1c-a5990edbc832"
      },
      "source": [
        "Q6.iloc[0,2]"
      ],
      "execution_count": 5,
      "outputs": [
        {
          "output_type": "execute_result",
          "data": {
            "application/vnd.google.colaboratory.intrinsic+json": {
              "type": "string"
            },
            "text/plain": [
              "'2018-06-14 12:34:35.449'"
            ]
          },
          "metadata": {
            "tags": []
          },
          "execution_count": 5
        }
      ]
    },
    {
      "cell_type": "code",
      "metadata": {
        "id": "biZzJeZ9gaZ1"
      },
      "source": [
        "Q6.dropna(inplace=True)"
      ],
      "execution_count": 6,
      "outputs": []
    },
    {
      "cell_type": "code",
      "metadata": {
        "colab": {
          "base_uri": "https://localhost:8080/"
        },
        "id": "YhFa0omqhjpF",
        "outputId": "5415bf35-33df-47b2-f3fe-f5259e6bc6a9"
      },
      "source": [
        "Q6.info()"
      ],
      "execution_count": 8,
      "outputs": [
        {
          "output_type": "stream",
          "text": [
            "<class 'pandas.core.frame.DataFrame'>\n",
            "Int64Index: 253276 entries, 8 to 9723495\n",
            "Data columns (total 10 columns):\n",
            " #   Column            Non-Null Count   Dtype  \n",
            "---  ------            --------------   -----  \n",
            " 0   Unnamed: 0        253276 non-null  int64  \n",
            " 1   search_id         253276 non-null  object \n",
            " 2   search_timestamp  253276 non-null  object \n",
            " 3   user_agent        253276 non-null  object \n",
            " 4   q                 253276 non-null  object \n",
            " 5   user_id           253276 non-null  float64\n",
            " 6   session_id        253276 non-null  object \n",
            " 7   number_of_result  253276 non-null  object \n",
            " 8   lat               253276 non-null  object \n",
            " 9   long              253276 non-null  object \n",
            "dtypes: float64(1), int64(1), object(8)\n",
            "memory usage: 21.3+ MB\n"
          ],
          "name": "stdout"
        }
      ]
    },
    {
      "cell_type": "code",
      "metadata": {
        "colab": {
          "base_uri": "https://localhost:8080/"
        },
        "id": "Fy4SySgQiatp",
        "outputId": "ce2d7fac-3175-43cb-e322-9763c916a33b"
      },
      "source": [
        "type(Q6['search_timestamp'])"
      ],
      "execution_count": 17,
      "outputs": [
        {
          "output_type": "execute_result",
          "data": {
            "text/plain": [
              "pandas.core.series.Series"
            ]
          },
          "metadata": {
            "tags": []
          },
          "execution_count": 17
        }
      ]
    },
    {
      "cell_type": "code",
      "metadata": {
        "colab": {
          "base_uri": "https://localhost:8080/",
          "height": 942
        },
        "id": "_0FH3WkIicf4",
        "outputId": "2bf421e7-71e8-4fc4-ca44-c64c8ce7af66"
      },
      "source": [
        "Q6['search_timestamp']= pd.to_datetime(Q6['search_timestamp'],dayfirst=True,errors ='coerce')\n",
        "Q6"
      ],
      "execution_count": 23,
      "outputs": [
        {
          "output_type": "execute_result",
          "data": {
            "text/html": [
              "<div>\n",
              "<style scoped>\n",
              "    .dataframe tbody tr th:only-of-type {\n",
              "        vertical-align: middle;\n",
              "    }\n",
              "\n",
              "    .dataframe tbody tr th {\n",
              "        vertical-align: top;\n",
              "    }\n",
              "\n",
              "    .dataframe thead th {\n",
              "        text-align: right;\n",
              "    }\n",
              "</style>\n",
              "<table border=\"1\" class=\"dataframe\">\n",
              "  <thead>\n",
              "    <tr style=\"text-align: right;\">\n",
              "      <th></th>\n",
              "      <th>Unnamed: 0</th>\n",
              "      <th>search_id</th>\n",
              "      <th>search_timestamp</th>\n",
              "      <th>user_agent</th>\n",
              "      <th>q</th>\n",
              "      <th>user_id</th>\n",
              "      <th>session_id</th>\n",
              "      <th>number_of_result</th>\n",
              "      <th>lat</th>\n",
              "      <th>long</th>\n",
              "    </tr>\n",
              "  </thead>\n",
              "  <tbody>\n",
              "    <tr>\n",
              "      <th>8</th>\n",
              "      <td>8</td>\n",
              "      <td>02fedb5c-c9cd-46d7-9354-7613ecb7cfdd</td>\n",
              "      <td>2018-06-22 12:22:17.031</td>\n",
              "      <td>Wongnai/10.0 (iPhone10,6; iOS; 11.4; en_TH@cal...</td>\n",
              "      <td>vt แหนมเนือง</td>\n",
              "      <td>6967.0</td>\n",
              "      <td>4db1ugh8nj95totfl6dd4q4rb9</td>\n",
              "      <td>14</td>\n",
              "      <td>13.7209</td>\n",
              "      <td>100.527</td>\n",
              "    </tr>\n",
              "    <tr>\n",
              "      <th>9</th>\n",
              "      <td>9</td>\n",
              "      <td>e215d487-0450-4794-830a-ecfc0ab6493b</td>\n",
              "      <td>2018-06-22 12:15:24.769</td>\n",
              "      <td>Wongnai/10.0 (iPhone10,6; iOS; 11.4; en_TH@cal...</td>\n",
              "      <td>kuppadeli</td>\n",
              "      <td>6967.0</td>\n",
              "      <td>4orpg6839u93baoa36aicq78iq</td>\n",
              "      <td>9</td>\n",
              "      <td>13.7208</td>\n",
              "      <td>100.527</td>\n",
              "    </tr>\n",
              "    <tr>\n",
              "      <th>10</th>\n",
              "      <td>10</td>\n",
              "      <td>3a69e702-e54b-497c-9b8f-c3991d4c02ff</td>\n",
              "      <td>2018-06-22 12:12:24.091</td>\n",
              "      <td>Wongnai/10.0 (iPhone10,6; iOS; 11.4; en_TH@cal...</td>\n",
              "      <td>ข้าวซอยลำดวน</td>\n",
              "      <td>6967.0</td>\n",
              "      <td>4orpg6839u93baoa36aicq78iq</td>\n",
              "      <td>9</td>\n",
              "      <td>13.7209</td>\n",
              "      <td>100.527</td>\n",
              "    </tr>\n",
              "    <tr>\n",
              "      <th>11</th>\n",
              "      <td>11</td>\n",
              "      <td>03cb2585-738e-4000-afed-e976d123a145</td>\n",
              "      <td>2018-06-22 12:04:43.977</td>\n",
              "      <td>Wongnai/10.0 (iPhone10,6; iOS; 11.4; en_TH@cal...</td>\n",
              "      <td>kagonoya</td>\n",
              "      <td>6967.0</td>\n",
              "      <td>4orpg6839u93baoa36aicq78iq</td>\n",
              "      <td>8</td>\n",
              "      <td>13.7211</td>\n",
              "      <td>100.527</td>\n",
              "    </tr>\n",
              "    <tr>\n",
              "      <th>12</th>\n",
              "      <td>12</td>\n",
              "      <td>4974a821-2bc0-4efe-9e2d-d602669dc283</td>\n",
              "      <td>2018-06-22 12:07:02.556</td>\n",
              "      <td>Wongnai/10.0 (iPhone10,6; iOS; 11.4; en_TH@cal...</td>\n",
              "      <td>สุพรรณิการ์</td>\n",
              "      <td>6967.0</td>\n",
              "      <td>4orpg6839u93baoa36aicq78iq</td>\n",
              "      <td>10</td>\n",
              "      <td>13.7208</td>\n",
              "      <td>100.527</td>\n",
              "    </tr>\n",
              "    <tr>\n",
              "      <th>...</th>\n",
              "      <td>...</td>\n",
              "      <td>...</td>\n",
              "      <td>...</td>\n",
              "      <td>...</td>\n",
              "      <td>...</td>\n",
              "      <td>...</td>\n",
              "      <td>...</td>\n",
              "      <td>...</td>\n",
              "      <td>...</td>\n",
              "      <td>...</td>\n",
              "    </tr>\n",
              "    <tr>\n",
              "      <th>9722181</th>\n",
              "      <td>9723011</td>\n",
              "      <td>94ec6724-2edf-4e80-a120-af857aa7dbd3</td>\n",
              "      <td>2018-06-19 17:28:48.152</td>\n",
              "      <td>okhttp/3.9.0;WongnaiAndroid 8.16.6;HUAWEI;LON-L29</td>\n",
              "      <td>ร้านอาหารญี่ปุ่น พัทยา</td>\n",
              "      <td>139395.0</td>\n",
              "      <td>1bfsu8n4818et9mecghtkaf66m</td>\n",
              "      <td>22</td>\n",
              "      <td>12.9416</td>\n",
              "      <td>100.921</td>\n",
              "    </tr>\n",
              "    <tr>\n",
              "      <th>9722420</th>\n",
              "      <td>9723250</td>\n",
              "      <td>819915c4-e398-47ff-836b-37e9b814dc7c</td>\n",
              "      <td>2018-06-30 17:23:37.475</td>\n",
              "      <td>Wongnai/10.0 (iPhone10,5; iOS; 11.4; en_GB;)</td>\n",
              "      <td>เชียงราย</td>\n",
              "      <td>428.0</td>\n",
              "      <td>3hfg49ajbg9i2ons8e7qg9d2g1</td>\n",
              "      <td>22</td>\n",
              "      <td>13.878</td>\n",
              "      <td>100.413</td>\n",
              "    </tr>\n",
              "    <tr>\n",
              "      <th>9723069</th>\n",
              "      <td>9723900</td>\n",
              "      <td>83cf5597-8554-4d45-aaa4-213f30cd409a</td>\n",
              "      <td>2018-06-26 18:54:07.796</td>\n",
              "      <td>okhttp/3.9.0;WongnaiAndroid 8.16.7.1;samsung;S...</td>\n",
              "      <td>แอน</td>\n",
              "      <td>11022.0</td>\n",
              "      <td>7i53moasio8b0bq5han7av1uf8</td>\n",
              "      <td>22</td>\n",
              "      <td>13.7344</td>\n",
              "      <td>100.527</td>\n",
              "    </tr>\n",
              "    <tr>\n",
              "      <th>9723327</th>\n",
              "      <td>9724159</td>\n",
              "      <td>a558c025-0279-419e-8e76-dbaee81ea1c5</td>\n",
              "      <td>2018-06-19 15:14:03.872</td>\n",
              "      <td>Wongnai/8.17.5 (iPhone10,6; iOS; 11.3; en_TH;)</td>\n",
              "      <td>เดอะมอลล์บางกะปิ</td>\n",
              "      <td>66235.0</td>\n",
              "      <td>em9a51brd8smqkeloq0dlm3dl</td>\n",
              "      <td>22</td>\n",
              "      <td>14.0701</td>\n",
              "      <td>100.595</td>\n",
              "    </tr>\n",
              "    <tr>\n",
              "      <th>9723495</th>\n",
              "      <td>9724327</td>\n",
              "      <td>0c71ab76-cc2d-41c4-8cca-7654ead40c51</td>\n",
              "      <td>2018-06-30 15:47:32.588</td>\n",
              "      <td>Wongnai/10.0 (iPhone10,6; iOS; 11.4; en_US;)</td>\n",
              "      <td>ราชพฤกษ์</td>\n",
              "      <td>21390.0</td>\n",
              "      <td>1haj0b04ki99qql9480kbitls8</td>\n",
              "      <td>22</td>\n",
              "      <td>13.7633</td>\n",
              "      <td>100.536</td>\n",
              "    </tr>\n",
              "  </tbody>\n",
              "</table>\n",
              "<p>253276 rows × 10 columns</p>\n",
              "</div>"
            ],
            "text/plain": [
              "         Unnamed: 0                             search_id  ...      lat     long\n",
              "8                 8  02fedb5c-c9cd-46d7-9354-7613ecb7cfdd  ...  13.7209  100.527\n",
              "9                 9  e215d487-0450-4794-830a-ecfc0ab6493b  ...  13.7208  100.527\n",
              "10               10  3a69e702-e54b-497c-9b8f-c3991d4c02ff  ...  13.7209  100.527\n",
              "11               11  03cb2585-738e-4000-afed-e976d123a145  ...  13.7211  100.527\n",
              "12               12  4974a821-2bc0-4efe-9e2d-d602669dc283  ...  13.7208  100.527\n",
              "...             ...                                   ...  ...      ...      ...\n",
              "9722181     9723011  94ec6724-2edf-4e80-a120-af857aa7dbd3  ...  12.9416  100.921\n",
              "9722420     9723250  819915c4-e398-47ff-836b-37e9b814dc7c  ...   13.878  100.413\n",
              "9723069     9723900  83cf5597-8554-4d45-aaa4-213f30cd409a  ...  13.7344  100.527\n",
              "9723327     9724159  a558c025-0279-419e-8e76-dbaee81ea1c5  ...  14.0701  100.595\n",
              "9723495     9724327  0c71ab76-cc2d-41c4-8cca-7654ead40c51  ...  13.7633  100.536\n",
              "\n",
              "[253276 rows x 10 columns]"
            ]
          },
          "metadata": {
            "tags": []
          },
          "execution_count": 23
        }
      ]
    },
    {
      "cell_type": "code",
      "metadata": {
        "colab": {
          "base_uri": "https://localhost:8080/",
          "height": 942
        },
        "id": "FWHIoroBkHkv",
        "outputId": "d4cff127-1653-48fc-8a43-fb37e55c9d74"
      },
      "source": [
        "Q6[\"search_timestamp\"] = pd.to_datetime(Q6[\"search_timestamp\"])\n",
        "Q6"
      ],
      "execution_count": 26,
      "outputs": [
        {
          "output_type": "execute_result",
          "data": {
            "text/html": [
              "<div>\n",
              "<style scoped>\n",
              "    .dataframe tbody tr th:only-of-type {\n",
              "        vertical-align: middle;\n",
              "    }\n",
              "\n",
              "    .dataframe tbody tr th {\n",
              "        vertical-align: top;\n",
              "    }\n",
              "\n",
              "    .dataframe thead th {\n",
              "        text-align: right;\n",
              "    }\n",
              "</style>\n",
              "<table border=\"1\" class=\"dataframe\">\n",
              "  <thead>\n",
              "    <tr style=\"text-align: right;\">\n",
              "      <th></th>\n",
              "      <th>Unnamed: 0</th>\n",
              "      <th>search_id</th>\n",
              "      <th>search_timestamp</th>\n",
              "      <th>user_agent</th>\n",
              "      <th>q</th>\n",
              "      <th>user_id</th>\n",
              "      <th>session_id</th>\n",
              "      <th>number_of_result</th>\n",
              "      <th>lat</th>\n",
              "      <th>long</th>\n",
              "    </tr>\n",
              "  </thead>\n",
              "  <tbody>\n",
              "    <tr>\n",
              "      <th>8</th>\n",
              "      <td>8</td>\n",
              "      <td>02fedb5c-c9cd-46d7-9354-7613ecb7cfdd</td>\n",
              "      <td>2018-06-22 12:22:17.031</td>\n",
              "      <td>Wongnai/10.0 (iPhone10,6; iOS; 11.4; en_TH@cal...</td>\n",
              "      <td>vt แหนมเนือง</td>\n",
              "      <td>6967.0</td>\n",
              "      <td>4db1ugh8nj95totfl6dd4q4rb9</td>\n",
              "      <td>14</td>\n",
              "      <td>13.7209</td>\n",
              "      <td>100.527</td>\n",
              "    </tr>\n",
              "    <tr>\n",
              "      <th>9</th>\n",
              "      <td>9</td>\n",
              "      <td>e215d487-0450-4794-830a-ecfc0ab6493b</td>\n",
              "      <td>2018-06-22 12:15:24.769</td>\n",
              "      <td>Wongnai/10.0 (iPhone10,6; iOS; 11.4; en_TH@cal...</td>\n",
              "      <td>kuppadeli</td>\n",
              "      <td>6967.0</td>\n",
              "      <td>4orpg6839u93baoa36aicq78iq</td>\n",
              "      <td>9</td>\n",
              "      <td>13.7208</td>\n",
              "      <td>100.527</td>\n",
              "    </tr>\n",
              "    <tr>\n",
              "      <th>10</th>\n",
              "      <td>10</td>\n",
              "      <td>3a69e702-e54b-497c-9b8f-c3991d4c02ff</td>\n",
              "      <td>2018-06-22 12:12:24.091</td>\n",
              "      <td>Wongnai/10.0 (iPhone10,6; iOS; 11.4; en_TH@cal...</td>\n",
              "      <td>ข้าวซอยลำดวน</td>\n",
              "      <td>6967.0</td>\n",
              "      <td>4orpg6839u93baoa36aicq78iq</td>\n",
              "      <td>9</td>\n",
              "      <td>13.7209</td>\n",
              "      <td>100.527</td>\n",
              "    </tr>\n",
              "    <tr>\n",
              "      <th>11</th>\n",
              "      <td>11</td>\n",
              "      <td>03cb2585-738e-4000-afed-e976d123a145</td>\n",
              "      <td>2018-06-22 12:04:43.977</td>\n",
              "      <td>Wongnai/10.0 (iPhone10,6; iOS; 11.4; en_TH@cal...</td>\n",
              "      <td>kagonoya</td>\n",
              "      <td>6967.0</td>\n",
              "      <td>4orpg6839u93baoa36aicq78iq</td>\n",
              "      <td>8</td>\n",
              "      <td>13.7211</td>\n",
              "      <td>100.527</td>\n",
              "    </tr>\n",
              "    <tr>\n",
              "      <th>12</th>\n",
              "      <td>12</td>\n",
              "      <td>4974a821-2bc0-4efe-9e2d-d602669dc283</td>\n",
              "      <td>2018-06-22 12:07:02.556</td>\n",
              "      <td>Wongnai/10.0 (iPhone10,6; iOS; 11.4; en_TH@cal...</td>\n",
              "      <td>สุพรรณิการ์</td>\n",
              "      <td>6967.0</td>\n",
              "      <td>4orpg6839u93baoa36aicq78iq</td>\n",
              "      <td>10</td>\n",
              "      <td>13.7208</td>\n",
              "      <td>100.527</td>\n",
              "    </tr>\n",
              "    <tr>\n",
              "      <th>...</th>\n",
              "      <td>...</td>\n",
              "      <td>...</td>\n",
              "      <td>...</td>\n",
              "      <td>...</td>\n",
              "      <td>...</td>\n",
              "      <td>...</td>\n",
              "      <td>...</td>\n",
              "      <td>...</td>\n",
              "      <td>...</td>\n",
              "      <td>...</td>\n",
              "    </tr>\n",
              "    <tr>\n",
              "      <th>9722181</th>\n",
              "      <td>9723011</td>\n",
              "      <td>94ec6724-2edf-4e80-a120-af857aa7dbd3</td>\n",
              "      <td>2018-06-19 17:28:48.152</td>\n",
              "      <td>okhttp/3.9.0;WongnaiAndroid 8.16.6;HUAWEI;LON-L29</td>\n",
              "      <td>ร้านอาหารญี่ปุ่น พัทยา</td>\n",
              "      <td>139395.0</td>\n",
              "      <td>1bfsu8n4818et9mecghtkaf66m</td>\n",
              "      <td>22</td>\n",
              "      <td>12.9416</td>\n",
              "      <td>100.921</td>\n",
              "    </tr>\n",
              "    <tr>\n",
              "      <th>9722420</th>\n",
              "      <td>9723250</td>\n",
              "      <td>819915c4-e398-47ff-836b-37e9b814dc7c</td>\n",
              "      <td>2018-06-30 17:23:37.475</td>\n",
              "      <td>Wongnai/10.0 (iPhone10,5; iOS; 11.4; en_GB;)</td>\n",
              "      <td>เชียงราย</td>\n",
              "      <td>428.0</td>\n",
              "      <td>3hfg49ajbg9i2ons8e7qg9d2g1</td>\n",
              "      <td>22</td>\n",
              "      <td>13.878</td>\n",
              "      <td>100.413</td>\n",
              "    </tr>\n",
              "    <tr>\n",
              "      <th>9723069</th>\n",
              "      <td>9723900</td>\n",
              "      <td>83cf5597-8554-4d45-aaa4-213f30cd409a</td>\n",
              "      <td>2018-06-26 18:54:07.796</td>\n",
              "      <td>okhttp/3.9.0;WongnaiAndroid 8.16.7.1;samsung;S...</td>\n",
              "      <td>แอน</td>\n",
              "      <td>11022.0</td>\n",
              "      <td>7i53moasio8b0bq5han7av1uf8</td>\n",
              "      <td>22</td>\n",
              "      <td>13.7344</td>\n",
              "      <td>100.527</td>\n",
              "    </tr>\n",
              "    <tr>\n",
              "      <th>9723327</th>\n",
              "      <td>9724159</td>\n",
              "      <td>a558c025-0279-419e-8e76-dbaee81ea1c5</td>\n",
              "      <td>2018-06-19 15:14:03.872</td>\n",
              "      <td>Wongnai/8.17.5 (iPhone10,6; iOS; 11.3; en_TH;)</td>\n",
              "      <td>เดอะมอลล์บางกะปิ</td>\n",
              "      <td>66235.0</td>\n",
              "      <td>em9a51brd8smqkeloq0dlm3dl</td>\n",
              "      <td>22</td>\n",
              "      <td>14.0701</td>\n",
              "      <td>100.595</td>\n",
              "    </tr>\n",
              "    <tr>\n",
              "      <th>9723495</th>\n",
              "      <td>9724327</td>\n",
              "      <td>0c71ab76-cc2d-41c4-8cca-7654ead40c51</td>\n",
              "      <td>2018-06-30 15:47:32.588</td>\n",
              "      <td>Wongnai/10.0 (iPhone10,6; iOS; 11.4; en_US;)</td>\n",
              "      <td>ราชพฤกษ์</td>\n",
              "      <td>21390.0</td>\n",
              "      <td>1haj0b04ki99qql9480kbitls8</td>\n",
              "      <td>22</td>\n",
              "      <td>13.7633</td>\n",
              "      <td>100.536</td>\n",
              "    </tr>\n",
              "  </tbody>\n",
              "</table>\n",
              "<p>253276 rows × 10 columns</p>\n",
              "</div>"
            ],
            "text/plain": [
              "         Unnamed: 0                             search_id  ...      lat     long\n",
              "8                 8  02fedb5c-c9cd-46d7-9354-7613ecb7cfdd  ...  13.7209  100.527\n",
              "9                 9  e215d487-0450-4794-830a-ecfc0ab6493b  ...  13.7208  100.527\n",
              "10               10  3a69e702-e54b-497c-9b8f-c3991d4c02ff  ...  13.7209  100.527\n",
              "11               11  03cb2585-738e-4000-afed-e976d123a145  ...  13.7211  100.527\n",
              "12               12  4974a821-2bc0-4efe-9e2d-d602669dc283  ...  13.7208  100.527\n",
              "...             ...                                   ...  ...      ...      ...\n",
              "9722181     9723011  94ec6724-2edf-4e80-a120-af857aa7dbd3  ...  12.9416  100.921\n",
              "9722420     9723250  819915c4-e398-47ff-836b-37e9b814dc7c  ...   13.878  100.413\n",
              "9723069     9723900  83cf5597-8554-4d45-aaa4-213f30cd409a  ...  13.7344  100.527\n",
              "9723327     9724159  a558c025-0279-419e-8e76-dbaee81ea1c5  ...  14.0701  100.595\n",
              "9723495     9724327  0c71ab76-cc2d-41c4-8cca-7654ead40c51  ...  13.7633  100.536\n",
              "\n",
              "[253276 rows x 10 columns]"
            ]
          },
          "metadata": {
            "tags": []
          },
          "execution_count": 26
        }
      ]
    },
    {
      "cell_type": "code",
      "metadata": {
        "colab": {
          "base_uri": "https://localhost:8080/"
        },
        "id": "9rPYs-Z_klHI",
        "outputId": "b8c15fe9-cd55-4fab-a60f-b53b2b11729b"
      },
      "source": [
        "Q6.iloc[0,2]"
      ],
      "execution_count": 28,
      "outputs": [
        {
          "output_type": "execute_result",
          "data": {
            "text/plain": [
              "Timestamp('2018-06-22 12:22:17.031000')"
            ]
          },
          "metadata": {
            "tags": []
          },
          "execution_count": 28
        }
      ]
    },
    {
      "cell_type": "code",
      "metadata": {
        "colab": {
          "base_uri": "https://localhost:8080/"
        },
        "id": "-tmuwCzUkne6",
        "outputId": "55d74eb7-d180-49ec-93a9-6afd70b6973a"
      },
      "source": [
        "A = Q6[Q6['search_timestamp']<datetime(day=2,month=6,year=2018)].sum()\n",
        "print(A)"
      ],
      "execution_count": 30,
      "outputs": [
        {
          "output_type": "stream",
          "text": [
            "Unnamed: 0                                          35473877520\n",
            "search_id     4c190356-6433-43fd-89a4-bef1ec1a2c4626a3ee51-f...\n",
            "user_agent    Wongnai/8.17.1 (iPhone9,4; iOS; 11.3.1; th_TH;...\n",
            "q             ทิพย์โอชาดินดำเซ็นทรัลพระราม9the bellbellร้านก...\n",
            "user_id                                             6.61971e+08\n",
            "session_id    3l3tjtc4ud81cq2b48u4atpvj0d5fkm86c2851ocu4godp...\n",
            "dtype: object\n"
          ],
          "name": "stdout"
        }
      ]
    }
  ]
}