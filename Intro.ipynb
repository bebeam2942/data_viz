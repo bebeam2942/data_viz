{
  "nbformat": 4,
  "nbformat_minor": 0,
  "metadata": {
    "colab": {
      "name": "Intro.ipynb",
      "provenance": [],
      "authorship_tag": "ABX9TyNhEQ2c42Pt26Q8AyGH+fM8",
      "include_colab_link": true
    },
    "kernelspec": {
      "name": "python3",
      "display_name": "Python 3"
    }
  },
  "cells": [
    {
      "cell_type": "markdown",
      "metadata": {
        "id": "view-in-github",
        "colab_type": "text"
      },
      "source": [
        "<a href=\"https://colab.research.google.com/github/bebeam2942/data_viz/blob/main/Intro.ipynb\" target=\"_parent\"><img src=\"https://colab.research.google.com/assets/colab-badge.svg\" alt=\"Open In Colab\"/></a>"
      ]
    },
    {
      "cell_type": "markdown",
      "metadata": {
        "id": "LTX4xr5WMeUn"
      },
      "source": [
        "นางสาวชลธิชา ภูลคร 613020548-7"
      ]
    },
    {
      "cell_type": "markdown",
      "metadata": {
        "id": "B-O5cOekNAuk"
      },
      "source": [
        "ภาษา Markdown\r\n",
        "\r\n",
        "# Markdown\r\n",
        "## Markdown\r\n",
        "\r\n",
        "~strike~\r\n"
      ]
    },
    {
      "cell_type": "code",
      "metadata": {
        "colab": {
          "base_uri": "https://localhost:8080/"
        },
        "id": "SDXHS0pjMIO4",
        "outputId": "0ebbb28d-5cbc-4dbc-b102-81f23cdd3d6f"
      },
      "source": [
        "print('ชลธิชา')"
      ],
      "execution_count": 3,
      "outputs": [
        {
          "output_type": "stream",
          "text": [
            "ชลธิชา\n"
          ],
          "name": "stdout"
        }
      ]
    }
  ]
}