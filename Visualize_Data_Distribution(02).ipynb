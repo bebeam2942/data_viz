{
  "nbformat": 4,
  "nbformat_minor": 0,
  "metadata": {
    "colab": {
      "name": "Visualize Data Distribution(02).ipynb",
      "provenance": [],
      "toc_visible": true,
      "mount_file_id": "https://github.com/bebeam2942/data_viz/blob/main/Visualize_Data_Distribution(02).ipynb",
      "authorship_tag": "ABX9TyMQXMjziywSD45yUvbPIUlU",
      "include_colab_link": true
    },
    "kernelspec": {
      "name": "python3",
      "display_name": "Python 3"
    }
  },
  "cells": [
    {
      "cell_type": "markdown",
      "metadata": {
        "id": "view-in-github",
        "colab_type": "text"
      },
      "source": [
        "<a href=\"https://colab.research.google.com/github/bebeam2942/data_viz/blob/main/Visualize_Data_Distribution(02).ipynb\" target=\"_parent\"><img src=\"https://colab.research.google.com/assets/colab-badge.svg\" alt=\"Open In Colab\"/></a>"
      ]
    },
    {
      "cell_type": "markdown",
      "metadata": {
        "id": "fEz-nBgRMKFQ"
      },
      "source": [
        "#การแสดงผลการกระจายของข้อมูล"
      ]
    },
    {
      "cell_type": "code",
      "metadata": {
        "id": "MyoPXTwOL836"
      },
      "source": [
        "import pandas as pd\r\n",
        "from matplotlib import pyplot as plt"
      ],
      "execution_count": 1,
      "outputs": []
    },
    {
      "cell_type": "code",
      "metadata": {
        "colab": {
          "base_uri": "https://localhost:8080/",
          "height": 195
        },
        "id": "QQKV8URPMxjo",
        "outputId": "8925a9d3-8394-4082-8a76-166d749425d8"
      },
      "source": [
        "\r\n",
        "df = pd.read_csv ('https://raw.github.com/pandas-dev/pandas/master/pandas/tests/io/data/csv/iris.csv')\r\n",
        "df.head()"
      ],
      "execution_count": 2,
      "outputs": [
        {
          "output_type": "execute_result",
          "data": {
            "text/html": [
              "<div>\n",
              "<style scoped>\n",
              "    .dataframe tbody tr th:only-of-type {\n",
              "        vertical-align: middle;\n",
              "    }\n",
              "\n",
              "    .dataframe tbody tr th {\n",
              "        vertical-align: top;\n",
              "    }\n",
              "\n",
              "    .dataframe thead th {\n",
              "        text-align: right;\n",
              "    }\n",
              "</style>\n",
              "<table border=\"1\" class=\"dataframe\">\n",
              "  <thead>\n",
              "    <tr style=\"text-align: right;\">\n",
              "      <th></th>\n",
              "      <th>SepalLength</th>\n",
              "      <th>SepalWidth</th>\n",
              "      <th>PetalLength</th>\n",
              "      <th>PetalWidth</th>\n",
              "      <th>Name</th>\n",
              "    </tr>\n",
              "  </thead>\n",
              "  <tbody>\n",
              "    <tr>\n",
              "      <th>0</th>\n",
              "      <td>5.1</td>\n",
              "      <td>3.5</td>\n",
              "      <td>1.4</td>\n",
              "      <td>0.2</td>\n",
              "      <td>Iris-setosa</td>\n",
              "    </tr>\n",
              "    <tr>\n",
              "      <th>1</th>\n",
              "      <td>4.9</td>\n",
              "      <td>3.0</td>\n",
              "      <td>1.4</td>\n",
              "      <td>0.2</td>\n",
              "      <td>Iris-setosa</td>\n",
              "    </tr>\n",
              "    <tr>\n",
              "      <th>2</th>\n",
              "      <td>4.7</td>\n",
              "      <td>3.2</td>\n",
              "      <td>1.3</td>\n",
              "      <td>0.2</td>\n",
              "      <td>Iris-setosa</td>\n",
              "    </tr>\n",
              "    <tr>\n",
              "      <th>3</th>\n",
              "      <td>4.6</td>\n",
              "      <td>3.1</td>\n",
              "      <td>1.5</td>\n",
              "      <td>0.2</td>\n",
              "      <td>Iris-setosa</td>\n",
              "    </tr>\n",
              "    <tr>\n",
              "      <th>4</th>\n",
              "      <td>5.0</td>\n",
              "      <td>3.6</td>\n",
              "      <td>1.4</td>\n",
              "      <td>0.2</td>\n",
              "      <td>Iris-setosa</td>\n",
              "    </tr>\n",
              "  </tbody>\n",
              "</table>\n",
              "</div>"
            ],
            "text/plain": [
              "   SepalLength  SepalWidth  PetalLength  PetalWidth         Name\n",
              "0          5.1         3.5          1.4         0.2  Iris-setosa\n",
              "1          4.9         3.0          1.4         0.2  Iris-setosa\n",
              "2          4.7         3.2          1.3         0.2  Iris-setosa\n",
              "3          4.6         3.1          1.5         0.2  Iris-setosa\n",
              "4          5.0         3.6          1.4         0.2  Iris-setosa"
            ]
          },
          "metadata": {
            "tags": []
          },
          "execution_count": 2
        }
      ]
    },
    {
      "cell_type": "markdown",
      "metadata": {
        "id": "7fzEjZozNevo"
      },
      "source": [
        "### scatter 2D"
      ]
    },
    {
      "cell_type": "markdown",
      "metadata": {
        "id": "WI-yqvP2NnIx"
      },
      "source": [
        "### scttet-default"
      ]
    },
    {
      "cell_type": "code",
      "metadata": {
        "colab": {
          "base_uri": "https://localhost:8080/",
          "height": 282
        },
        "id": "urbiQfOPM4S8",
        "outputId": "b30e80c6-9732-4a19-cb4f-eaa2738b1ef1"
      },
      "source": [
        "plt.scatter(df['PetalLength'],df['PetalWidth'])"
      ],
      "execution_count": 3,
      "outputs": [
        {
          "output_type": "execute_result",
          "data": {
            "text/plain": [
              "<matplotlib.collections.PathCollection at 0x7f8c2a968dd0>"
            ]
          },
          "metadata": {
            "tags": []
          },
          "execution_count": 3
        },
        {
          "output_type": "display_data",
          "data": {
            "image/png": "[encoded data removed]",
            "text/plain": [
              "<Figure size 432x288 with 1 Axes>"
            ]
          },
          "metadata": {
            "tags": [],
            "needs_background": "light"
          }
        }
      ]
    },
    {
      "cell_type": "markdown",
      "metadata": {
        "id": "F-u_8YzHQ4sr"
      },
      "source": [
        "####ให้สีแต่ละจุด"
      ]
    },
    {
      "cell_type": "code",
      "metadata": {
        "colab": {
          "base_uri": "https://localhost:8080/"
        },
        "id": "7wvcpC6OPYHw",
        "outputId": "9e6353d4-22ff-4610-8196-588a843474ca"
      },
      "source": [
        "#อยากรู้ว่าในตารางมีค่าอะไรบ้าง\r\n",
        "set(df['Name'])  \r\n"
      ],
      "execution_count": 4,
      "outputs": [
        {
          "output_type": "execute_result",
          "data": {
            "text/plain": [
              "{'Iris-setosa', 'Iris-versicolor', 'Iris-virginica'}"
            ]
          },
          "metadata": {
            "tags": []
          },
          "execution_count": 4
        }
      ]
    },
    {
      "cell_type": "code",
      "metadata": {
        "colab": {
          "base_uri": "https://localhost:8080/",
          "height": 402
        },
        "id": "7I3SESLtQUEh",
        "outputId": "0b3d75bf-5715-4b99-da1f-d6d948fd625f"
      },
      "source": [
        "df2 = df.replace({'Iris-setosa':0, 'Iris-versicolor':1, 'Iris-virginica':2}) #replace เปลี่ยนชื่อค่าในตาราง\r\n",
        "df2"
      ],
      "execution_count": 5,
      "outputs": [
        {
          "output_type": "execute_result",
          "data": {
            "text/html": [
              "<div>\n",
              "<style scoped>\n",
              "    .dataframe tbody tr th:only-of-type {\n",
              "        vertical-align: middle;\n",
              "    }\n",
              "\n",
              "    .dataframe tbody tr th {\n",
              "        vertical-align: top;\n",
              "    }\n",
              "\n",
              "    .dataframe thead th {\n",
              "        text-align: right;\n",
              "    }\n",
              "</style>\n",
              "<table border=\"1\" class=\"dataframe\">\n",
              "  <thead>\n",
              "    <tr style=\"text-align: right;\">\n",
              "      <th></th>\n",
              "      <th>SepalLength</th>\n",
              "      <th>SepalWidth</th>\n",
              "      <th>PetalLength</th>\n",
              "      <th>PetalWidth</th>\n",
              "      <th>Name</th>\n",
              "    </tr>\n",
              "  </thead>\n",
              "  <tbody>\n",
              "    <tr>\n",
              "      <th>0</th>\n",
              "      <td>5.1</td>\n",
              "      <td>3.5</td>\n",
              "      <td>1.4</td>\n",
              "      <td>0.2</td>\n",
              "      <td>0</td>\n",
              "    </tr>\n",
              "    <tr>\n",
              "      <th>1</th>\n",
              "      <td>4.9</td>\n",
              "      <td>3.0</td>\n",
              "      <td>1.4</td>\n",
              "      <td>0.2</td>\n",
              "      <td>0</td>\n",
              "    </tr>\n",
              "    <tr>\n",
              "      <th>2</th>\n",
              "      <td>4.7</td>\n",
              "      <td>3.2</td>\n",
              "      <td>1.3</td>\n",
              "      <td>0.2</td>\n",
              "      <td>0</td>\n",
              "    </tr>\n",
              "    <tr>\n",
              "      <th>3</th>\n",
              "      <td>4.6</td>\n",
              "      <td>3.1</td>\n",
              "      <td>1.5</td>\n",
              "      <td>0.2</td>\n",
              "      <td>0</td>\n",
              "    </tr>\n",
              "    <tr>\n",
              "      <th>4</th>\n",
              "      <td>5.0</td>\n",
              "      <td>3.6</td>\n",
              "      <td>1.4</td>\n",
              "      <td>0.2</td>\n",
              "      <td>0</td>\n",
              "    </tr>\n",
              "    <tr>\n",
              "      <th>...</th>\n",
              "      <td>...</td>\n",
              "      <td>...</td>\n",
              "      <td>...</td>\n",
              "      <td>...</td>\n",
              "      <td>...</td>\n",
              "    </tr>\n",
              "    <tr>\n",
              "      <th>145</th>\n",
              "      <td>6.7</td>\n",
              "      <td>3.0</td>\n",
              "      <td>5.2</td>\n",
              "      <td>2.3</td>\n",
              "      <td>2</td>\n",
              "    </tr>\n",
              "    <tr>\n",
              "      <th>146</th>\n",
              "      <td>6.3</td>\n",
              "      <td>2.5</td>\n",
              "      <td>5.0</td>\n",
              "      <td>1.9</td>\n",
              "      <td>2</td>\n",
              "    </tr>\n",
              "    <tr>\n",
              "      <th>147</th>\n",
              "      <td>6.5</td>\n",
              "      <td>3.0</td>\n",
              "      <td>5.2</td>\n",
              "      <td>2.0</td>\n",
              "      <td>2</td>\n",
              "    </tr>\n",
              "    <tr>\n",
              "      <th>148</th>\n",
              "      <td>6.2</td>\n",
              "      <td>3.4</td>\n",
              "      <td>5.4</td>\n",
              "      <td>2.3</td>\n",
              "      <td>2</td>\n",
              "    </tr>\n",
              "    <tr>\n",
              "      <th>149</th>\n",
              "      <td>5.9</td>\n",
              "      <td>3.0</td>\n",
              "      <td>5.1</td>\n",
              "      <td>1.8</td>\n",
              "      <td>2</td>\n",
              "    </tr>\n",
              "  </tbody>\n",
              "</table>\n",
              "<p>150 rows × 5 columns</p>\n",
              "</div>"
            ],
            "text/plain": [
              "     SepalLength  SepalWidth  PetalLength  PetalWidth  Name\n",
              "0            5.1         3.5          1.4         0.2     0\n",
              "1            4.9         3.0          1.4         0.2     0\n",
              "2            4.7         3.2          1.3         0.2     0\n",
              "3            4.6         3.1          1.5         0.2     0\n",
              "4            5.0         3.6          1.4         0.2     0\n",
              "..           ...         ...          ...         ...   ...\n",
              "145          6.7         3.0          5.2         2.3     2\n",
              "146          6.3         2.5          5.0         1.9     2\n",
              "147          6.5         3.0          5.2         2.0     2\n",
              "148          6.2         3.4          5.4         2.3     2\n",
              "149          5.9         3.0          5.1         1.8     2\n",
              "\n",
              "[150 rows x 5 columns]"
            ]
          },
          "metadata": {
            "tags": []
          },
          "execution_count": 5
        }
      ]
    },
    {
      "cell_type": "code",
      "metadata": {
        "colab": {
          "base_uri": "https://localhost:8080/",
          "height": 282
        },
        "id": "F2fBbJwbOGOc",
        "outputId": "edbc75b6-edc9-4c90-8d36-75549783382e"
      },
      "source": [
        "#จะแยกสีเพื่อให้รู้ว่าตัวไหนกระจายยังไง\r\n",
        "plt.scatter(df['PetalLength'],df['PetalWidth'],c=df2['Name']) \r\n"
      ],
      "execution_count": 6,
      "outputs": [
        {
          "output_type": "execute_result",
          "data": {
            "text/plain": [
              "<matplotlib.collections.PathCollection at 0x7f8c2a968c90>"
            ]
          },
          "metadata": {
            "tags": []
          },
          "execution_count": 6
        },
        {
          "output_type": "display_data",
          "data": {
            "image/png": "[encoded data removed]",
            "text/plain": [
              "<Figure size 432x288 with 1 Axes>"
            ]
          },
          "metadata": {
            "tags": [],
            "needs_background": "light"
          }
        }
      ]
    },
    {
      "cell_type": "markdown",
      "metadata": {
        "id": "37ipil3BC7zI"
      },
      "source": [
        "### alpha กำฟนดความโปร่งแสง"
      ]
    },
    {
      "cell_type": "code",
      "metadata": {
        "id": "fOxkW_YMCyGp",
        "colab": {
          "base_uri": "https://localhost:8080/",
          "height": 282
        },
        "outputId": "07c4f13e-97ae-4d91-e6fc-2db97be98820"
      },
      "source": [
        "plt.scatter(df['PetalLength'],df['PetalWidth'],c=df2['Name'],alpha=0.5)"
      ],
      "execution_count": 7,
      "outputs": [
        {
          "output_type": "execute_result",
          "data": {
            "text/plain": [
              "<matplotlib.collections.PathCollection at 0x7f8c2a3c1c90>"
            ]
          },
          "metadata": {
            "tags": []
          },
          "execution_count": 7
        },
        {
          "output_type": "display_data",
          "data": {
            "image/png": "[encoded data removed]",
            "text/plain": [
              "<Figure size 432x288 with 1 Axes>"
            ]
          },
          "metadata": {
            "tags": [],
            "needs_background": "light"
          }
        }
      ]
    },
    {
      "cell_type": "markdown",
      "metadata": {
        "id": "5rtTVH3EET-o"
      },
      "source": [
        "## ใช้ขนาดของ marker แสดงค่าของ feature"
      ]
    },
    {
      "cell_type": "code",
      "metadata": {
        "id": "EZsgURsFDT8n",
        "colab": {
          "base_uri": "https://localhost:8080/",
          "height": 282
        },
        "outputId": "0c1af965-0a62-4e68-f4ed-76c2e191a289"
      },
      "source": [
        "plt.scatter(df['PetalLength'],df['PetalWidth'],s=10*df['SepalWidth'],c=df2['Name'],alpha=0.5)"
      ],
      "execution_count": 8,
      "outputs": [
        {
          "output_type": "execute_result",
          "data": {
            "text/plain": [
              "<matplotlib.collections.PathCollection at 0x7f8c2a3b61d0>"
            ]
          },
          "metadata": {
            "tags": []
          },
          "execution_count": 8
        },
        {
          "output_type": "display_data",
          "data": {
            "image/png": "[encoded data removed]",
            "text/plain": [
              "<Figure size 432x288 with 1 Axes>"
            ]
          },
          "metadata": {
            "tags": [],
            "needs_background": "light"
          }
        }
      ]
    },
    {
      "cell_type": "markdown",
      "metadata": {
        "id": "EoQBfqUZFvqD"
      },
      "source": [
        "## ตัวแปร Marker ใช้ในการเปลี่ยนหน้าตาของ marker"
      ]
    },
    {
      "cell_type": "code",
      "metadata": {
        "id": "nByiGxNiRJ-w",
        "colab": {
          "base_uri": "https://localhost:8080/",
          "height": 282
        },
        "outputId": "7b6c1b6f-69e4-4f15-febc-91966aa88ea4"
      },
      "source": [
        "plt.scatter(df['PetalLength'],df['PetalWidth'],s=100,c=df2['Name'],alpha=0.5,marker='$A$')"
      ],
      "execution_count": 9,
      "outputs": [
        {
          "output_type": "execute_result",
          "data": {
            "text/plain": [
              "<matplotlib.collections.PathCollection at 0x7f8c28fc3090>"
            ]
          },
          "metadata": {
            "tags": []
          },
          "execution_count": 9
        },
        {
          "output_type": "display_data",
          "data": {
            "image/png": "[encoded data removed]",
            "text/plain": [
              "<Figure size 432x288 with 1 Axes>"
            ]
          },
          "metadata": {
            "tags": [],
            "needs_background": "light"
          }
        }
      ]
    },
    {
      "cell_type": "markdown",
      "metadata": {
        "id": "dBydzgQVHBdZ"
      },
      "source": [
        "## การ plot กราฟหลายๆอันซ้อนกัน"
      ]
    },
    {
      "cell_type": "code",
      "metadata": {
        "id": "yEgzxNUyGZ-0",
        "colab": {
          "base_uri": "https://localhost:8080/",
          "height": 282
        },
        "outputId": "6c5b27cd-253c-40ea-f238-62e80c2a6b6a"
      },
      "source": [
        "plt.scatter(df['PetalLength'][:50],df['PetalWidth'][:50],s=100,c='m',alpha=0.5,marker='$A$')\r\n",
        "plt.scatter(df['PetalLength'][50:100],df['PetalWidth'][50:100],s=100,c='c',alpha=0.5,marker='$B$')\r\n",
        "plt.scatter(df['PetalLength'][100:],df['PetalWidth'][100:],s=100,c='r',alpha=0.5,marker='$C$')"
      ],
      "execution_count": 10,
      "outputs": [
        {
          "output_type": "execute_result",
          "data": {
            "text/plain": [
              "<matplotlib.collections.PathCollection at 0x7f8c28f9b990>"
            ]
          },
          "metadata": {
            "tags": []
          },
          "execution_count": 10
        },
        {
          "output_type": "display_data",
          "data": {
            "image/png": "[encoded data removed]",
            "text/plain": [
              "<Figure size 432x288 with 1 Axes>"
            ]
          },
          "metadata": {
            "tags": [],
            "needs_background": "light"
          }
        }
      ]
    },
    {
      "cell_type": "markdown",
      "metadata": {
        "id": "gD_WmCVV460E"
      },
      "source": [
        "## Label-Legend"
      ]
    },
    {
      "cell_type": "markdown",
      "metadata": {
        "id": "tUPxZda36EgL"
      },
      "source": [
        "```plt.plot()``` input ตัวที่ 3 คือ ตัวกำหนดหน้าตาของ marker\r\n",
        "\r\n",
        "\r\n",
        "\r\n",
        "\r\n",
        "\r\n",
        "\r\n",
        "\r\n"
      ]
    },
    {
      "cell_type": "code",
      "metadata": {
        "id": "KPYLR3Qe6iSE",
        "colab": {
          "base_uri": "https://localhost:8080/",
          "height": 282
        },
        "outputId": "1145450a-9438-4c15-e2ae-ac48de753fe5"
      },
      "source": [
        "plt.plot(df['PetalLength'][:50],df['PetalWidth'][:50],'o-r',alpha=0.5) #ตัวmarkerเป็นo เส้นเชื่อมเป็น-"
      ],
      "execution_count": 11,
      "outputs": [
        {
          "output_type": "execute_result",
          "data": {
            "text/plain": [
              "[<matplotlib.lines.Line2D at 0x7f8c28f3a450>]"
            ]
          },
          "metadata": {
            "tags": []
          },
          "execution_count": 11
        },
        {
          "output_type": "display_data",
          "data": {
            "image/png": "[encoded data removed]",
            "text/plain": [
              "<Figure size 432x288 with 1 Axes>"
            ]
          },
          "metadata": {
            "tags": [],
            "needs_background": "light"
          }
        }
      ]
    },
    {
      "cell_type": "code",
      "metadata": {
        "id": "T0428E0w6_Hk",
        "colab": {
          "base_uri": "https://localhost:8080/",
          "height": 282
        },
        "outputId": "5f27b50e-10ff-4ee6-d149-2a6c788ab3b7"
      },
      "source": [
        "plt.plot(df['PetalLength'][:50],df['PetalWidth'][:50],'o:r',alpha=0.5)"
      ],
      "execution_count": 12,
      "outputs": [
        {
          "output_type": "execute_result",
          "data": {
            "text/plain": [
              "[<matplotlib.lines.Line2D at 0x7f8c28f2b2d0>]"
            ]
          },
          "metadata": {
            "tags": []
          },
          "execution_count": 12
        },
        {
          "output_type": "display_data",
          "data": {
            "image/png": "[encoded data removed]",
            "text/plain": [
              "<Figure size 432x288 with 1 Axes>"
            ]
          },
          "metadata": {
            "tags": [],
            "needs_background": "light"
          }
        }
      ]
    },
    {
      "cell_type": "code",
      "metadata": {
        "id": "9ISSqrCYIGdH",
        "colab": {
          "base_uri": "https://localhost:8080/",
          "height": 282
        },
        "outputId": "f5d0ac44-2810-4a62-8463-883d4e8424f0"
      },
      "source": [
        "plt.plot(df['PetalLength'][:50],df['PetalWidth'][:50],'or',alpha=0.5)\r\n",
        "plt.plot(df['PetalLength'][50:100],df['PetalWidth'][50:100],'xc',alpha=0.5)\r\n",
        "plt.plot(df['PetalLength'][100:],df['PetalWidth'][100:],'*r',alpha=0.5)"
      ],
      "execution_count": 13,
      "outputs": [
        {
          "output_type": "execute_result",
          "data": {
            "text/plain": [
              "[<matplotlib.lines.Line2D at 0x7f8c28e49750>]"
            ]
          },
          "metadata": {
            "tags": []
          },
          "execution_count": 13
        },
        {
          "output_type": "display_data",
          "data": {
            "image/png": "[encoded data removed]",
            "text/plain": [
              "<Figure size 432x288 with 1 Axes>"
            ]
          },
          "metadata": {
            "tags": [],
            "needs_background": "light"
          }
        }
      ]
    },
    {
      "cell_type": "code",
      "metadata": {
        "id": "ggDxyDZP5jUH",
        "colab": {
          "base_uri": "https://localhost:8080/",
          "height": 295
        },
        "outputId": "372275d2-581a-49d7-d0c6-8e525dcf5df2"
      },
      "source": [
        "plt.plot(df['PetalLength'][:50],df['PetalWidth'][:50],'or',alpha=0.5,label = 'setosa')\r\n",
        "plt.plot(df['PetalLength'][50:100],df['PetalWidth'][50:100],'xc',alpha=0.5,label = 'versicolor')\r\n",
        "plt.plot(df['PetalLength'][100:],df['PetalWidth'][100:],'*r',alpha=0.5,label = 'virginica')\r\n",
        "plt.legend(loc='lower right')\r\n",
        "plt.title('Iris flower data distribution') ##ชื่อกราฟ\r\n",
        "plt.xlabel('PetalLength'); ##ชื่อแกนX\r\n",
        "plt.ylabel('PetalWidth'); ##ชื่อแกนY"
      ],
      "execution_count": 14,
      "outputs": [
        {
          "output_type": "display_data",
          "data": {
            "image/png": "[encoded data removed]",
            "text/plain": [
              "<Figure size 432x288 with 1 Axes>"
            ]
          },
          "metadata": {
            "tags": [],
            "needs_background": "light"
          }
        }
      ]
    },
    {
      "cell_type": "markdown",
      "metadata": {
        "id": "tYcau8so-hku"
      },
      "source": [
        "## 3D scatter"
      ]
    },
    {
      "cell_type": "code",
      "metadata": {
        "id": "POFMvw0t8BEj",
        "colab": {
          "base_uri": "https://localhost:8080/",
          "height": 265
        },
        "outputId": "74c60c02-3cf5-4554-ea0c-86091fa62d32"
      },
      "source": [
        "ax = plt.axes(projection=\"3d\")\r\n",
        "ax.scatter3D(df['PetalLength'],df['PetalWidth'],df['SepalWidth'],c=df2['Name'])\r\n"
      ],
      "execution_count": 15,
      "outputs": [
        {
          "output_type": "execute_result",
          "data": {
            "text/plain": [
              "<mpl_toolkits.mplot3d.art3d.Path3DCollection at 0x7f8c28dbd590>"
            ]
          },
          "metadata": {
            "tags": []
          },
          "execution_count": 15
        },
        {
          "output_type": "display_data",
          "data": {
            "image/png": "[encoded data removed]",
            "text/plain": [
              "<Figure size 432x288 with 1 Axes>"
            ]
          },
          "metadata": {
            "tags": [],
            "needs_background": "light"
          }
        }
      ]
    },
    {
      "cell_type": "markdown",
      "metadata": {
        "id": "RmYo95ce_pmA"
      },
      "source": [
        "## Bubble Chart"
      ]
    },
    {
      "cell_type": "markdown",
      "metadata": {
        "id": "-DvrvDZ3Ae9Y"
      },
      "source": [
        "#### Scatter plot ที่ใช้ขนาดของ marker ในการสื่อปริมาณของข้อมูล"
      ]
    },
    {
      "cell_type": "code",
      "metadata": {
        "id": "uZGlS3c787Hs",
        "colab": {
          "base_uri": "https://localhost:8080/",
          "height": 282
        },
        "outputId": "61521624-47dc-4929-964e-3e9d69fe621a"
      },
      "source": [
        "plt.scatter(df['PetalLength'][:50],df['PetalWidth'][:50],s=200*df['SepalWidth'][:50],c='r',alpha=0.5)"
      ],
      "execution_count": 16,
      "outputs": [
        {
          "output_type": "execute_result",
          "data": {
            "text/plain": [
              "<matplotlib.collections.PathCollection at 0x7f8c28d7e510>"
            ]
          },
          "metadata": {
            "tags": []
          },
          "execution_count": 16
        },
        {
          "output_type": "display_data",
          "data": {
            "image/png": "[encoded data removed]",
            "text/plain": [
              "<Figure size 432x288 with 1 Axes>"
            ]
          },
          "metadata": {
            "tags": [],
            "needs_background": "light"
          }
        }
      ]
    },
    {
      "cell_type": "markdown",
      "metadata": {
        "id": "5iJIrX66CPSt"
      },
      "source": [
        "### Example"
      ]
    },
    {
      "cell_type": "code",
      "metadata": {
        "id": "gbnv7A1YA8tf",
        "colab": {
          "base_uri": "https://localhost:8080/",
          "height": 1000
        },
        "outputId": "9981c408-9658-483b-cb3e-fdb672544e62"
      },
      "source": [
        "data = pd.read_excel('/content/drive/MyDrive/dataviz_2021_data/passenger-covid19.xlsx')   \r\n",
        "data"
      ],
      "execution_count": 17,
      "outputs": [
        {
          "output_type": "execute_result",
          "data": {
            "text/html": [
              "<div>\n",
              "<style scoped>\n",
              "    .dataframe tbody tr th:only-of-type {\n",
              "        vertical-align: middle;\n",
              "    }\n",
              "\n",
              "    .dataframe tbody tr th {\n",
              "        vertical-align: top;\n",
              "    }\n",
              "\n",
              "    .dataframe thead th {\n",
              "        text-align: right;\n",
              "    }\n",
              "</style>\n",
              "<table border=\"1\" class=\"dataframe\">\n",
              "  <thead>\n",
              "    <tr style=\"text-align: right;\">\n",
              "      <th></th>\n",
              "      <th>ขนคน/ขนสินค้า</th>\n",
              "      <th>โหมดการเดินทาง</th>\n",
              "      <th>รูปแบบการเดินทาง</th>\n",
              "      <th>สาธารณะ/ส่วนบุคคล</th>\n",
              "      <th>หน่วยงาน</th>\n",
              "      <th>ยานพาหนะ/ท่า</th>\n",
              "      <th>ม.ค. 2562</th>\n",
              "      <th>ก.พ. 2562</th>\n",
              "      <th>มี.ค. 2562</th>\n",
              "      <th>เม.ย. 2562</th>\n",
              "      <th>พ.ค. 2562</th>\n",
              "      <th>มิ.ย. 2562</th>\n",
              "      <th>ก.ค. 2562</th>\n",
              "      <th>ส.ค. 2562</th>\n",
              "      <th>ก.ย. 2562</th>\n",
              "      <th>ต.ค. 2562</th>\n",
              "      <th>พ.ย. 2562</th>\n",
              "      <th>ธ.ค. 2562</th>\n",
              "    </tr>\n",
              "  </thead>\n",
              "  <tbody>\n",
              "    <tr>\n",
              "      <th>0</th>\n",
              "      <td>ขนคน (คน)</td>\n",
              "      <td>ทางบก</td>\n",
              "      <td>การเดินทางระหว่างจังหวัด</td>\n",
              "      <td>สาธารณะ</td>\n",
              "      <td>บขส.</td>\n",
              "      <td>รถ ขบส. และ รถร่วม</td>\n",
              "      <td>5236331</td>\n",
              "      <td>4628878.0</td>\n",
              "      <td>5234387.0</td>\n",
              "      <td>5137450.0</td>\n",
              "      <td>4885221.0</td>\n",
              "      <td>4572261.0</td>\n",
              "      <td>4772689.0</td>\n",
              "      <td>4701554.0</td>\n",
              "      <td>4482707.0</td>\n",
              "      <td>4774815.0</td>\n",
              "      <td>4559610.0</td>\n",
              "      <td>4840673.0</td>\n",
              "    </tr>\n",
              "    <tr>\n",
              "      <th>1</th>\n",
              "      <td>ขนคน (คน)</td>\n",
              "      <td>ทางบก</td>\n",
              "      <td>การเดินทางระหว่างจังหวัด</td>\n",
              "      <td>สาธารณะ</td>\n",
              "      <td>ขบ.</td>\n",
              "      <td>รถ Taxi</td>\n",
              "      <td>NaN</td>\n",
              "      <td>NaN</td>\n",
              "      <td>NaN</td>\n",
              "      <td>NaN</td>\n",
              "      <td>NaN</td>\n",
              "      <td>NaN</td>\n",
              "      <td>NaN</td>\n",
              "      <td>NaN</td>\n",
              "      <td>NaN</td>\n",
              "      <td>NaN</td>\n",
              "      <td>NaN</td>\n",
              "      <td>NaN</td>\n",
              "    </tr>\n",
              "    <tr>\n",
              "      <th>2</th>\n",
              "      <td>ขนคน (คน)</td>\n",
              "      <td>ทางบก</td>\n",
              "      <td>การเดินทางระหว่างจังหวัด</td>\n",
              "      <td>สาธารณะ</td>\n",
              "      <td>ขบ.</td>\n",
              "      <td>รถหมวด 3</td>\n",
              "      <td>2550864</td>\n",
              "      <td>2334128.0</td>\n",
              "      <td>2599144.0</td>\n",
              "      <td>2602024.0</td>\n",
              "      <td>2543424.0</td>\n",
              "      <td>2435944.0</td>\n",
              "      <td>2526104.0</td>\n",
              "      <td>2492728.0</td>\n",
              "      <td>2420736.0</td>\n",
              "      <td>2499408.0</td>\n",
              "      <td>2450888.0</td>\n",
              "      <td>2516032.0</td>\n",
              "    </tr>\n",
              "    <tr>\n",
              "      <th>3</th>\n",
              "      <td>ขนคน (คัน)</td>\n",
              "      <td>ทางบก</td>\n",
              "      <td>การเดินทางระหว่างจังหวัด</td>\n",
              "      <td>ส่วนบุคคล</td>\n",
              "      <td>ทล.</td>\n",
              "      <td>รถยนต์ (10 จุดสำรวจ)</td>\n",
              "      <td>28907234</td>\n",
              "      <td>26699682.0</td>\n",
              "      <td>30210655.0</td>\n",
              "      <td>28542444.0</td>\n",
              "      <td>29407838.0</td>\n",
              "      <td>27789633.0</td>\n",
              "      <td>28811411.0</td>\n",
              "      <td>29552867.0</td>\n",
              "      <td>27950945.0</td>\n",
              "      <td>29335664.0</td>\n",
              "      <td>28325020.0</td>\n",
              "      <td>29615013.0</td>\n",
              "    </tr>\n",
              "    <tr>\n",
              "      <th>4</th>\n",
              "      <td>ขนคน (คัน)</td>\n",
              "      <td>ทางบก</td>\n",
              "      <td>การเดินทางระหว่างจังหวัด</td>\n",
              "      <td>ส่วนบุคคล</td>\n",
              "      <td>กทพ.</td>\n",
              "      <td>รถยนต์ (ทางด่วน)</td>\n",
              "      <td>56404661</td>\n",
              "      <td>51536713.0</td>\n",
              "      <td>57376504.0</td>\n",
              "      <td>46838468.0</td>\n",
              "      <td>45769555.0</td>\n",
              "      <td>47344042.0</td>\n",
              "      <td>46027953.0</td>\n",
              "      <td>47566521.0</td>\n",
              "      <td>44765838.0</td>\n",
              "      <td>47236151.0</td>\n",
              "      <td>46996660.0</td>\n",
              "      <td>47294111.0</td>\n",
              "    </tr>\n",
              "    <tr>\n",
              "      <th>5</th>\n",
              "      <td>ขนคน (คัน)</td>\n",
              "      <td>ทางบก</td>\n",
              "      <td>การเดินทางระหว่างจังหวัด</td>\n",
              "      <td>ส่วนบุคคล</td>\n",
              "      <td>ทล.</td>\n",
              "      <td>รถจักรยานยนต์</td>\n",
              "      <td>NaN</td>\n",
              "      <td>NaN</td>\n",
              "      <td>NaN</td>\n",
              "      <td>NaN</td>\n",
              "      <td>NaN</td>\n",
              "      <td>NaN</td>\n",
              "      <td>NaN</td>\n",
              "      <td>NaN</td>\n",
              "      <td>NaN</td>\n",
              "      <td>NaN</td>\n",
              "      <td>NaN</td>\n",
              "      <td>NaN</td>\n",
              "    </tr>\n",
              "    <tr>\n",
              "      <th>6</th>\n",
              "      <td>ขนคน (คน)</td>\n",
              "      <td>ทางบก</td>\n",
              "      <td>การเดินทางภายในจังหวัด/กรุงเทพ</td>\n",
              "      <td>สาธารณะ</td>\n",
              "      <td>ขบ.</td>\n",
              "      <td>รถหมวด 4</td>\n",
              "      <td>108716</td>\n",
              "      <td>103437.0</td>\n",
              "      <td>102001.0</td>\n",
              "      <td>104421.0</td>\n",
              "      <td>107417.0</td>\n",
              "      <td>107698.0</td>\n",
              "      <td>109522.0</td>\n",
              "      <td>107789.0</td>\n",
              "      <td>104813.0</td>\n",
              "      <td>105082.0</td>\n",
              "      <td>108037.0</td>\n",
              "      <td>104032.0</td>\n",
              "    </tr>\n",
              "    <tr>\n",
              "      <th>7</th>\n",
              "      <td>ขนคน (คน)</td>\n",
              "      <td>ทางบก</td>\n",
              "      <td>การเดินทางภายในจังหวัด/กรุงเทพ</td>\n",
              "      <td>สาธารณะ</td>\n",
              "      <td>ขบ.</td>\n",
              "      <td>รถจักรยานยนต์รับจ้าง</td>\n",
              "      <td>NaN</td>\n",
              "      <td>NaN</td>\n",
              "      <td>NaN</td>\n",
              "      <td>NaN</td>\n",
              "      <td>NaN</td>\n",
              "      <td>NaN</td>\n",
              "      <td>NaN</td>\n",
              "      <td>NaN</td>\n",
              "      <td>NaN</td>\n",
              "      <td>NaN</td>\n",
              "      <td>NaN</td>\n",
              "      <td>NaN</td>\n",
              "    </tr>\n",
              "    <tr>\n",
              "      <th>8</th>\n",
              "      <td>ขนคน (คน)</td>\n",
              "      <td>ทางบก</td>\n",
              "      <td>การเดินทางภายในจังหวัด/กรุงเทพ</td>\n",
              "      <td>สาธารณะ</td>\n",
              "      <td>ขสมก.</td>\n",
              "      <td>รถเมล์ ขสมก.</td>\n",
              "      <td>32756201</td>\n",
              "      <td>29567092.0</td>\n",
              "      <td>32278496.0</td>\n",
              "      <td>29002665.0</td>\n",
              "      <td>29444786.0</td>\n",
              "      <td>29774190.0</td>\n",
              "      <td>29961893.0</td>\n",
              "      <td>30476179.0</td>\n",
              "      <td>29328968.0</td>\n",
              "      <td>29879889.0</td>\n",
              "      <td>29672244.0</td>\n",
              "      <td>29019427.0</td>\n",
              "    </tr>\n",
              "    <tr>\n",
              "      <th>9</th>\n",
              "      <td>ขนคน (คน)</td>\n",
              "      <td>ทางบก</td>\n",
              "      <td>การเดินทางภายในจังหวัด/กรุงเทพ</td>\n",
              "      <td>สาธารณะ</td>\n",
              "      <td>ขสมก.</td>\n",
              "      <td>รถร่วม (หมวด 1)</td>\n",
              "      <td>28753451</td>\n",
              "      <td>27871978.0</td>\n",
              "      <td>28249937.0</td>\n",
              "      <td>23874176.0</td>\n",
              "      <td>24499764.0</td>\n",
              "      <td>25942632.0</td>\n",
              "      <td>25560717.0</td>\n",
              "      <td>24770240.0</td>\n",
              "      <td>26511750.0</td>\n",
              "      <td>24935747.0</td>\n",
              "      <td>25368180.0</td>\n",
              "      <td>24993204.0</td>\n",
              "    </tr>\n",
              "    <tr>\n",
              "      <th>10</th>\n",
              "      <td>ขนคน (คัน)</td>\n",
              "      <td>ทางบก</td>\n",
              "      <td>การเดินทางภายในจังหวัด/กรุงเทพ</td>\n",
              "      <td>ส่วนบุคคล</td>\n",
              "      <td>ทล.</td>\n",
              "      <td>รถยนต์</td>\n",
              "      <td>NaN</td>\n",
              "      <td>NaN</td>\n",
              "      <td>NaN</td>\n",
              "      <td>NaN</td>\n",
              "      <td>NaN</td>\n",
              "      <td>NaN</td>\n",
              "      <td>NaN</td>\n",
              "      <td>NaN</td>\n",
              "      <td>NaN</td>\n",
              "      <td>NaN</td>\n",
              "      <td>NaN</td>\n",
              "      <td>NaN</td>\n",
              "    </tr>\n",
              "    <tr>\n",
              "      <th>11</th>\n",
              "      <td>ขนคน (คัน)</td>\n",
              "      <td>ทางบก</td>\n",
              "      <td>การเดินทางภายในจังหวัด/กรุงเทพ</td>\n",
              "      <td>ส่วนบุคคล</td>\n",
              "      <td>ทล.</td>\n",
              "      <td>รถจักรยานยนต์</td>\n",
              "      <td>NaN</td>\n",
              "      <td>NaN</td>\n",
              "      <td>NaN</td>\n",
              "      <td>NaN</td>\n",
              "      <td>NaN</td>\n",
              "      <td>NaN</td>\n",
              "      <td>NaN</td>\n",
              "      <td>NaN</td>\n",
              "      <td>NaN</td>\n",
              "      <td>NaN</td>\n",
              "      <td>NaN</td>\n",
              "      <td>NaN</td>\n",
              "    </tr>\n",
              "    <tr>\n",
              "      <th>12</th>\n",
              "      <td>ขนคน (คน)</td>\n",
              "      <td>ทางน้ำ</td>\n",
              "      <td>การเดินทางระหว่างจังหวัด</td>\n",
              "      <td>สาธารณะ</td>\n",
              "      <td>จท.</td>\n",
              "      <td>เรือภูมิภาค</td>\n",
              "      <td>ไม่มีการจัดเก็บข้อมูล</td>\n",
              "      <td>NaN</td>\n",
              "      <td>NaN</td>\n",
              "      <td>NaN</td>\n",
              "      <td>NaN</td>\n",
              "      <td>NaN</td>\n",
              "      <td>NaN</td>\n",
              "      <td>NaN</td>\n",
              "      <td>NaN</td>\n",
              "      <td>NaN</td>\n",
              "      <td>NaN</td>\n",
              "      <td>NaN</td>\n",
              "    </tr>\n",
              "    <tr>\n",
              "      <th>13</th>\n",
              "      <td>ขนคน (คน)</td>\n",
              "      <td>ทางน้ำ</td>\n",
              "      <td>การเดินทางภายในจังหวัด/กรุงเทพ</td>\n",
              "      <td>สาธารณะ</td>\n",
              "      <td>จท.</td>\n",
              "      <td>เรือเจ้าพระยา</td>\n",
              "      <td>968060</td>\n",
              "      <td>848038.0</td>\n",
              "      <td>819430.0</td>\n",
              "      <td>714176.0</td>\n",
              "      <td>721440.0</td>\n",
              "      <td>775351.0</td>\n",
              "      <td>881799.0</td>\n",
              "      <td>857927.0</td>\n",
              "      <td>687417.0</td>\n",
              "      <td>668144.0</td>\n",
              "      <td>771668.0</td>\n",
              "      <td>766378.0</td>\n",
              "    </tr>\n",
              "    <tr>\n",
              "      <th>14</th>\n",
              "      <td>ขนคน (คน)</td>\n",
              "      <td>ทางน้ำ</td>\n",
              "      <td>การเดินทางภายในจังหวัด/กรุงเทพ</td>\n",
              "      <td>สาธารณะ</td>\n",
              "      <td>จท.</td>\n",
              "      <td>เรือคลองแสนแสบ</td>\n",
              "      <td>818195</td>\n",
              "      <td>800744.0</td>\n",
              "      <td>820090.0</td>\n",
              "      <td>636994.0</td>\n",
              "      <td>815729.0</td>\n",
              "      <td>830625.0</td>\n",
              "      <td>796782.0</td>\n",
              "      <td>817956.0</td>\n",
              "      <td>826987.0</td>\n",
              "      <td>846489.0</td>\n",
              "      <td>837965.0</td>\n",
              "      <td>796559.0</td>\n",
              "    </tr>\n",
              "    <tr>\n",
              "      <th>15</th>\n",
              "      <td>ขนคน (คน)</td>\n",
              "      <td>ทางน้ำ</td>\n",
              "      <td>การเดินทางภายในจังหวัด/กรุงเทพ</td>\n",
              "      <td>สาธารณะ</td>\n",
              "      <td>จท.</td>\n",
              "      <td>เรือภูมิภาค</td>\n",
              "      <td>6288628</td>\n",
              "      <td>6308324.0</td>\n",
              "      <td>6494292.0</td>\n",
              "      <td>8040472.0</td>\n",
              "      <td>5687057.0</td>\n",
              "      <td>5233272.0</td>\n",
              "      <td>5431222.0</td>\n",
              "      <td>6520566.0</td>\n",
              "      <td>5345152.0</td>\n",
              "      <td>6405377.0</td>\n",
              "      <td>6420869.0</td>\n",
              "      <td>7216193.0</td>\n",
              "    </tr>\n",
              "    <tr>\n",
              "      <th>16</th>\n",
              "      <td>ขนคน (คน)</td>\n",
              "      <td>ทางน้ำ</td>\n",
              "      <td>การเดินทางภายในจังหวัด/กรุงเทพ</td>\n",
              "      <td>ส่วนบุคคล</td>\n",
              "      <td>จท.</td>\n",
              "      <td>เรือส่วนบุคคล</td>\n",
              "      <td>ไม่มีการจัดเก็บข้อมูล</td>\n",
              "      <td>NaN</td>\n",
              "      <td>NaN</td>\n",
              "      <td>NaN</td>\n",
              "      <td>NaN</td>\n",
              "      <td>NaN</td>\n",
              "      <td>NaN</td>\n",
              "      <td>NaN</td>\n",
              "      <td>NaN</td>\n",
              "      <td>NaN</td>\n",
              "      <td>NaN</td>\n",
              "      <td>NaN</td>\n",
              "    </tr>\n",
              "    <tr>\n",
              "      <th>17</th>\n",
              "      <td>ขนคน (คน)</td>\n",
              "      <td>ทางราง</td>\n",
              "      <td>การเดินทางระหว่างจังหวัด</td>\n",
              "      <td>สาธารณะ</td>\n",
              "      <td>รฟท.</td>\n",
              "      <td>รถไฟ</td>\n",
              "      <td>2715054</td>\n",
              "      <td>2388220.0</td>\n",
              "      <td>2797101.0</td>\n",
              "      <td>2736354.0</td>\n",
              "      <td>2591968.0</td>\n",
              "      <td>2487475.0</td>\n",
              "      <td>2647634.0</td>\n",
              "      <td>2720879.0</td>\n",
              "      <td>2441734.0</td>\n",
              "      <td>2950359.0</td>\n",
              "      <td>2609722.0</td>\n",
              "      <td>2715880.0</td>\n",
              "    </tr>\n",
              "    <tr>\n",
              "      <th>18</th>\n",
              "      <td>ขนคน (คน)</td>\n",
              "      <td>ทางราง</td>\n",
              "      <td>การเดินทางภายในจังหวัด/กรุงเทพ</td>\n",
              "      <td>สาธารณะ</td>\n",
              "      <td>รฟม.</td>\n",
              "      <td>รถไฟฟ้าสายสีน้ำเงิน</td>\n",
              "      <td>9080423</td>\n",
              "      <td>8334110.0</td>\n",
              "      <td>9462844.0</td>\n",
              "      <td>8206327.0</td>\n",
              "      <td>8038437.0</td>\n",
              "      <td>8572432.0</td>\n",
              "      <td>9056787.0</td>\n",
              "      <td>10260894.0</td>\n",
              "      <td>10676842.0</td>\n",
              "      <td>10793797.0</td>\n",
              "      <td>11520590.0</td>\n",
              "      <td>10265578.0</td>\n",
              "    </tr>\n",
              "    <tr>\n",
              "      <th>19</th>\n",
              "      <td>ขนคน (คน)</td>\n",
              "      <td>ทางราง</td>\n",
              "      <td>การเดินทางภายในจังหวัด/กรุงเทพ</td>\n",
              "      <td>สาธารณะ</td>\n",
              "      <td>รฟม.</td>\n",
              "      <td>รถไฟฟ้าสายสีม่วง</td>\n",
              "      <td>1172956</td>\n",
              "      <td>1060635.0</td>\n",
              "      <td>1224857.0</td>\n",
              "      <td>1072255.0</td>\n",
              "      <td>1125328.0</td>\n",
              "      <td>1245619.0</td>\n",
              "      <td>1297620.0</td>\n",
              "      <td>1339673.0</td>\n",
              "      <td>1291700.0</td>\n",
              "      <td>1280900.0</td>\n",
              "      <td>1305024.0</td>\n",
              "      <td>1179272.0</td>\n",
              "    </tr>\n",
              "    <tr>\n",
              "      <th>20</th>\n",
              "      <td>ขนคน (คน)</td>\n",
              "      <td>ทางราง</td>\n",
              "      <td>การเดินทางภายในจังหวัด/กรุงเทพ</td>\n",
              "      <td>สาธารณะ</td>\n",
              "      <td>รฟฟท.</td>\n",
              "      <td>รถไฟฟ้า ARL</td>\n",
              "      <td>2167528</td>\n",
              "      <td>1986306.0</td>\n",
              "      <td>2294142.0</td>\n",
              "      <td>2075144.0</td>\n",
              "      <td>2004377.0</td>\n",
              "      <td>2204219.0</td>\n",
              "      <td>2201717.0</td>\n",
              "      <td>2215873.0</td>\n",
              "      <td>2158113.0</td>\n",
              "      <td>2196794.0</td>\n",
              "      <td>2290792.0</td>\n",
              "      <td>2181036.0</td>\n",
              "    </tr>\n",
              "    <tr>\n",
              "      <th>21</th>\n",
              "      <td>ขนคน (คน)</td>\n",
              "      <td>ทางราง</td>\n",
              "      <td>การเดินทางภายในจังหวัด/กรุงเทพ</td>\n",
              "      <td>สาธารณะ</td>\n",
              "      <td>กทม.</td>\n",
              "      <td>รถไฟฟ้า BTS</td>\n",
              "      <td>20800000</td>\n",
              "      <td>19000000.0</td>\n",
              "      <td>21300000.0</td>\n",
              "      <td>18700000.0</td>\n",
              "      <td>20300000.0</td>\n",
              "      <td>20600000.0</td>\n",
              "      <td>21100000.0</td>\n",
              "      <td>22000000.0</td>\n",
              "      <td>20800000.0</td>\n",
              "      <td>20800000.0</td>\n",
              "      <td>21300000.0</td>\n",
              "      <td>20900000.0</td>\n",
              "    </tr>\n",
              "    <tr>\n",
              "      <th>22</th>\n",
              "      <td>ขนคน (คน)</td>\n",
              "      <td>ทางอากาศ</td>\n",
              "      <td>การเดินทางระหว่างจังหวัด</td>\n",
              "      <td>สาธารณะ</td>\n",
              "      <td>ทอท.</td>\n",
              "      <td>ท่าอากาศยานสุวรรณภูมิ</td>\n",
              "      <td>458709</td>\n",
              "      <td>425178.0</td>\n",
              "      <td>430965.0</td>\n",
              "      <td>411991.0</td>\n",
              "      <td>357617.0</td>\n",
              "      <td>354825.0</td>\n",
              "      <td>395952.0</td>\n",
              "      <td>389527.0</td>\n",
              "      <td>336586.0</td>\n",
              "      <td>409035.0</td>\n",
              "      <td>411562.0</td>\n",
              "      <td>458992.0</td>\n",
              "    </tr>\n",
              "    <tr>\n",
              "      <th>23</th>\n",
              "      <td>ขนคน (คน)</td>\n",
              "      <td>ทางอากาศ</td>\n",
              "      <td>การเดินทางระหว่างจังหวัด</td>\n",
              "      <td>สาธารณะ</td>\n",
              "      <td>ทอท.</td>\n",
              "      <td>ท่าอากาศยานดอนเมือง</td>\n",
              "      <td>1003125</td>\n",
              "      <td>934616.0</td>\n",
              "      <td>1009713.0</td>\n",
              "      <td>978842.0</td>\n",
              "      <td>950347.0</td>\n",
              "      <td>885172.0</td>\n",
              "      <td>919692.0</td>\n",
              "      <td>930329.0</td>\n",
              "      <td>848434.0</td>\n",
              "      <td>997396.0</td>\n",
              "      <td>936619.0</td>\n",
              "      <td>986303.0</td>\n",
              "    </tr>\n",
              "    <tr>\n",
              "      <th>24</th>\n",
              "      <td>ขนคน (คน)</td>\n",
              "      <td>ทางอากาศ</td>\n",
              "      <td>การเดินทางระหว่างจังหวัด</td>\n",
              "      <td>สาธารณะ</td>\n",
              "      <td>ทอท.</td>\n",
              "      <td>ท่าอากาศอื่น ๆ ของ ทอท.</td>\n",
              "      <td>1076360</td>\n",
              "      <td>979634.0</td>\n",
              "      <td>1005178.0</td>\n",
              "      <td>931476.0</td>\n",
              "      <td>853221.0</td>\n",
              "      <td>816263.0</td>\n",
              "      <td>865491.0</td>\n",
              "      <td>910499.0</td>\n",
              "      <td>749967.0</td>\n",
              "      <td>908065.0</td>\n",
              "      <td>903852.0</td>\n",
              "      <td>924307.0</td>\n",
              "    </tr>\n",
              "    <tr>\n",
              "      <th>25</th>\n",
              "      <td>ขนคน (คน)</td>\n",
              "      <td>ทางอากาศ</td>\n",
              "      <td>การเดินทางระหว่างจังหวัด</td>\n",
              "      <td>สาธารณะ</td>\n",
              "      <td>ทย.</td>\n",
              "      <td>ท่าอากาศยานภูมิภาค</td>\n",
              "      <td>719670</td>\n",
              "      <td>663355.0</td>\n",
              "      <td>728778.0</td>\n",
              "      <td>710072.0</td>\n",
              "      <td>686969.0</td>\n",
              "      <td>624522.0</td>\n",
              "      <td>670047.0</td>\n",
              "      <td>664118.0</td>\n",
              "      <td>602766.0</td>\n",
              "      <td>722503.0</td>\n",
              "      <td>674826.0</td>\n",
              "      <td>724097.0</td>\n",
              "    </tr>\n",
              "    <tr>\n",
              "      <th>26</th>\n",
              "      <td>ขนคน (คน)</td>\n",
              "      <td>ทางถนน</td>\n",
              "      <td>การเดินทางระหว่างประเทศ</td>\n",
              "      <td>สาธารณะ</td>\n",
              "      <td>บขส.</td>\n",
              "      <td>รถ บขส. ขาเข้าประเทศ</td>\n",
              "      <td>24221</td>\n",
              "      <td>19600.0</td>\n",
              "      <td>19874.0</td>\n",
              "      <td>32376.0</td>\n",
              "      <td>21146.0</td>\n",
              "      <td>18717.0</td>\n",
              "      <td>20031.0</td>\n",
              "      <td>20447.0</td>\n",
              "      <td>18139.0</td>\n",
              "      <td>18706.0</td>\n",
              "      <td>19912.0</td>\n",
              "      <td>21968.0</td>\n",
              "    </tr>\n",
              "    <tr>\n",
              "      <th>27</th>\n",
              "      <td>ขนคน (คน)</td>\n",
              "      <td>ทางถนน</td>\n",
              "      <td>การเดินทางระหว่างประเทศ</td>\n",
              "      <td>สาธารณะ</td>\n",
              "      <td>บขส.</td>\n",
              "      <td>รถ บขส. ขาออกประเทศ</td>\n",
              "      <td>28670</td>\n",
              "      <td>25574.0</td>\n",
              "      <td>31910.0</td>\n",
              "      <td>42078.0</td>\n",
              "      <td>28711.0</td>\n",
              "      <td>27840.0</td>\n",
              "      <td>28975.0</td>\n",
              "      <td>29453.0</td>\n",
              "      <td>25610.0</td>\n",
              "      <td>30854.0</td>\n",
              "      <td>26225.0</td>\n",
              "      <td>32820.0</td>\n",
              "    </tr>\n",
              "    <tr>\n",
              "      <th>28</th>\n",
              "      <td>ขนคน (คน)</td>\n",
              "      <td>ทางราง</td>\n",
              "      <td>การเดินทางระหว่างประเทศ</td>\n",
              "      <td>สาธารณะ</td>\n",
              "      <td>รฟท.</td>\n",
              "      <td>รถไฟ ขาเข้าประเทศ (ปาดังเบซาร์)</td>\n",
              "      <td>303</td>\n",
              "      <td>363.0</td>\n",
              "      <td>251.0</td>\n",
              "      <td>163.0</td>\n",
              "      <td>247.0</td>\n",
              "      <td>262.0</td>\n",
              "      <td>244.0</td>\n",
              "      <td>222.0</td>\n",
              "      <td>172.0</td>\n",
              "      <td>3486.0</td>\n",
              "      <td>253.0</td>\n",
              "      <td>330.0</td>\n",
              "    </tr>\n",
              "    <tr>\n",
              "      <th>29</th>\n",
              "      <td>ขนคน (คน)</td>\n",
              "      <td>ทางราง</td>\n",
              "      <td>การเดินทางระหว่างประเทศ</td>\n",
              "      <td>สาธารณะ</td>\n",
              "      <td>รฟท.</td>\n",
              "      <td>รถไฟ ขาออกประเทศ (ปาดังเบซาร์)</td>\n",
              "      <td>598</td>\n",
              "      <td>693.0</td>\n",
              "      <td>495.0</td>\n",
              "      <td>429.0</td>\n",
              "      <td>443.0</td>\n",
              "      <td>524.0</td>\n",
              "      <td>559.0</td>\n",
              "      <td>504.0</td>\n",
              "      <td>474.0</td>\n",
              "      <td>429.0</td>\n",
              "      <td>667.0</td>\n",
              "      <td>818.0</td>\n",
              "    </tr>\n",
              "    <tr>\n",
              "      <th>30</th>\n",
              "      <td>ขนคน (คน)</td>\n",
              "      <td>ทางน้ำ</td>\n",
              "      <td>การเดินทางระหว่างประเทศ</td>\n",
              "      <td>สาธารณะ</td>\n",
              "      <td>จท.</td>\n",
              "      <td>ท่าเรือด่านชายแดน ขาเข้าประเทศ</td>\n",
              "      <td>ไม่ทีการจัดเก็บข้อมูล</td>\n",
              "      <td>NaN</td>\n",
              "      <td>NaN</td>\n",
              "      <td>NaN</td>\n",
              "      <td>NaN</td>\n",
              "      <td>NaN</td>\n",
              "      <td>NaN</td>\n",
              "      <td>NaN</td>\n",
              "      <td>NaN</td>\n",
              "      <td>NaN</td>\n",
              "      <td>NaN</td>\n",
              "      <td>NaN</td>\n",
              "    </tr>\n",
              "    <tr>\n",
              "      <th>31</th>\n",
              "      <td>ขนคน (คน)</td>\n",
              "      <td>ทางน้ำ</td>\n",
              "      <td>การเดินทางระหว่างประเทศ</td>\n",
              "      <td>สาธารณะ</td>\n",
              "      <td>จท.</td>\n",
              "      <td>ท่าเรือด่านชายแดน ขาออกประเทศ</td>\n",
              "      <td>ไม่มีการจัดเก็บข้อมูล</td>\n",
              "      <td>NaN</td>\n",
              "      <td>NaN</td>\n",
              "      <td>NaN</td>\n",
              "      <td>NaN</td>\n",
              "      <td>NaN</td>\n",
              "      <td>NaN</td>\n",
              "      <td>NaN</td>\n",
              "      <td>NaN</td>\n",
              "      <td>NaN</td>\n",
              "      <td>NaN</td>\n",
              "      <td>NaN</td>\n",
              "    </tr>\n",
              "    <tr>\n",
              "      <th>32</th>\n",
              "      <td>ขนคน (คน)</td>\n",
              "      <td>ทางอากาศ</td>\n",
              "      <td>การเดินทางระหว่างประเทศ</td>\n",
              "      <td>สาธารณะ</td>\n",
              "      <td>ทอท.</td>\n",
              "      <td>ท่าอากาศยานสุวรรณภูมิ ขาเข้าประเทศ</td>\n",
              "      <td>2464894</td>\n",
              "      <td>2224587.0</td>\n",
              "      <td>2294408.0</td>\n",
              "      <td>2227482.0</td>\n",
              "      <td>1865431.0</td>\n",
              "      <td>1997480.0</td>\n",
              "      <td>2249686.0</td>\n",
              "      <td>2216137.0</td>\n",
              "      <td>1933764.0</td>\n",
              "      <td>2195190.0</td>\n",
              "      <td>2301907.0</td>\n",
              "      <td>2545272.0</td>\n",
              "    </tr>\n",
              "    <tr>\n",
              "      <th>33</th>\n",
              "      <td>ขนคน (คน)</td>\n",
              "      <td>ทางอากาศ</td>\n",
              "      <td>การเดินทางระหว่างประเทศ</td>\n",
              "      <td>สาธารณะ</td>\n",
              "      <td>ทอท.</td>\n",
              "      <td>ท่าอากาศยานสุวรรณภูมิ ขาออกประเทศ</td>\n",
              "      <td>2028379</td>\n",
              "      <td>1919774.0</td>\n",
              "      <td>2064603.0</td>\n",
              "      <td>1891725.0</td>\n",
              "      <td>1652994.0</td>\n",
              "      <td>1600979.0</td>\n",
              "      <td>1762927.0</td>\n",
              "      <td>1888899.0</td>\n",
              "      <td>1543004.0</td>\n",
              "      <td>1729385.0</td>\n",
              "      <td>1799319.0</td>\n",
              "      <td>1952980.0</td>\n",
              "    </tr>\n",
              "    <tr>\n",
              "      <th>34</th>\n",
              "      <td>ขนคน (คน)</td>\n",
              "      <td>ทางอากาศ</td>\n",
              "      <td>การเดินทางระหว่างประเทศ</td>\n",
              "      <td>สาธารณะ</td>\n",
              "      <td>ทอท.</td>\n",
              "      <td>ท่าอากาศยานดอนเมือง ขาเข้าประเทศ</td>\n",
              "      <td>748089</td>\n",
              "      <td>702251.0</td>\n",
              "      <td>774448.0</td>\n",
              "      <td>764724.0</td>\n",
              "      <td>692187.0</td>\n",
              "      <td>687321.0</td>\n",
              "      <td>744731.0</td>\n",
              "      <td>780482.0</td>\n",
              "      <td>681134.0</td>\n",
              "      <td>738845.0</td>\n",
              "      <td>728209.0</td>\n",
              "      <td>805839.0</td>\n",
              "    </tr>\n",
              "    <tr>\n",
              "      <th>35</th>\n",
              "      <td>ขนคน (คน)</td>\n",
              "      <td>ทางอากาศ</td>\n",
              "      <td>การเดินทางระหว่างประเทศ</td>\n",
              "      <td>สาธารณะ</td>\n",
              "      <td>ทอท.</td>\n",
              "      <td>ท่าอากาศยานดอนเมือง ขาออกประเทศ</td>\n",
              "      <td>702441</td>\n",
              "      <td>978370.0</td>\n",
              "      <td>748852.0</td>\n",
              "      <td>707809.0</td>\n",
              "      <td>658868.0</td>\n",
              "      <td>623405.0</td>\n",
              "      <td>689064.0</td>\n",
              "      <td>707514.0</td>\n",
              "      <td>635938.0</td>\n",
              "      <td>705790.0</td>\n",
              "      <td>676655.0</td>\n",
              "      <td>744031.0</td>\n",
              "    </tr>\n",
              "    <tr>\n",
              "      <th>36</th>\n",
              "      <td>ขนคน (คน)</td>\n",
              "      <td>ทางอากาศ</td>\n",
              "      <td>การเดินทางระหว่างประเทศ</td>\n",
              "      <td>สาธารณะ</td>\n",
              "      <td>ทอท.</td>\n",
              "      <td>ท่าอากาศอื่น ๆ ของ ทอท.ขาเข้าประเทศ</td>\n",
              "      <td>753017</td>\n",
              "      <td>710321.0</td>\n",
              "      <td>698460.0</td>\n",
              "      <td>591289.0</td>\n",
              "      <td>455767.0</td>\n",
              "      <td>494260.0</td>\n",
              "      <td>574456.0</td>\n",
              "      <td>578856.0</td>\n",
              "      <td>482615.0</td>\n",
              "      <td>556104.0</td>\n",
              "      <td>630423.0</td>\n",
              "      <td>755055.0</td>\n",
              "    </tr>\n",
              "    <tr>\n",
              "      <th>37</th>\n",
              "      <td>ขนคน (คน)</td>\n",
              "      <td>ทางอากาศ</td>\n",
              "      <td>การเดินทางระหว่างประเทศ</td>\n",
              "      <td>สาธารณะ</td>\n",
              "      <td>ทอท.</td>\n",
              "      <td>ท่าอากาศอื่น ๆ ของ ทอท. ขาออกประเทศ</td>\n",
              "      <td>750052</td>\n",
              "      <td>733723.0</td>\n",
              "      <td>741191.0</td>\n",
              "      <td>600419.0</td>\n",
              "      <td>489178.0</td>\n",
              "      <td>473202.0</td>\n",
              "      <td>542494.0</td>\n",
              "      <td>594959.0</td>\n",
              "      <td>466849.0</td>\n",
              "      <td>531082.0</td>\n",
              "      <td>612620.0</td>\n",
              "      <td>682621.0</td>\n",
              "    </tr>\n",
              "    <tr>\n",
              "      <th>38</th>\n",
              "      <td>ขนคน (คน)</td>\n",
              "      <td>ทางอากาศ</td>\n",
              "      <td>การเดินทางระหว่างประเทศ</td>\n",
              "      <td>สาธารณะ</td>\n",
              "      <td>ทย.</td>\n",
              "      <td>ท่าอากาศยานภูมิภาค ขาเข้าประเทศ</td>\n",
              "      <td>98581</td>\n",
              "      <td>108408.0</td>\n",
              "      <td>71729.0</td>\n",
              "      <td>50038.0</td>\n",
              "      <td>42413.0</td>\n",
              "      <td>45414.0</td>\n",
              "      <td>50103.0</td>\n",
              "      <td>55074.0</td>\n",
              "      <td>43331.0</td>\n",
              "      <td>37486.0</td>\n",
              "      <td>45609.0</td>\n",
              "      <td>72067.0</td>\n",
              "    </tr>\n",
              "    <tr>\n",
              "      <th>39</th>\n",
              "      <td>ขนคน (คน)</td>\n",
              "      <td>ทางอากาศ</td>\n",
              "      <td>การเดินทางระหว่างประเทศ</td>\n",
              "      <td>สาธารณะ</td>\n",
              "      <td>ทย.</td>\n",
              "      <td>ท่าอากาศยานภูมิภาค ขาออกประเทศ</td>\n",
              "      <td>96843</td>\n",
              "      <td>116047.0</td>\n",
              "      <td>83223.0</td>\n",
              "      <td>53096.0</td>\n",
              "      <td>47317.0</td>\n",
              "      <td>45001.0</td>\n",
              "      <td>51994.0</td>\n",
              "      <td>52701.0</td>\n",
              "      <td>44119.0</td>\n",
              "      <td>38058.0</td>\n",
              "      <td>42175.0</td>\n",
              "      <td>59594.0</td>\n",
              "    </tr>\n",
              "  </tbody>\n",
              "</table>\n",
              "</div>"
            ],
            "text/plain": [
              "   ขนคน/ขนสินค้า โหมดการเดินทาง  ...   พ.ย. 2562   ธ.ค. 2562\n",
              "0      ขนคน (คน)          ทางบก  ...   4559610.0   4840673.0\n",
              "1      ขนคน (คน)          ทางบก  ...         NaN         NaN\n",
              "2      ขนคน (คน)          ทางบก  ...   2450888.0   2516032.0\n",
              "3     ขนคน (คัน)          ทางบก  ...  28325020.0  29615013.0\n",
              "4     ขนคน (คัน)          ทางบก  ...  46996660.0  47294111.0\n",
              "5     ขนคน (คัน)          ทางบก  ...         NaN         NaN\n",
              "6      ขนคน (คน)          ทางบก  ...    108037.0    104032.0\n",
              "7      ขนคน (คน)          ทางบก  ...         NaN         NaN\n",
              "8      ขนคน (คน)          ทางบก  ...  29672244.0  29019427.0\n",
              "9      ขนคน (คน)          ทางบก  ...  25368180.0  24993204.0\n",
              "10    ขนคน (คัน)          ทางบก  ...         NaN         NaN\n",
              "11    ขนคน (คัน)          ทางบก  ...         NaN         NaN\n",
              "12     ขนคน (คน)         ทางน้ำ  ...         NaN         NaN\n",
              "13     ขนคน (คน)         ทางน้ำ  ...    771668.0    766378.0\n",
              "14     ขนคน (คน)         ทางน้ำ  ...    837965.0    796559.0\n",
              "15     ขนคน (คน)         ทางน้ำ  ...   6420869.0   7216193.0\n",
              "16     ขนคน (คน)         ทางน้ำ  ...         NaN         NaN\n",
              "17     ขนคน (คน)         ทางราง  ...   2609722.0   2715880.0\n",
              "18     ขนคน (คน)         ทางราง  ...  11520590.0  10265578.0\n",
              "19     ขนคน (คน)         ทางราง  ...   1305024.0   1179272.0\n",
              "20     ขนคน (คน)         ทางราง  ...   2290792.0   2181036.0\n",
              "21     ขนคน (คน)         ทางราง  ...  21300000.0  20900000.0\n",
              "22     ขนคน (คน)       ทางอากาศ  ...    411562.0    458992.0\n",
              "23     ขนคน (คน)       ทางอากาศ  ...    936619.0    986303.0\n",
              "24     ขนคน (คน)       ทางอากาศ  ...    903852.0    924307.0\n",
              "25     ขนคน (คน)       ทางอากาศ  ...    674826.0    724097.0\n",
              "26     ขนคน (คน)         ทางถนน  ...     19912.0     21968.0\n",
              "27     ขนคน (คน)         ทางถนน  ...     26225.0     32820.0\n",
              "28     ขนคน (คน)         ทางราง  ...       253.0       330.0\n",
              "29     ขนคน (คน)         ทางราง  ...       667.0       818.0\n",
              "30     ขนคน (คน)         ทางน้ำ  ...         NaN         NaN\n",
              "31     ขนคน (คน)         ทางน้ำ  ...         NaN         NaN\n",
              "32     ขนคน (คน)       ทางอากาศ  ...   2301907.0   2545272.0\n",
              "33     ขนคน (คน)       ทางอากาศ  ...   1799319.0   1952980.0\n",
              "34     ขนคน (คน)       ทางอากาศ  ...    728209.0    805839.0\n",
              "35     ขนคน (คน)       ทางอากาศ  ...    676655.0    744031.0\n",
              "36     ขนคน (คน)       ทางอากาศ  ...    630423.0    755055.0\n",
              "37     ขนคน (คน)       ทางอากาศ  ...    612620.0    682621.0\n",
              "38     ขนคน (คน)       ทางอากาศ  ...     45609.0     72067.0\n",
              "39     ขนคน (คน)       ทางอากาศ  ...     42175.0     59594.0\n",
              "\n",
              "[40 rows x 18 columns]"
            ]
          },
          "metadata": {
            "tags": []
          },
          "execution_count": 17
        }
      ]
    },
    {
      "cell_type": "code",
      "metadata": {
        "id": "Ajo4MEytCzKI",
        "colab": {
          "base_uri": "https://localhost:8080/",
          "height": 1000
        },
        "outputId": "c8beec19-ab83-4229-e1e2-c3d9bf51fe8d"
      },
      "source": [
        "data_drop = data.dropna()\r\n",
        "data_drop"
      ],
      "execution_count": 18,
      "outputs": [
        {
          "output_type": "execute_result",
          "data": {
            "text/html": [
              "<div>\n",
              "<style scoped>\n",
              "    .dataframe tbody tr th:only-of-type {\n",
              "        vertical-align: middle;\n",
              "    }\n",
              "\n",
              "    .dataframe tbody tr th {\n",
              "        vertical-align: top;\n",
              "    }\n",
              "\n",
              "    .dataframe thead th {\n",
              "        text-align: right;\n",
              "    }\n",
              "</style>\n",
              "<table border=\"1\" class=\"dataframe\">\n",
              "  <thead>\n",
              "    <tr style=\"text-align: right;\">\n",
              "      <th></th>\n",
              "      <th>ขนคน/ขนสินค้า</th>\n",
              "      <th>โหมดการเดินทาง</th>\n",
              "      <th>รูปแบบการเดินทาง</th>\n",
              "      <th>สาธารณะ/ส่วนบุคคล</th>\n",
              "      <th>หน่วยงาน</th>\n",
              "      <th>ยานพาหนะ/ท่า</th>\n",
              "      <th>ม.ค. 2562</th>\n",
              "      <th>ก.พ. 2562</th>\n",
              "      <th>มี.ค. 2562</th>\n",
              "      <th>เม.ย. 2562</th>\n",
              "      <th>พ.ค. 2562</th>\n",
              "      <th>มิ.ย. 2562</th>\n",
              "      <th>ก.ค. 2562</th>\n",
              "      <th>ส.ค. 2562</th>\n",
              "      <th>ก.ย. 2562</th>\n",
              "      <th>ต.ค. 2562</th>\n",
              "      <th>พ.ย. 2562</th>\n",
              "      <th>ธ.ค. 2562</th>\n",
              "    </tr>\n",
              "  </thead>\n",
              "  <tbody>\n",
              "    <tr>\n",
              "      <th>0</th>\n",
              "      <td>ขนคน (คน)</td>\n",
              "      <td>ทางบก</td>\n",
              "      <td>การเดินทางระหว่างจังหวัด</td>\n",
              "      <td>สาธารณะ</td>\n",
              "      <td>บขส.</td>\n",
              "      <td>รถ ขบส. และ รถร่วม</td>\n",
              "      <td>5236331</td>\n",
              "      <td>4628878.0</td>\n",
              "      <td>5234387.0</td>\n",
              "      <td>5137450.0</td>\n",
              "      <td>4885221.0</td>\n",
              "      <td>4572261.0</td>\n",
              "      <td>4772689.0</td>\n",
              "      <td>4701554.0</td>\n",
              "      <td>4482707.0</td>\n",
              "      <td>4774815.0</td>\n",
              "      <td>4559610.0</td>\n",
              "      <td>4840673.0</td>\n",
              "    </tr>\n",
              "    <tr>\n",
              "      <th>2</th>\n",
              "      <td>ขนคน (คน)</td>\n",
              "      <td>ทางบก</td>\n",
              "      <td>การเดินทางระหว่างจังหวัด</td>\n",
              "      <td>สาธารณะ</td>\n",
              "      <td>ขบ.</td>\n",
              "      <td>รถหมวด 3</td>\n",
              "      <td>2550864</td>\n",
              "      <td>2334128.0</td>\n",
              "      <td>2599144.0</td>\n",
              "      <td>2602024.0</td>\n",
              "      <td>2543424.0</td>\n",
              "      <td>2435944.0</td>\n",
              "      <td>2526104.0</td>\n",
              "      <td>2492728.0</td>\n",
              "      <td>2420736.0</td>\n",
              "      <td>2499408.0</td>\n",
              "      <td>2450888.0</td>\n",
              "      <td>2516032.0</td>\n",
              "    </tr>\n",
              "    <tr>\n",
              "      <th>3</th>\n",
              "      <td>ขนคน (คัน)</td>\n",
              "      <td>ทางบก</td>\n",
              "      <td>การเดินทางระหว่างจังหวัด</td>\n",
              "      <td>ส่วนบุคคล</td>\n",
              "      <td>ทล.</td>\n",
              "      <td>รถยนต์ (10 จุดสำรวจ)</td>\n",
              "      <td>28907234</td>\n",
              "      <td>26699682.0</td>\n",
              "      <td>30210655.0</td>\n",
              "      <td>28542444.0</td>\n",
              "      <td>29407838.0</td>\n",
              "      <td>27789633.0</td>\n",
              "      <td>28811411.0</td>\n",
              "      <td>29552867.0</td>\n",
              "      <td>27950945.0</td>\n",
              "      <td>29335664.0</td>\n",
              "      <td>28325020.0</td>\n",
              "      <td>29615013.0</td>\n",
              "    </tr>\n",
              "    <tr>\n",
              "      <th>4</th>\n",
              "      <td>ขนคน (คัน)</td>\n",
              "      <td>ทางบก</td>\n",
              "      <td>การเดินทางระหว่างจังหวัด</td>\n",
              "      <td>ส่วนบุคคล</td>\n",
              "      <td>กทพ.</td>\n",
              "      <td>รถยนต์ (ทางด่วน)</td>\n",
              "      <td>56404661</td>\n",
              "      <td>51536713.0</td>\n",
              "      <td>57376504.0</td>\n",
              "      <td>46838468.0</td>\n",
              "      <td>45769555.0</td>\n",
              "      <td>47344042.0</td>\n",
              "      <td>46027953.0</td>\n",
              "      <td>47566521.0</td>\n",
              "      <td>44765838.0</td>\n",
              "      <td>47236151.0</td>\n",
              "      <td>46996660.0</td>\n",
              "      <td>47294111.0</td>\n",
              "    </tr>\n",
              "    <tr>\n",
              "      <th>6</th>\n",
              "      <td>ขนคน (คน)</td>\n",
              "      <td>ทางบก</td>\n",
              "      <td>การเดินทางภายในจังหวัด/กรุงเทพ</td>\n",
              "      <td>สาธารณะ</td>\n",
              "      <td>ขบ.</td>\n",
              "      <td>รถหมวด 4</td>\n",
              "      <td>108716</td>\n",
              "      <td>103437.0</td>\n",
              "      <td>102001.0</td>\n",
              "      <td>104421.0</td>\n",
              "      <td>107417.0</td>\n",
              "      <td>107698.0</td>\n",
              "      <td>109522.0</td>\n",
              "      <td>107789.0</td>\n",
              "      <td>104813.0</td>\n",
              "      <td>105082.0</td>\n",
              "      <td>108037.0</td>\n",
              "      <td>104032.0</td>\n",
              "    </tr>\n",
              "    <tr>\n",
              "      <th>8</th>\n",
              "      <td>ขนคน (คน)</td>\n",
              "      <td>ทางบก</td>\n",
              "      <td>การเดินทางภายในจังหวัด/กรุงเทพ</td>\n",
              "      <td>สาธารณะ</td>\n",
              "      <td>ขสมก.</td>\n",
              "      <td>รถเมล์ ขสมก.</td>\n",
              "      <td>32756201</td>\n",
              "      <td>29567092.0</td>\n",
              "      <td>32278496.0</td>\n",
              "      <td>29002665.0</td>\n",
              "      <td>29444786.0</td>\n",
              "      <td>29774190.0</td>\n",
              "      <td>29961893.0</td>\n",
              "      <td>30476179.0</td>\n",
              "      <td>29328968.0</td>\n",
              "      <td>29879889.0</td>\n",
              "      <td>29672244.0</td>\n",
              "      <td>29019427.0</td>\n",
              "    </tr>\n",
              "    <tr>\n",
              "      <th>9</th>\n",
              "      <td>ขนคน (คน)</td>\n",
              "      <td>ทางบก</td>\n",
              "      <td>การเดินทางภายในจังหวัด/กรุงเทพ</td>\n",
              "      <td>สาธารณะ</td>\n",
              "      <td>ขสมก.</td>\n",
              "      <td>รถร่วม (หมวด 1)</td>\n",
              "      <td>28753451</td>\n",
              "      <td>27871978.0</td>\n",
              "      <td>28249937.0</td>\n",
              "      <td>23874176.0</td>\n",
              "      <td>24499764.0</td>\n",
              "      <td>25942632.0</td>\n",
              "      <td>25560717.0</td>\n",
              "      <td>24770240.0</td>\n",
              "      <td>26511750.0</td>\n",
              "      <td>24935747.0</td>\n",
              "      <td>25368180.0</td>\n",
              "      <td>24993204.0</td>\n",
              "    </tr>\n",
              "    <tr>\n",
              "      <th>13</th>\n",
              "      <td>ขนคน (คน)</td>\n",
              "      <td>ทางน้ำ</td>\n",
              "      <td>การเดินทางภายในจังหวัด/กรุงเทพ</td>\n",
              "      <td>สาธารณะ</td>\n",
              "      <td>จท.</td>\n",
              "      <td>เรือเจ้าพระยา</td>\n",
              "      <td>968060</td>\n",
              "      <td>848038.0</td>\n",
              "      <td>819430.0</td>\n",
              "      <td>714176.0</td>\n",
              "      <td>721440.0</td>\n",
              "      <td>775351.0</td>\n",
              "      <td>881799.0</td>\n",
              "      <td>857927.0</td>\n",
              "      <td>687417.0</td>\n",
              "      <td>668144.0</td>\n",
              "      <td>771668.0</td>\n",
              "      <td>766378.0</td>\n",
              "    </tr>\n",
              "    <tr>\n",
              "      <th>14</th>\n",
              "      <td>ขนคน (คน)</td>\n",
              "      <td>ทางน้ำ</td>\n",
              "      <td>การเดินทางภายในจังหวัด/กรุงเทพ</td>\n",
              "      <td>สาธารณะ</td>\n",
              "      <td>จท.</td>\n",
              "      <td>เรือคลองแสนแสบ</td>\n",
              "      <td>818195</td>\n",
              "      <td>800744.0</td>\n",
              "      <td>820090.0</td>\n",
              "      <td>636994.0</td>\n",
              "      <td>815729.0</td>\n",
              "      <td>830625.0</td>\n",
              "      <td>796782.0</td>\n",
              "      <td>817956.0</td>\n",
              "      <td>826987.0</td>\n",
              "      <td>846489.0</td>\n",
              "      <td>837965.0</td>\n",
              "      <td>796559.0</td>\n",
              "    </tr>\n",
              "    <tr>\n",
              "      <th>15</th>\n",
              "      <td>ขนคน (คน)</td>\n",
              "      <td>ทางน้ำ</td>\n",
              "      <td>การเดินทางภายในจังหวัด/กรุงเทพ</td>\n",
              "      <td>สาธารณะ</td>\n",
              "      <td>จท.</td>\n",
              "      <td>เรือภูมิภาค</td>\n",
              "      <td>6288628</td>\n",
              "      <td>6308324.0</td>\n",
              "      <td>6494292.0</td>\n",
              "      <td>8040472.0</td>\n",
              "      <td>5687057.0</td>\n",
              "      <td>5233272.0</td>\n",
              "      <td>5431222.0</td>\n",
              "      <td>6520566.0</td>\n",
              "      <td>5345152.0</td>\n",
              "      <td>6405377.0</td>\n",
              "      <td>6420869.0</td>\n",
              "      <td>7216193.0</td>\n",
              "    </tr>\n",
              "    <tr>\n",
              "      <th>17</th>\n",
              "      <td>ขนคน (คน)</td>\n",
              "      <td>ทางราง</td>\n",
              "      <td>การเดินทางระหว่างจังหวัด</td>\n",
              "      <td>สาธารณะ</td>\n",
              "      <td>รฟท.</td>\n",
              "      <td>รถไฟ</td>\n",
              "      <td>2715054</td>\n",
              "      <td>2388220.0</td>\n",
              "      <td>2797101.0</td>\n",
              "      <td>2736354.0</td>\n",
              "      <td>2591968.0</td>\n",
              "      <td>2487475.0</td>\n",
              "      <td>2647634.0</td>\n",
              "      <td>2720879.0</td>\n",
              "      <td>2441734.0</td>\n",
              "      <td>2950359.0</td>\n",
              "      <td>2609722.0</td>\n",
              "      <td>2715880.0</td>\n",
              "    </tr>\n",
              "    <tr>\n",
              "      <th>18</th>\n",
              "      <td>ขนคน (คน)</td>\n",
              "      <td>ทางราง</td>\n",
              "      <td>การเดินทางภายในจังหวัด/กรุงเทพ</td>\n",
              "      <td>สาธารณะ</td>\n",
              "      <td>รฟม.</td>\n",
              "      <td>รถไฟฟ้าสายสีน้ำเงิน</td>\n",
              "      <td>9080423</td>\n",
              "      <td>8334110.0</td>\n",
              "      <td>9462844.0</td>\n",
              "      <td>8206327.0</td>\n",
              "      <td>8038437.0</td>\n",
              "      <td>8572432.0</td>\n",
              "      <td>9056787.0</td>\n",
              "      <td>10260894.0</td>\n",
              "      <td>10676842.0</td>\n",
              "      <td>10793797.0</td>\n",
              "      <td>11520590.0</td>\n",
              "      <td>10265578.0</td>\n",
              "    </tr>\n",
              "    <tr>\n",
              "      <th>19</th>\n",
              "      <td>ขนคน (คน)</td>\n",
              "      <td>ทางราง</td>\n",
              "      <td>การเดินทางภายในจังหวัด/กรุงเทพ</td>\n",
              "      <td>สาธารณะ</td>\n",
              "      <td>รฟม.</td>\n",
              "      <td>รถไฟฟ้าสายสีม่วง</td>\n",
              "      <td>1172956</td>\n",
              "      <td>1060635.0</td>\n",
              "      <td>1224857.0</td>\n",
              "      <td>1072255.0</td>\n",
              "      <td>1125328.0</td>\n",
              "      <td>1245619.0</td>\n",
              "      <td>1297620.0</td>\n",
              "      <td>1339673.0</td>\n",
              "      <td>1291700.0</td>\n",
              "      <td>1280900.0</td>\n",
              "      <td>1305024.0</td>\n",
              "      <td>1179272.0</td>\n",
              "    </tr>\n",
              "    <tr>\n",
              "      <th>20</th>\n",
              "      <td>ขนคน (คน)</td>\n",
              "      <td>ทางราง</td>\n",
              "      <td>การเดินทางภายในจังหวัด/กรุงเทพ</td>\n",
              "      <td>สาธารณะ</td>\n",
              "      <td>รฟฟท.</td>\n",
              "      <td>รถไฟฟ้า ARL</td>\n",
              "      <td>2167528</td>\n",
              "      <td>1986306.0</td>\n",
              "      <td>2294142.0</td>\n",
              "      <td>2075144.0</td>\n",
              "      <td>2004377.0</td>\n",
              "      <td>2204219.0</td>\n",
              "      <td>2201717.0</td>\n",
              "      <td>2215873.0</td>\n",
              "      <td>2158113.0</td>\n",
              "      <td>2196794.0</td>\n",
              "      <td>2290792.0</td>\n",
              "      <td>2181036.0</td>\n",
              "    </tr>\n",
              "    <tr>\n",
              "      <th>21</th>\n",
              "      <td>ขนคน (คน)</td>\n",
              "      <td>ทางราง</td>\n",
              "      <td>การเดินทางภายในจังหวัด/กรุงเทพ</td>\n",
              "      <td>สาธารณะ</td>\n",
              "      <td>กทม.</td>\n",
              "      <td>รถไฟฟ้า BTS</td>\n",
              "      <td>20800000</td>\n",
              "      <td>19000000.0</td>\n",
              "      <td>21300000.0</td>\n",
              "      <td>18700000.0</td>\n",
              "      <td>20300000.0</td>\n",
              "      <td>20600000.0</td>\n",
              "      <td>21100000.0</td>\n",
              "      <td>22000000.0</td>\n",
              "      <td>20800000.0</td>\n",
              "      <td>20800000.0</td>\n",
              "      <td>21300000.0</td>\n",
              "      <td>20900000.0</td>\n",
              "    </tr>\n",
              "    <tr>\n",
              "      <th>22</th>\n",
              "      <td>ขนคน (คน)</td>\n",
              "      <td>ทางอากาศ</td>\n",
              "      <td>การเดินทางระหว่างจังหวัด</td>\n",
              "      <td>สาธารณะ</td>\n",
              "      <td>ทอท.</td>\n",
              "      <td>ท่าอากาศยานสุวรรณภูมิ</td>\n",
              "      <td>458709</td>\n",
              "      <td>425178.0</td>\n",
              "      <td>430965.0</td>\n",
              "      <td>411991.0</td>\n",
              "      <td>357617.0</td>\n",
              "      <td>354825.0</td>\n",
              "      <td>395952.0</td>\n",
              "      <td>389527.0</td>\n",
              "      <td>336586.0</td>\n",
              "      <td>409035.0</td>\n",
              "      <td>411562.0</td>\n",
              "      <td>458992.0</td>\n",
              "    </tr>\n",
              "    <tr>\n",
              "      <th>23</th>\n",
              "      <td>ขนคน (คน)</td>\n",
              "      <td>ทางอากาศ</td>\n",
              "      <td>การเดินทางระหว่างจังหวัด</td>\n",
              "      <td>สาธารณะ</td>\n",
              "      <td>ทอท.</td>\n",
              "      <td>ท่าอากาศยานดอนเมือง</td>\n",
              "      <td>1003125</td>\n",
              "      <td>934616.0</td>\n",
              "      <td>1009713.0</td>\n",
              "      <td>978842.0</td>\n",
              "      <td>950347.0</td>\n",
              "      <td>885172.0</td>\n",
              "      <td>919692.0</td>\n",
              "      <td>930329.0</td>\n",
              "      <td>848434.0</td>\n",
              "      <td>997396.0</td>\n",
              "      <td>936619.0</td>\n",
              "      <td>986303.0</td>\n",
              "    </tr>\n",
              "    <tr>\n",
              "      <th>24</th>\n",
              "      <td>ขนคน (คน)</td>\n",
              "      <td>ทางอากาศ</td>\n",
              "      <td>การเดินทางระหว่างจังหวัด</td>\n",
              "      <td>สาธารณะ</td>\n",
              "      <td>ทอท.</td>\n",
              "      <td>ท่าอากาศอื่น ๆ ของ ทอท.</td>\n",
              "      <td>1076360</td>\n",
              "      <td>979634.0</td>\n",
              "      <td>1005178.0</td>\n",
              "      <td>931476.0</td>\n",
              "      <td>853221.0</td>\n",
              "      <td>816263.0</td>\n",
              "      <td>865491.0</td>\n",
              "      <td>910499.0</td>\n",
              "      <td>749967.0</td>\n",
              "      <td>908065.0</td>\n",
              "      <td>903852.0</td>\n",
              "      <td>924307.0</td>\n",
              "    </tr>\n",
              "    <tr>\n",
              "      <th>25</th>\n",
              "      <td>ขนคน (คน)</td>\n",
              "      <td>ทางอากาศ</td>\n",
              "      <td>การเดินทางระหว่างจังหวัด</td>\n",
              "      <td>สาธารณะ</td>\n",
              "      <td>ทย.</td>\n",
              "      <td>ท่าอากาศยานภูมิภาค</td>\n",
              "      <td>719670</td>\n",
              "      <td>663355.0</td>\n",
              "      <td>728778.0</td>\n",
              "      <td>710072.0</td>\n",
              "      <td>686969.0</td>\n",
              "      <td>624522.0</td>\n",
              "      <td>670047.0</td>\n",
              "      <td>664118.0</td>\n",
              "      <td>602766.0</td>\n",
              "      <td>722503.0</td>\n",
              "      <td>674826.0</td>\n",
              "      <td>724097.0</td>\n",
              "    </tr>\n",
              "    <tr>\n",
              "      <th>26</th>\n",
              "      <td>ขนคน (คน)</td>\n",
              "      <td>ทางถนน</td>\n",
              "      <td>การเดินทางระหว่างประเทศ</td>\n",
              "      <td>สาธารณะ</td>\n",
              "      <td>บขส.</td>\n",
              "      <td>รถ บขส. ขาเข้าประเทศ</td>\n",
              "      <td>24221</td>\n",
              "      <td>19600.0</td>\n",
              "      <td>19874.0</td>\n",
              "      <td>32376.0</td>\n",
              "      <td>21146.0</td>\n",
              "      <td>18717.0</td>\n",
              "      <td>20031.0</td>\n",
              "      <td>20447.0</td>\n",
              "      <td>18139.0</td>\n",
              "      <td>18706.0</td>\n",
              "      <td>19912.0</td>\n",
              "      <td>21968.0</td>\n",
              "    </tr>\n",
              "    <tr>\n",
              "      <th>27</th>\n",
              "      <td>ขนคน (คน)</td>\n",
              "      <td>ทางถนน</td>\n",
              "      <td>การเดินทางระหว่างประเทศ</td>\n",
              "      <td>สาธารณะ</td>\n",
              "      <td>บขส.</td>\n",
              "      <td>รถ บขส. ขาออกประเทศ</td>\n",
              "      <td>28670</td>\n",
              "      <td>25574.0</td>\n",
              "      <td>31910.0</td>\n",
              "      <td>42078.0</td>\n",
              "      <td>28711.0</td>\n",
              "      <td>27840.0</td>\n",
              "      <td>28975.0</td>\n",
              "      <td>29453.0</td>\n",
              "      <td>25610.0</td>\n",
              "      <td>30854.0</td>\n",
              "      <td>26225.0</td>\n",
              "      <td>32820.0</td>\n",
              "    </tr>\n",
              "    <tr>\n",
              "      <th>28</th>\n",
              "      <td>ขนคน (คน)</td>\n",
              "      <td>ทางราง</td>\n",
              "      <td>การเดินทางระหว่างประเทศ</td>\n",
              "      <td>สาธารณะ</td>\n",
              "      <td>รฟท.</td>\n",
              "      <td>รถไฟ ขาเข้าประเทศ (ปาดังเบซาร์)</td>\n",
              "      <td>303</td>\n",
              "      <td>363.0</td>\n",
              "      <td>251.0</td>\n",
              "      <td>163.0</td>\n",
              "      <td>247.0</td>\n",
              "      <td>262.0</td>\n",
              "      <td>244.0</td>\n",
              "      <td>222.0</td>\n",
              "      <td>172.0</td>\n",
              "      <td>3486.0</td>\n",
              "      <td>253.0</td>\n",
              "      <td>330.0</td>\n",
              "    </tr>\n",
              "    <tr>\n",
              "      <th>29</th>\n",
              "      <td>ขนคน (คน)</td>\n",
              "      <td>ทางราง</td>\n",
              "      <td>การเดินทางระหว่างประเทศ</td>\n",
              "      <td>สาธารณะ</td>\n",
              "      <td>รฟท.</td>\n",
              "      <td>รถไฟ ขาออกประเทศ (ปาดังเบซาร์)</td>\n",
              "      <td>598</td>\n",
              "      <td>693.0</td>\n",
              "      <td>495.0</td>\n",
              "      <td>429.0</td>\n",
              "      <td>443.0</td>\n",
              "      <td>524.0</td>\n",
              "      <td>559.0</td>\n",
              "      <td>504.0</td>\n",
              "      <td>474.0</td>\n",
              "      <td>429.0</td>\n",
              "      <td>667.0</td>\n",
              "      <td>818.0</td>\n",
              "    </tr>\n",
              "    <tr>\n",
              "      <th>32</th>\n",
              "      <td>ขนคน (คน)</td>\n",
              "      <td>ทางอากาศ</td>\n",
              "      <td>การเดินทางระหว่างประเทศ</td>\n",
              "      <td>สาธารณะ</td>\n",
              "      <td>ทอท.</td>\n",
              "      <td>ท่าอากาศยานสุวรรณภูมิ ขาเข้าประเทศ</td>\n",
              "      <td>2464894</td>\n",
              "      <td>2224587.0</td>\n",
              "      <td>2294408.0</td>\n",
              "      <td>2227482.0</td>\n",
              "      <td>1865431.0</td>\n",
              "      <td>1997480.0</td>\n",
              "      <td>2249686.0</td>\n",
              "      <td>2216137.0</td>\n",
              "      <td>1933764.0</td>\n",
              "      <td>2195190.0</td>\n",
              "      <td>2301907.0</td>\n",
              "      <td>2545272.0</td>\n",
              "    </tr>\n",
              "    <tr>\n",
              "      <th>33</th>\n",
              "      <td>ขนคน (คน)</td>\n",
              "      <td>ทางอากาศ</td>\n",
              "      <td>การเดินทางระหว่างประเทศ</td>\n",
              "      <td>สาธารณะ</td>\n",
              "      <td>ทอท.</td>\n",
              "      <td>ท่าอากาศยานสุวรรณภูมิ ขาออกประเทศ</td>\n",
              "      <td>2028379</td>\n",
              "      <td>1919774.0</td>\n",
              "      <td>2064603.0</td>\n",
              "      <td>1891725.0</td>\n",
              "      <td>1652994.0</td>\n",
              "      <td>1600979.0</td>\n",
              "      <td>1762927.0</td>\n",
              "      <td>1888899.0</td>\n",
              "      <td>1543004.0</td>\n",
              "      <td>1729385.0</td>\n",
              "      <td>1799319.0</td>\n",
              "      <td>1952980.0</td>\n",
              "    </tr>\n",
              "    <tr>\n",
              "      <th>34</th>\n",
              "      <td>ขนคน (คน)</td>\n",
              "      <td>ทางอากาศ</td>\n",
              "      <td>การเดินทางระหว่างประเทศ</td>\n",
              "      <td>สาธารณะ</td>\n",
              "      <td>ทอท.</td>\n",
              "      <td>ท่าอากาศยานดอนเมือง ขาเข้าประเทศ</td>\n",
              "      <td>748089</td>\n",
              "      <td>702251.0</td>\n",
              "      <td>774448.0</td>\n",
              "      <td>764724.0</td>\n",
              "      <td>692187.0</td>\n",
              "      <td>687321.0</td>\n",
              "      <td>744731.0</td>\n",
              "      <td>780482.0</td>\n",
              "      <td>681134.0</td>\n",
              "      <td>738845.0</td>\n",
              "      <td>728209.0</td>\n",
              "      <td>805839.0</td>\n",
              "    </tr>\n",
              "    <tr>\n",
              "      <th>35</th>\n",
              "      <td>ขนคน (คน)</td>\n",
              "      <td>ทางอากาศ</td>\n",
              "      <td>การเดินทางระหว่างประเทศ</td>\n",
              "      <td>สาธารณะ</td>\n",
              "      <td>ทอท.</td>\n",
              "      <td>ท่าอากาศยานดอนเมือง ขาออกประเทศ</td>\n",
              "      <td>702441</td>\n",
              "      <td>978370.0</td>\n",
              "      <td>748852.0</td>\n",
              "      <td>707809.0</td>\n",
              "      <td>658868.0</td>\n",
              "      <td>623405.0</td>\n",
              "      <td>689064.0</td>\n",
              "      <td>707514.0</td>\n",
              "      <td>635938.0</td>\n",
              "      <td>705790.0</td>\n",
              "      <td>676655.0</td>\n",
              "      <td>744031.0</td>\n",
              "    </tr>\n",
              "    <tr>\n",
              "      <th>36</th>\n",
              "      <td>ขนคน (คน)</td>\n",
              "      <td>ทางอากาศ</td>\n",
              "      <td>การเดินทางระหว่างประเทศ</td>\n",
              "      <td>สาธารณะ</td>\n",
              "      <td>ทอท.</td>\n",
              "      <td>ท่าอากาศอื่น ๆ ของ ทอท.ขาเข้าประเทศ</td>\n",
              "      <td>753017</td>\n",
              "      <td>710321.0</td>\n",
              "      <td>698460.0</td>\n",
              "      <td>591289.0</td>\n",
              "      <td>455767.0</td>\n",
              "      <td>494260.0</td>\n",
              "      <td>574456.0</td>\n",
              "      <td>578856.0</td>\n",
              "      <td>482615.0</td>\n",
              "      <td>556104.0</td>\n",
              "      <td>630423.0</td>\n",
              "      <td>755055.0</td>\n",
              "    </tr>\n",
              "    <tr>\n",
              "      <th>37</th>\n",
              "      <td>ขนคน (คน)</td>\n",
              "      <td>ทางอากาศ</td>\n",
              "      <td>การเดินทางระหว่างประเทศ</td>\n",
              "      <td>สาธารณะ</td>\n",
              "      <td>ทอท.</td>\n",
              "      <td>ท่าอากาศอื่น ๆ ของ ทอท. ขาออกประเทศ</td>\n",
              "      <td>750052</td>\n",
              "      <td>733723.0</td>\n",
              "      <td>741191.0</td>\n",
              "      <td>600419.0</td>\n",
              "      <td>489178.0</td>\n",
              "      <td>473202.0</td>\n",
              "      <td>542494.0</td>\n",
              "      <td>594959.0</td>\n",
              "      <td>466849.0</td>\n",
              "      <td>531082.0</td>\n",
              "      <td>612620.0</td>\n",
              "      <td>682621.0</td>\n",
              "    </tr>\n",
              "    <tr>\n",
              "      <th>38</th>\n",
              "      <td>ขนคน (คน)</td>\n",
              "      <td>ทางอากาศ</td>\n",
              "      <td>การเดินทางระหว่างประเทศ</td>\n",
              "      <td>สาธารณะ</td>\n",
              "      <td>ทย.</td>\n",
              "      <td>ท่าอากาศยานภูมิภาค ขาเข้าประเทศ</td>\n",
              "      <td>98581</td>\n",
              "      <td>108408.0</td>\n",
              "      <td>71729.0</td>\n",
              "      <td>50038.0</td>\n",
              "      <td>42413.0</td>\n",
              "      <td>45414.0</td>\n",
              "      <td>50103.0</td>\n",
              "      <td>55074.0</td>\n",
              "      <td>43331.0</td>\n",
              "      <td>37486.0</td>\n",
              "      <td>45609.0</td>\n",
              "      <td>72067.0</td>\n",
              "    </tr>\n",
              "    <tr>\n",
              "      <th>39</th>\n",
              "      <td>ขนคน (คน)</td>\n",
              "      <td>ทางอากาศ</td>\n",
              "      <td>การเดินทางระหว่างประเทศ</td>\n",
              "      <td>สาธารณะ</td>\n",
              "      <td>ทย.</td>\n",
              "      <td>ท่าอากาศยานภูมิภาค ขาออกประเทศ</td>\n",
              "      <td>96843</td>\n",
              "      <td>116047.0</td>\n",
              "      <td>83223.0</td>\n",
              "      <td>53096.0</td>\n",
              "      <td>47317.0</td>\n",
              "      <td>45001.0</td>\n",
              "      <td>51994.0</td>\n",
              "      <td>52701.0</td>\n",
              "      <td>44119.0</td>\n",
              "      <td>38058.0</td>\n",
              "      <td>42175.0</td>\n",
              "      <td>59594.0</td>\n",
              "    </tr>\n",
              "  </tbody>\n",
              "</table>\n",
              "</div>"
            ],
            "text/plain": [
              "   ขนคน/ขนสินค้า โหมดการเดินทาง  ...   พ.ย. 2562   ธ.ค. 2562\n",
              "0      ขนคน (คน)          ทางบก  ...   4559610.0   4840673.0\n",
              "2      ขนคน (คน)          ทางบก  ...   2450888.0   2516032.0\n",
              "3     ขนคน (คัน)          ทางบก  ...  28325020.0  29615013.0\n",
              "4     ขนคน (คัน)          ทางบก  ...  46996660.0  47294111.0\n",
              "6      ขนคน (คน)          ทางบก  ...    108037.0    104032.0\n",
              "8      ขนคน (คน)          ทางบก  ...  29672244.0  29019427.0\n",
              "9      ขนคน (คน)          ทางบก  ...  25368180.0  24993204.0\n",
              "13     ขนคน (คน)         ทางน้ำ  ...    771668.0    766378.0\n",
              "14     ขนคน (คน)         ทางน้ำ  ...    837965.0    796559.0\n",
              "15     ขนคน (คน)         ทางน้ำ  ...   6420869.0   7216193.0\n",
              "17     ขนคน (คน)         ทางราง  ...   2609722.0   2715880.0\n",
              "18     ขนคน (คน)         ทางราง  ...  11520590.0  10265578.0\n",
              "19     ขนคน (คน)         ทางราง  ...   1305024.0   1179272.0\n",
              "20     ขนคน (คน)         ทางราง  ...   2290792.0   2181036.0\n",
              "21     ขนคน (คน)         ทางราง  ...  21300000.0  20900000.0\n",
              "22     ขนคน (คน)       ทางอากาศ  ...    411562.0    458992.0\n",
              "23     ขนคน (คน)       ทางอากาศ  ...    936619.0    986303.0\n",
              "24     ขนคน (คน)       ทางอากาศ  ...    903852.0    924307.0\n",
              "25     ขนคน (คน)       ทางอากาศ  ...    674826.0    724097.0\n",
              "26     ขนคน (คน)         ทางถนน  ...     19912.0     21968.0\n",
              "27     ขนคน (คน)         ทางถนน  ...     26225.0     32820.0\n",
              "28     ขนคน (คน)         ทางราง  ...       253.0       330.0\n",
              "29     ขนคน (คน)         ทางราง  ...       667.0       818.0\n",
              "32     ขนคน (คน)       ทางอากาศ  ...   2301907.0   2545272.0\n",
              "33     ขนคน (คน)       ทางอากาศ  ...   1799319.0   1952980.0\n",
              "34     ขนคน (คน)       ทางอากาศ  ...    728209.0    805839.0\n",
              "35     ขนคน (คน)       ทางอากาศ  ...    676655.0    744031.0\n",
              "36     ขนคน (คน)       ทางอากาศ  ...    630423.0    755055.0\n",
              "37     ขนคน (คน)       ทางอากาศ  ...    612620.0    682621.0\n",
              "38     ขนคน (คน)       ทางอากาศ  ...     45609.0     72067.0\n",
              "39     ขนคน (คน)       ทางอากาศ  ...     42175.0     59594.0\n",
              "\n",
              "[31 rows x 18 columns]"
            ]
          },
          "metadata": {
            "tags": []
          },
          "execution_count": 18
        }
      ]
    },
    {
      "cell_type": "code",
      "metadata": {
        "id": "cZRG2qGpDRu2",
        "colab": {
          "base_uri": "https://localhost:8080/"
        },
        "outputId": "23f8240b-82ab-4a83-b7f9-5ede4e7623a0"
      },
      "source": [
        "data_drop.iloc[:3,6]"
      ],
      "execution_count": 19,
      "outputs": [
        {
          "output_type": "execute_result",
          "data": {
            "text/plain": [
              "0     5236331\n",
              "2     2550864\n",
              "3    28907234\n",
              "Name: ม.ค. 2562, dtype: object"
            ]
          },
          "metadata": {
            "tags": []
          },
          "execution_count": 19
        }
      ]
    },
    {
      "cell_type": "code",
      "metadata": {
        "id": "nNAU_YpdKkdT"
      },
      "source": [
        "import matplotlib"
      ],
      "execution_count": 30,
      "outputs": []
    },
    {
      "cell_type": "code",
      "metadata": {
        "id": "xivdzyCIKUkB"
      },
      "source": [
        "matplotlib.rcParams['figure.figsize']=[8,8] #เพิ่มขนาดกราฟ"
      ],
      "execution_count": 31,
      "outputs": []
    },
    {
      "cell_type": "code",
      "metadata": {
        "id": "92KA3XmE1r_q",
        "colab": {
          "base_uri": "https://localhost:8080/",
          "height": 500
        },
        "outputId": "d20487a3-e3b7-4b1c-d446-689137f32787"
      },
      "source": [
        "plt.scatter([0,100,200],[200,200,200],s=[200,3000,700])\r\n",
        "plt.xlim((-50,300))"
      ],
      "execution_count": 33,
      "outputs": [
        {
          "output_type": "execute_result",
          "data": {
            "text/plain": [
              "(-50.0, 300.0)"
            ]
          },
          "metadata": {
            "tags": []
          },
          "execution_count": 33
        },
        {
          "output_type": "display_data",
          "data": {
            "image/png": "[encoded data removed]",
            "text/plain": [
              "<Figure size 576x576 with 1 Axes>"
            ]
          },
          "metadata": {
            "tags": [],
            "needs_background": "light"
          }
        }
      ]
    },
    {
      "cell_type": "code",
      "metadata": {
        "id": "fzMstyEwKSms"
      },
      "source": [
        ""
      ],
      "execution_count": null,
      "outputs": []
    },
    {
      "cell_type": "code",
      "metadata": {
        "id": "zDwjRG-E3UMR",
        "colab": {
          "base_uri": "https://localhost:8080/"
        },
        "outputId": "9fc42b47-af6e-443e-9409-7f6901ffda2a"
      },
      "source": [
        "data_travel = data_drop['รูปแบบการเดินทาง'].astype('category')\r\n",
        "data_travel "
      ],
      "execution_count": 21,
      "outputs": [
        {
          "output_type": "execute_result",
          "data": {
            "text/plain": [
              "0           การเดินทางระหว่างจังหวัด\n",
              "2           การเดินทางระหว่างจังหวัด\n",
              "3           การเดินทางระหว่างจังหวัด\n",
              "4           การเดินทางระหว่างจังหวัด\n",
              "6     การเดินทางภายในจังหวัด/กรุงเทพ\n",
              "8     การเดินทางภายในจังหวัด/กรุงเทพ\n",
              "9     การเดินทางภายในจังหวัด/กรุงเทพ\n",
              "13    การเดินทางภายในจังหวัด/กรุงเทพ\n",
              "14    การเดินทางภายในจังหวัด/กรุงเทพ\n",
              "15    การเดินทางภายในจังหวัด/กรุงเทพ\n",
              "17          การเดินทางระหว่างจังหวัด\n",
              "18    การเดินทางภายในจังหวัด/กรุงเทพ\n",
              "19    การเดินทางภายในจังหวัด/กรุงเทพ\n",
              "20    การเดินทางภายในจังหวัด/กรุงเทพ\n",
              "21    การเดินทางภายในจังหวัด/กรุงเทพ\n",
              "22          การเดินทางระหว่างจังหวัด\n",
              "23          การเดินทางระหว่างจังหวัด\n",
              "24          การเดินทางระหว่างจังหวัด\n",
              "25          การเดินทางระหว่างจังหวัด\n",
              "26           การเดินทางระหว่างประเทศ\n",
              "27           การเดินทางระหว่างประเทศ\n",
              "28           การเดินทางระหว่างประเทศ\n",
              "29           การเดินทางระหว่างประเทศ\n",
              "32           การเดินทางระหว่างประเทศ\n",
              "33           การเดินทางระหว่างประเทศ\n",
              "34           การเดินทางระหว่างประเทศ\n",
              "35           การเดินทางระหว่างประเทศ\n",
              "36           การเดินทางระหว่างประเทศ\n",
              "37           การเดินทางระหว่างประเทศ\n",
              "38           การเดินทางระหว่างประเทศ\n",
              "39           การเดินทางระหว่างประเทศ\n",
              "Name: รูปแบบการเดินทาง, dtype: category\n",
              "Categories (3, object): ['การเดินทางภายในจังหวัด/กรุงเทพ', 'การเดินทางระหว่างจังหวัด', 'การเดินทางระหว่างประเทศ']"
            ]
          },
          "metadata": {
            "tags": []
          },
          "execution_count": 21
        }
      ]
    },
    {
      "cell_type": "code",
      "metadata": {
        "id": "Dd0L35DVYOIY",
        "colab": {
          "base_uri": "https://localhost:8080/"
        },
        "outputId": "a1de9356-1738-4734-f60d-3d4d730f4023"
      },
      "source": [
        "data_ins = data_drop['ขนคน/ขนสินค้า'].astype('category')\r\n",
        "data_ins"
      ],
      "execution_count": 22,
      "outputs": [
        {
          "output_type": "execute_result",
          "data": {
            "text/plain": [
              "0      ขนคน (คน)\n",
              "2      ขนคน (คน)\n",
              "3     ขนคน (คัน)\n",
              "4     ขนคน (คัน)\n",
              "6      ขนคน (คน)\n",
              "8      ขนคน (คน)\n",
              "9      ขนคน (คน)\n",
              "13     ขนคน (คน)\n",
              "14     ขนคน (คน)\n",
              "15     ขนคน (คน)\n",
              "17     ขนคน (คน)\n",
              "18     ขนคน (คน)\n",
              "19     ขนคน (คน)\n",
              "20     ขนคน (คน)\n",
              "21     ขนคน (คน)\n",
              "22     ขนคน (คน)\n",
              "23     ขนคน (คน)\n",
              "24     ขนคน (คน)\n",
              "25     ขนคน (คน)\n",
              "26     ขนคน (คน)\n",
              "27     ขนคน (คน)\n",
              "28     ขนคน (คน)\n",
              "29     ขนคน (คน)\n",
              "32     ขนคน (คน)\n",
              "33     ขนคน (คน)\n",
              "34     ขนคน (คน)\n",
              "35     ขนคน (คน)\n",
              "36     ขนคน (คน)\n",
              "37     ขนคน (คน)\n",
              "38     ขนคน (คน)\n",
              "39     ขนคน (คน)\n",
              "Name: ขนคน/ขนสินค้า, dtype: category\n",
              "Categories (2, object): ['ขนคน (คน)', 'ขนคน (คัน)']"
            ]
          },
          "metadata": {
            "tags": []
          },
          "execution_count": 22
        }
      ]
    },
    {
      "cell_type": "code",
      "metadata": {
        "id": "4JRnjaW6aYfX",
        "colab": {
          "base_uri": "https://localhost:8080/"
        },
        "outputId": "bf5f43cc-2fd3-4d97-dc3e-3d1a4f102618"
      },
      "source": [
        "data_April = data_drop['เม.ย. 2562']\r\n",
        "data_April"
      ],
      "execution_count": 23,
      "outputs": [
        {
          "output_type": "execute_result",
          "data": {
            "text/plain": [
              "0      5137450.0\n",
              "2      2602024.0\n",
              "3     28542444.0\n",
              "4     46838468.0\n",
              "6       104421.0\n",
              "8     29002665.0\n",
              "9     23874176.0\n",
              "13      714176.0\n",
              "14      636994.0\n",
              "15     8040472.0\n",
              "17     2736354.0\n",
              "18     8206327.0\n",
              "19     1072255.0\n",
              "20     2075144.0\n",
              "21    18700000.0\n",
              "22      411991.0\n",
              "23      978842.0\n",
              "24      931476.0\n",
              "25      710072.0\n",
              "26       32376.0\n",
              "27       42078.0\n",
              "28         163.0\n",
              "29         429.0\n",
              "32     2227482.0\n",
              "33     1891725.0\n",
              "34      764724.0\n",
              "35      707809.0\n",
              "36      591289.0\n",
              "37      600419.0\n",
              "38       50038.0\n",
              "39       53096.0\n",
              "Name: เม.ย. 2562, dtype: float64"
            ]
          },
          "metadata": {
            "tags": []
          },
          "execution_count": 23
        }
      ]
    },
    {
      "cell_type": "code",
      "metadata": {
        "id": "v4sTqILoZomn",
        "colab": {
          "base_uri": "https://localhost:8080/",
          "height": 1000
        },
        "outputId": "a4989d6b-f82e-4c02-ceb8-5508368234c1"
      },
      "source": [
        "plt.scatter(data_travel,data_ins,s=0.0009*data_April,alpha=0.5)  #อย่าลืมชื่อกราฟและเขียนคำอธิบาย"
      ],
      "execution_count": 24,
      "outputs": [
        {
          "output_type": "execute_result",
          "data": {
            "text/plain": [
              "<matplotlib.collections.PathCollection at 0x7f8c20510e10>"
            ]
          },
          "metadata": {
            "tags": []
          },
          "execution_count": 24
        },
        {
          "output_type": "stream",
          "text": [
            "/usr/local/lib/python3.7/dist-packages/matplotlib/backends/backend_agg.py:214: RuntimeWarning: Glyph 3585 missing from current font.\n",
            "  font.set_text(s, 0.0, flags=flags)\n",
            "/usr/local/lib/python3.7/dist-packages/matplotlib/backends/backend_agg.py:214: RuntimeWarning: Glyph 3634 missing from current font.\n",
            "  font.set_text(s, 0.0, flags=flags)\n",
            "/usr/local/lib/python3.7/dist-packages/matplotlib/backends/backend_agg.py:214: RuntimeWarning: Glyph 3619 missing from current font.\n",
            "  font.set_text(s, 0.0, flags=flags)\n",
            "/usr/local/lib/python3.7/dist-packages/matplotlib/backends/backend_agg.py:214: RuntimeWarning: Glyph 3648 missing from current font.\n",
            "  font.set_text(s, 0.0, flags=flags)\n",
            "/usr/local/lib/python3.7/dist-packages/matplotlib/backends/backend_agg.py:214: RuntimeWarning: Glyph 3604 missing from current font.\n",
            "  font.set_text(s, 0.0, flags=flags)\n",
            "/usr/local/lib/python3.7/dist-packages/matplotlib/backends/backend_agg.py:214: RuntimeWarning: Glyph 3636 missing from current font.\n",
            "  font.set_text(s, 0.0, flags=flags)\n",
            "/usr/local/lib/python3.7/dist-packages/matplotlib/backends/backend_agg.py:214: RuntimeWarning: Glyph 3609 missing from current font.\n",
            "  font.set_text(s, 0.0, flags=flags)\n",
            "/usr/local/lib/python3.7/dist-packages/matplotlib/backends/backend_agg.py:214: RuntimeWarning: Glyph 3607 missing from current font.\n",
            "  font.set_text(s, 0.0, flags=flags)\n",
            "/usr/local/lib/python3.7/dist-packages/matplotlib/backends/backend_agg.py:214: RuntimeWarning: Glyph 3591 missing from current font.\n",
            "  font.set_text(s, 0.0, flags=flags)\n",
            "/usr/local/lib/python3.7/dist-packages/matplotlib/backends/backend_agg.py:214: RuntimeWarning: Glyph 3632 missing from current font.\n",
            "  font.set_text(s, 0.0, flags=flags)\n",
            "/usr/local/lib/python3.7/dist-packages/matplotlib/backends/backend_agg.py:214: RuntimeWarning: Glyph 3627 missing from current font.\n",
            "  font.set_text(s, 0.0, flags=flags)\n",
            "/usr/local/lib/python3.7/dist-packages/matplotlib/backends/backend_agg.py:214: RuntimeWarning: Glyph 3623 missing from current font.\n",
            "  font.set_text(s, 0.0, flags=flags)\n",
            "/usr/local/lib/python3.7/dist-packages/matplotlib/backends/backend_agg.py:214: RuntimeWarning: Glyph 3656 missing from current font.\n",
            "  font.set_text(s, 0.0, flags=flags)\n",
            "/usr/local/lib/python3.7/dist-packages/matplotlib/backends/backend_agg.py:214: RuntimeWarning: Glyph 3592 missing from current font.\n",
            "  font.set_text(s, 0.0, flags=flags)\n",
            "/usr/local/lib/python3.7/dist-packages/matplotlib/backends/backend_agg.py:214: RuntimeWarning: Glyph 3633 missing from current font.\n",
            "  font.set_text(s, 0.0, flags=flags)\n",
            "/usr/local/lib/python3.7/dist-packages/matplotlib/backends/backend_agg.py:214: RuntimeWarning: Glyph 3616 missing from current font.\n",
            "  font.set_text(s, 0.0, flags=flags)\n",
            "/usr/local/lib/python3.7/dist-packages/matplotlib/backends/backend_agg.py:214: RuntimeWarning: Glyph 3618 missing from current font.\n",
            "  font.set_text(s, 0.0, flags=flags)\n",
            "/usr/local/lib/python3.7/dist-packages/matplotlib/backends/backend_agg.py:214: RuntimeWarning: Glyph 3651 missing from current font.\n",
            "  font.set_text(s, 0.0, flags=flags)\n",
            "/usr/local/lib/python3.7/dist-packages/matplotlib/backends/backend_agg.py:214: RuntimeWarning: Glyph 3640 missing from current font.\n",
            "  font.set_text(s, 0.0, flags=flags)\n",
            "/usr/local/lib/python3.7/dist-packages/matplotlib/backends/backend_agg.py:214: RuntimeWarning: Glyph 3614 missing from current font.\n",
            "  font.set_text(s, 0.0, flags=flags)\n",
            "/usr/local/lib/python3.7/dist-packages/matplotlib/backends/backend_agg.py:214: RuntimeWarning: Glyph 3611 missing from current font.\n",
            "  font.set_text(s, 0.0, flags=flags)\n",
            "/usr/local/lib/python3.7/dist-packages/matplotlib/backends/backend_agg.py:214: RuntimeWarning: Glyph 3624 missing from current font.\n",
            "  font.set_text(s, 0.0, flags=flags)\n",
            "/usr/local/lib/python3.7/dist-packages/matplotlib/backends/backend_agg.py:183: RuntimeWarning: Glyph 3585 missing from current font.\n",
            "  font.set_text(s, 0, flags=flags)\n",
            "/usr/local/lib/python3.7/dist-packages/matplotlib/backends/backend_agg.py:183: RuntimeWarning: Glyph 3634 missing from current font.\n",
            "  font.set_text(s, 0, flags=flags)\n",
            "/usr/local/lib/python3.7/dist-packages/matplotlib/backends/backend_agg.py:183: RuntimeWarning: Glyph 3619 missing from current font.\n",
            "  font.set_text(s, 0, flags=flags)\n",
            "/usr/local/lib/python3.7/dist-packages/matplotlib/backends/backend_agg.py:183: RuntimeWarning: Glyph 3648 missing from current font.\n",
            "  font.set_text(s, 0, flags=flags)\n",
            "/usr/local/lib/python3.7/dist-packages/matplotlib/backends/backend_agg.py:183: RuntimeWarning: Glyph 3604 missing from current font.\n",
            "  font.set_text(s, 0, flags=flags)\n",
            "/usr/local/lib/python3.7/dist-packages/matplotlib/backends/backend_agg.py:183: RuntimeWarning: Glyph 3636 missing from current font.\n",
            "  font.set_text(s, 0, flags=flags)\n",
            "/usr/local/lib/python3.7/dist-packages/matplotlib/backends/backend_agg.py:183: RuntimeWarning: Glyph 3609 missing from current font.\n",
            "  font.set_text(s, 0, flags=flags)\n",
            "/usr/local/lib/python3.7/dist-packages/matplotlib/backends/backend_agg.py:183: RuntimeWarning: Glyph 3607 missing from current font.\n",
            "  font.set_text(s, 0, flags=flags)\n",
            "/usr/local/lib/python3.7/dist-packages/matplotlib/backends/backend_agg.py:183: RuntimeWarning: Glyph 3591 missing from current font.\n",
            "  font.set_text(s, 0, flags=flags)\n",
            "/usr/local/lib/python3.7/dist-packages/matplotlib/backends/backend_agg.py:183: RuntimeWarning: Glyph 3632 missing from current font.\n",
            "  font.set_text(s, 0, flags=flags)\n",
            "/usr/local/lib/python3.7/dist-packages/matplotlib/backends/backend_agg.py:183: RuntimeWarning: Glyph 3627 missing from current font.\n",
            "  font.set_text(s, 0, flags=flags)\n",
            "/usr/local/lib/python3.7/dist-packages/matplotlib/backends/backend_agg.py:183: RuntimeWarning: Glyph 3623 missing from current font.\n",
            "  font.set_text(s, 0, flags=flags)\n",
            "/usr/local/lib/python3.7/dist-packages/matplotlib/backends/backend_agg.py:183: RuntimeWarning: Glyph 3656 missing from current font.\n",
            "  font.set_text(s, 0, flags=flags)\n",
            "/usr/local/lib/python3.7/dist-packages/matplotlib/backends/backend_agg.py:183: RuntimeWarning: Glyph 3592 missing from current font.\n",
            "  font.set_text(s, 0, flags=flags)\n",
            "/usr/local/lib/python3.7/dist-packages/matplotlib/backends/backend_agg.py:183: RuntimeWarning: Glyph 3633 missing from current font.\n",
            "  font.set_text(s, 0, flags=flags)\n",
            "/usr/local/lib/python3.7/dist-packages/matplotlib/backends/backend_agg.py:183: RuntimeWarning: Glyph 3616 missing from current font.\n",
            "  font.set_text(s, 0, flags=flags)\n",
            "/usr/local/lib/python3.7/dist-packages/matplotlib/backends/backend_agg.py:183: RuntimeWarning: Glyph 3618 missing from current font.\n",
            "  font.set_text(s, 0, flags=flags)\n",
            "/usr/local/lib/python3.7/dist-packages/matplotlib/backends/backend_agg.py:183: RuntimeWarning: Glyph 3651 missing from current font.\n",
            "  font.set_text(s, 0, flags=flags)\n",
            "/usr/local/lib/python3.7/dist-packages/matplotlib/backends/backend_agg.py:183: RuntimeWarning: Glyph 3640 missing from current font.\n",
            "  font.set_text(s, 0, flags=flags)\n",
            "/usr/local/lib/python3.7/dist-packages/matplotlib/backends/backend_agg.py:183: RuntimeWarning: Glyph 3614 missing from current font.\n",
            "  font.set_text(s, 0, flags=flags)\n",
            "/usr/local/lib/python3.7/dist-packages/matplotlib/backends/backend_agg.py:183: RuntimeWarning: Glyph 3611 missing from current font.\n",
            "  font.set_text(s, 0, flags=flags)\n",
            "/usr/local/lib/python3.7/dist-packages/matplotlib/backends/backend_agg.py:183: RuntimeWarning: Glyph 3624 missing from current font.\n",
            "  font.set_text(s, 0, flags=flags)\n",
            "/usr/local/lib/python3.7/dist-packages/matplotlib/backends/backend_agg.py:214: RuntimeWarning: Glyph 3586 missing from current font.\n",
            "  font.set_text(s, 0.0, flags=flags)\n",
            "/usr/local/lib/python3.7/dist-packages/matplotlib/backends/backend_agg.py:214: RuntimeWarning: Glyph 3588 missing from current font.\n",
            "  font.set_text(s, 0.0, flags=flags)\n",
            "/usr/local/lib/python3.7/dist-packages/matplotlib/backends/backend_agg.py:183: RuntimeWarning: Glyph 3586 missing from current font.\n",
            "  font.set_text(s, 0, flags=flags)\n",
            "/usr/local/lib/python3.7/dist-packages/matplotlib/backends/backend_agg.py:183: RuntimeWarning: Glyph 3588 missing from current font.\n",
            "  font.set_text(s, 0, flags=flags)\n"
          ],
          "name": "stderr"
        },
        {
          "output_type": "display_data",
          "data": {
            "image/png": "[encoded data removed]",
            "text/plain": [
              "<Figure size 432x288 with 1 Axes>"
            ]
          },
          "metadata": {
            "tags": [],
            "needs_background": "light"
          }
        }
      ]
    },
    {
      "cell_type": "markdown",
      "metadata": {
        "id": "DwszEPdQFsQk"
      },
      "source": [
        "##สร้าง color list แบบข้างล่างนี้ ลำดับจะไม่มีการเปลี่ยนแปลง"
      ]
    },
    {
      "cell_type": "code",
      "metadata": {
        "id": "2vGyK1HIE3HV",
        "outputId": "53282888-760c-4770-c569-a4ed4dcd613d",
        "colab": {
          "base_uri": "https://localhost:8080/",
          "height": 230
        }
      },
      "source": [
        "FG_l = list(FG)\r\n",
        "FG_I.scort()\r\n",
        "color_list2 = {}\r\n",
        "num = 0\r\n",
        "for each_fg in FG_l :\r\n",
        "     if each_fg not in color_list2:\r\n",
        "        color_list2[each_fg] = num\r\n",
        "        num +=1"
      ],
      "execution_count": 26,
      "outputs": [
        {
          "output_type": "error",
          "ename": "NameError",
          "evalue": "ignored",
          "traceback": [
            "\u001b[0;31m---------------------------------------------------------------------------\u001b[0m",
            "\u001b[0;31mNameError\u001b[0m                                 Traceback (most recent call last)",
            "\u001b[0;32m<ipython-input-26-06cafc300b18>\u001b[0m in \u001b[0;36m<module>\u001b[0;34m()\u001b[0m\n\u001b[0;32m----> 1\u001b[0;31m \u001b[0mFG_l\u001b[0m \u001b[0;34m=\u001b[0m \u001b[0mlist\u001b[0m\u001b[0;34m(\u001b[0m\u001b[0mFG\u001b[0m\u001b[0;34m)\u001b[0m\u001b[0;34m\u001b[0m\u001b[0;34m\u001b[0m\u001b[0m\n\u001b[0m\u001b[1;32m      2\u001b[0m \u001b[0mFG_I\u001b[0m\u001b[0;34m.\u001b[0m\u001b[0mscort\u001b[0m\u001b[0;34m(\u001b[0m\u001b[0;34m)\u001b[0m\u001b[0;34m\u001b[0m\u001b[0;34m\u001b[0m\u001b[0m\n\u001b[1;32m      3\u001b[0m \u001b[0mcolor_list2\u001b[0m \u001b[0;34m=\u001b[0m \u001b[0;34m{\u001b[0m\u001b[0;34m}\u001b[0m\u001b[0;34m\u001b[0m\u001b[0;34m\u001b[0m\u001b[0m\n\u001b[1;32m      4\u001b[0m \u001b[0mnum\u001b[0m \u001b[0;34m=\u001b[0m \u001b[0;36m0\u001b[0m\u001b[0;34m\u001b[0m\u001b[0;34m\u001b[0m\u001b[0m\n\u001b[1;32m      5\u001b[0m \u001b[0;32mfor\u001b[0m \u001b[0meach_fg\u001b[0m \u001b[0;32min\u001b[0m \u001b[0mFG_l\u001b[0m \u001b[0;34m:\u001b[0m\u001b[0;34m\u001b[0m\u001b[0;34m\u001b[0m\u001b[0m\n",
            "\u001b[0;31mNameError\u001b[0m: name 'FG' is not defined"
          ]
        }
      ]
    },
    {
      "cell_type": "markdown",
      "metadata": {
        "id": "KNI5KKG-GpWl"
      },
      "source": [
        "## Box plot\r\n",
        "![image.png](data:image/png;base64,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)"
      ]
    },
    {
      "cell_type": "code",
      "metadata": {
        "id": "eiZgTtMOGndg",
        "outputId": "63c19686-5dbf-4d0e-9b5f-1588b649b3ca",
        "colab": {
          "base_uri": "https://localhost:8080/",
          "height": 402
        }
      },
      "source": [
        "df = pd.read_csv ('https://raw.github.com/pandas-dev/pandas/master/pandas/tests/io/data/csv/iris.csv')\r\n",
        "df"
      ],
      "execution_count": 34,
      "outputs": [
        {
          "output_type": "execute_result",
          "data": {
            "text/html": [
              "<div>\n",
              "<style scoped>\n",
              "    .dataframe tbody tr th:only-of-type {\n",
              "        vertical-align: middle;\n",
              "    }\n",
              "\n",
              "    .dataframe tbody tr th {\n",
              "        vertical-align: top;\n",
              "    }\n",
              "\n",
              "    .dataframe thead th {\n",
              "        text-align: right;\n",
              "    }\n",
              "</style>\n",
              "<table border=\"1\" class=\"dataframe\">\n",
              "  <thead>\n",
              "    <tr style=\"text-align: right;\">\n",
              "      <th></th>\n",
              "      <th>SepalLength</th>\n",
              "      <th>SepalWidth</th>\n",
              "      <th>PetalLength</th>\n",
              "      <th>PetalWidth</th>\n",
              "      <th>Name</th>\n",
              "    </tr>\n",
              "  </thead>\n",
              "  <tbody>\n",
              "    <tr>\n",
              "      <th>0</th>\n",
              "      <td>5.1</td>\n",
              "      <td>3.5</td>\n",
              "      <td>1.4</td>\n",
              "      <td>0.2</td>\n",
              "      <td>Iris-setosa</td>\n",
              "    </tr>\n",
              "    <tr>\n",
              "      <th>1</th>\n",
              "      <td>4.9</td>\n",
              "      <td>3.0</td>\n",
              "      <td>1.4</td>\n",
              "      <td>0.2</td>\n",
              "      <td>Iris-setosa</td>\n",
              "    </tr>\n",
              "    <tr>\n",
              "      <th>2</th>\n",
              "      <td>4.7</td>\n",
              "      <td>3.2</td>\n",
              "      <td>1.3</td>\n",
              "      <td>0.2</td>\n",
              "      <td>Iris-setosa</td>\n",
              "    </tr>\n",
              "    <tr>\n",
              "      <th>3</th>\n",
              "      <td>4.6</td>\n",
              "      <td>3.1</td>\n",
              "      <td>1.5</td>\n",
              "      <td>0.2</td>\n",
              "      <td>Iris-setosa</td>\n",
              "    </tr>\n",
              "    <tr>\n",
              "      <th>4</th>\n",
              "      <td>5.0</td>\n",
              "      <td>3.6</td>\n",
              "      <td>1.4</td>\n",
              "      <td>0.2</td>\n",
              "      <td>Iris-setosa</td>\n",
              "    </tr>\n",
              "    <tr>\n",
              "      <th>...</th>\n",
              "      <td>...</td>\n",
              "      <td>...</td>\n",
              "      <td>...</td>\n",
              "      <td>...</td>\n",
              "      <td>...</td>\n",
              "    </tr>\n",
              "    <tr>\n",
              "      <th>145</th>\n",
              "      <td>6.7</td>\n",
              "      <td>3.0</td>\n",
              "      <td>5.2</td>\n",
              "      <td>2.3</td>\n",
              "      <td>Iris-virginica</td>\n",
              "    </tr>\n",
              "    <tr>\n",
              "      <th>146</th>\n",
              "      <td>6.3</td>\n",
              "      <td>2.5</td>\n",
              "      <td>5.0</td>\n",
              "      <td>1.9</td>\n",
              "      <td>Iris-virginica</td>\n",
              "    </tr>\n",
              "    <tr>\n",
              "      <th>147</th>\n",
              "      <td>6.5</td>\n",
              "      <td>3.0</td>\n",
              "      <td>5.2</td>\n",
              "      <td>2.0</td>\n",
              "      <td>Iris-virginica</td>\n",
              "    </tr>\n",
              "    <tr>\n",
              "      <th>148</th>\n",
              "      <td>6.2</td>\n",
              "      <td>3.4</td>\n",
              "      <td>5.4</td>\n",
              "      <td>2.3</td>\n",
              "      <td>Iris-virginica</td>\n",
              "    </tr>\n",
              "    <tr>\n",
              "      <th>149</th>\n",
              "      <td>5.9</td>\n",
              "      <td>3.0</td>\n",
              "      <td>5.1</td>\n",
              "      <td>1.8</td>\n",
              "      <td>Iris-virginica</td>\n",
              "    </tr>\n",
              "  </tbody>\n",
              "</table>\n",
              "<p>150 rows × 5 columns</p>\n",
              "</div>"
            ],
            "text/plain": [
              "     SepalLength  SepalWidth  PetalLength  PetalWidth            Name\n",
              "0            5.1         3.5          1.4         0.2     Iris-setosa\n",
              "1            4.9         3.0          1.4         0.2     Iris-setosa\n",
              "2            4.7         3.2          1.3         0.2     Iris-setosa\n",
              "3            4.6         3.1          1.5         0.2     Iris-setosa\n",
              "4            5.0         3.6          1.4         0.2     Iris-setosa\n",
              "..           ...         ...          ...         ...             ...\n",
              "145          6.7         3.0          5.2         2.3  Iris-virginica\n",
              "146          6.3         2.5          5.0         1.9  Iris-virginica\n",
              "147          6.5         3.0          5.2         2.0  Iris-virginica\n",
              "148          6.2         3.4          5.4         2.3  Iris-virginica\n",
              "149          5.9         3.0          5.1         1.8  Iris-virginica\n",
              "\n",
              "[150 rows x 5 columns]"
            ]
          },
          "metadata": {
            "tags": []
          },
          "execution_count": 34
        }
      ]
    },
    {
      "cell_type": "code",
      "metadata": {
        "id": "588MPM8rSpqW",
        "outputId": "cc93ac1b-d1da-4377-beb9-e7fe10a7bfce",
        "colab": {
          "base_uri": "https://localhost:8080/",
          "height": 618
        }
      },
      "source": [
        "plt.boxplot(df['SepalLength'])"
      ],
      "execution_count": 35,
      "outputs": [
        {
          "output_type": "execute_result",
          "data": {
            "text/plain": [
              "{'boxes': [<matplotlib.lines.Line2D at 0x7f8c1b576550>],\n",
              " 'caps': [<matplotlib.lines.Line2D at 0x7f8c1b510c90>,\n",
              "  <matplotlib.lines.Line2D at 0x7f8c1b510510>],\n",
              " 'fliers': [<matplotlib.lines.Line2D at 0x7f8c1b507990>],\n",
              " 'means': [],\n",
              " 'medians': [<matplotlib.lines.Line2D at 0x7f8c1b507190>],\n",
              " 'whiskers': [<matplotlib.lines.Line2D at 0x7f8c1b672b10>,\n",
              "  <matplotlib.lines.Line2D at 0x7f8c1b510e10>]}"
            ]
          },
          "metadata": {
            "tags": []
          },
          "execution_count": 35
        },
        {
          "output_type": "display_data",
          "data": {
            "image/png": "[encoded data removed]",
            "text/plain": [
              "<Figure size 576x576 with 1 Axes>"
            ]
          },
          "metadata": {
            "tags": [],
            "needs_background": "light"
          }
        }
      ]
    },
    {
      "cell_type": "code",
      "metadata": {
        "id": "F3VkOn_OSyZo",
        "outputId": "0ec17b81-25ab-4119-f58c-cdc4c14a2eb6",
        "colab": {
          "base_uri": "https://localhost:8080/",
          "height": 483
        }
      },
      "source": [
        "L = plt.boxplot(df['SepalWidth']) #มีOutliers"
      ],
      "execution_count": 37,
      "outputs": [
        {
          "output_type": "display_data",
          "data": {
            "image/png": "[encoded data removed]",
            "text/plain": [
              "<Figure size 576x576 with 1 Axes>"
            ]
          },
          "metadata": {
            "tags": [],
            "needs_background": "light"
          }
        }
      ]
    },
    {
      "cell_type": "code",
      "metadata": {
        "id": "Fd8LfPpTTzph",
        "outputId": "afc96e1d-75e8-4cfe-e50c-889d2273672f",
        "colab": {
          "base_uri": "https://localhost:8080/"
        }
      },
      "source": [
        "L['fliers'][0].get_ydata()"
      ],
      "execution_count": 41,
      "outputs": [
        {
          "output_type": "execute_result",
          "data": {
            "text/plain": [
              "array([2. , 4.4, 4.1, 4.2])"
            ]
          },
          "metadata": {
            "tags": []
          },
          "execution_count": 41
        }
      ]
    },
    {
      "cell_type": "code",
      "metadata": {
        "id": "Ziv18PWMV5Ad",
        "outputId": "db40f7aa-763f-471a-85ae-93492ab65573",
        "colab": {
          "base_uri": "https://localhost:8080/"
        }
      },
      "source": [
        "L['fliers'][0].get_xdata()"
      ],
      "execution_count": 42,
      "outputs": [
        {
          "output_type": "execute_result",
          "data": {
            "text/plain": [
              "array([1., 1., 1., 1.])"
            ]
          },
          "metadata": {
            "tags": []
          },
          "execution_count": 42
        }
      ]
    },
    {
      "cell_type": "code",
      "metadata": {
        "id": "wmI_YLclWdVe",
        "outputId": "fab0a292-d207-430a-be3f-95fe780f38e4",
        "colab": {
          "base_uri": "https://localhost:8080/",
          "height": 483
        }
      },
      "source": [
        "L = plt.boxplot(df['PetalLength'],meanline=True,showmeans=True)"
      ],
      "execution_count": 45,
      "outputs": [
        {
          "output_type": "display_data",
          "data": {
            "image/png": "[encoded data removed]",
            "text/plain": [
              "<Figure size 576x576 with 1 Axes>"
            ]
          },
          "metadata": {
            "tags": [],
            "needs_background": "light"
          }
        }
      ]
    }
  ]
}