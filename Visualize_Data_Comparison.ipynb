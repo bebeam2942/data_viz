{
  "nbformat": 4,
  "nbformat_minor": 0,
  "metadata": {
    "colab": {
      "name": "Visualize Data Comparison.ipynb",
      "provenance": [],
      "mount_file_id": "11TzWpj74aK01zhgmavsYFuWAanHBRs8V",
      "authorship_tag": "ABX9TyPauMIkHNU6TrPYQPzYDz4i",
      "include_colab_link": true
    },
    "kernelspec": {
      "name": "python3",
      "display_name": "Python 3"
    },
    "language_info": {
      "name": "python"
    }
  },
  "cells": [
    {
      "cell_type": "markdown",
      "metadata": {
        "id": "view-in-github",
        "colab_type": "text"
      },
      "source": [
        "<a href=\"https://colab.research.google.com/github/bebeam2942/data_viz/blob/main/Visualize_Data_Comparison.ipynb\" target=\"_parent\"><img src=\"https://colab.research.google.com/assets/colab-badge.svg\" alt=\"Open In Colab\"/></a>"
      ]
    },
    {
      "cell_type": "code",
      "metadata": {
        "id": "YtQvIF1mJD-o"
      },
      "source": [
        "import pandas as pd"
      ],
      "execution_count": 1,
      "outputs": []
    },
    {
      "cell_type": "code",
      "metadata": {
        "colab": {
          "base_uri": "https://localhost:8080/",
          "height": 976
        },
        "id": "fcoYQYXbJVfr",
        "outputId": "c43cd560-34c9-41de-9178-8b6beca6ebc7"
      },
      "source": [
        "data = pd.read_csv('/content/drive/MyDrive/dataviz_2021_data/search_request.csv')\n",
        "data"
      ],
      "execution_count": 6,
      "outputs": [
        {
          "output_type": "stream",
          "text": [
            "/usr/local/lib/python3.7/dist-packages/IPython/core/interactiveshell.py:2718: DtypeWarning: Columns (7,8,9) have mixed types.Specify dtype option on import or set low_memory=False.\n",
            "  interactivity=interactivity, compiler=compiler, result=result)\n"
          ],
          "name": "stderr"
        },
        {
          "output_type": "execute_result",
          "data": {
            "text/html": [
              "<div>\n",
              "<style scoped>\n",
              "    .dataframe tbody tr th:only-of-type {\n",
              "        vertical-align: middle;\n",
              "    }\n",
              "\n",
              "    .dataframe tbody tr th {\n",
              "        vertical-align: top;\n",
              "    }\n",
              "\n",
              "    .dataframe thead th {\n",
              "        text-align: right;\n",
              "    }\n",
              "</style>\n",
              "<table border=\"1\" class=\"dataframe\">\n",
              "  <thead>\n",
              "    <tr style=\"text-align: right;\">\n",
              "      <th></th>\n",
              "      <th>Unnamed: 0</th>\n",
              "      <th>search_id</th>\n",
              "      <th>search_timestamp</th>\n",
              "      <th>user_agent</th>\n",
              "      <th>q</th>\n",
              "      <th>user_id</th>\n",
              "      <th>session_id</th>\n",
              "      <th>number_of_result</th>\n",
              "      <th>lat</th>\n",
              "      <th>long</th>\n",
              "    </tr>\n",
              "  </thead>\n",
              "  <tbody>\n",
              "    <tr>\n",
              "      <th>0</th>\n",
              "      <td>0</td>\n",
              "      <td>683de889-f923-494e-9d46-44a3d67b7259</td>\n",
              "      <td>2018-06-14 12:34:35.449</td>\n",
              "      <td>Wongnai/8.17.3 rv:8.17.3.3921 (iPhone5,4; iOS;...</td>\n",
              "      <td>NaN</td>\n",
              "      <td>NaN</td>\n",
              "      <td>5lqjjikta19d296mo7g2h1k86p</td>\n",
              "      <td>18</td>\n",
              "      <td>12.6347</td>\n",
              "      <td>101.463</td>\n",
              "    </tr>\n",
              "    <tr>\n",
              "      <th>1</th>\n",
              "      <td>1</td>\n",
              "      <td>4a811230-ffa4-4631-a4c8-5d0394137d02</td>\n",
              "      <td>2018-06-14 17:11:19.469</td>\n",
              "      <td>Mozilla/5.0 (iPhone; CPU iPhone OS 11_4 like M...</td>\n",
              "      <td>NaN</td>\n",
              "      <td>NaN</td>\n",
              "      <td>1r3iotmp0o9slom91stdt9vivc</td>\n",
              "      <td>10</td>\n",
              "      <td>14.8009</td>\n",
              "      <td>102.534</td>\n",
              "    </tr>\n",
              "    <tr>\n",
              "      <th>2</th>\n",
              "      <td>2</td>\n",
              "      <td>7ad6ee8e-438e-4bea-9183-74dcef9e358e</td>\n",
              "      <td>2018-06-14 13:22:31.736</td>\n",
              "      <td>Mozilla/5.0 (Linux; Android 7.0; SAMSUNG SM-J7...</td>\n",
              "      <td>NaN</td>\n",
              "      <td>NaN</td>\n",
              "      <td>5ci1eo4v5u9dha4ppgu94ue7p6</td>\n",
              "      <td>8</td>\n",
              "      <td>13.7383</td>\n",
              "      <td>100.371</td>\n",
              "    </tr>\n",
              "    <tr>\n",
              "      <th>3</th>\n",
              "      <td>3</td>\n",
              "      <td>0c17a5f5-fa89-40f4-ae94-a8659268f827</td>\n",
              "      <td>2018-06-02 12:37:27.331</td>\n",
              "      <td>Mozilla/5.0 (Linux; Android 7.1.1; SM-N950F Bu...</td>\n",
              "      <td>NaN</td>\n",
              "      <td>NaN</td>\n",
              "      <td>39n535qgje9kpojp0grhfj8umk</td>\n",
              "      <td>12</td>\n",
              "      <td>12.6669</td>\n",
              "      <td>101.861</td>\n",
              "    </tr>\n",
              "    <tr>\n",
              "      <th>4</th>\n",
              "      <td>4</td>\n",
              "      <td>6870dc3a-5602-44fc-80ed-df0a7783df9d</td>\n",
              "      <td>2018-06-02 11:19:22.404</td>\n",
              "      <td>Mozilla/5.0 (iPhone; CPU iPhone OS 11_3_1 like...</td>\n",
              "      <td>NaN</td>\n",
              "      <td>NaN</td>\n",
              "      <td>5pa03h6lj691to60erver1l8o4</td>\n",
              "      <td>14</td>\n",
              "      <td>12.2372</td>\n",
              "      <td>99.88</td>\n",
              "    </tr>\n",
              "    <tr>\n",
              "      <th>...</th>\n",
              "      <td>...</td>\n",
              "      <td>...</td>\n",
              "      <td>...</td>\n",
              "      <td>...</td>\n",
              "      <td>...</td>\n",
              "      <td>...</td>\n",
              "      <td>...</td>\n",
              "      <td>...</td>\n",
              "      <td>...</td>\n",
              "      <td>...</td>\n",
              "    </tr>\n",
              "    <tr>\n",
              "      <th>10004352</th>\n",
              "      <td>10005225</td>\n",
              "      <td>5d8c10aa-63cf-4bdd-ab01-0af17a98781f</td>\n",
              "      <td>2018-06-24 09:23:57.777</td>\n",
              "      <td>okhttp/3.9.0;WongnaiAndroid 8.16.6;OPPO;CPH1729</td>\n",
              "      <td>NaN</td>\n",
              "      <td>153319.0</td>\n",
              "      <td>1oaki72de48dm87jbgj2a2crgf</td>\n",
              "      <td>22</td>\n",
              "      <td>NaN</td>\n",
              "      <td>NaN</td>\n",
              "    </tr>\n",
              "    <tr>\n",
              "      <th>10004353</th>\n",
              "      <td>10005226</td>\n",
              "      <td>66cc94db-217a-4d8e-aa20-b1d10e17c968</td>\n",
              "      <td>2018-06-24 17:03:39.908</td>\n",
              "      <td>Wongnai/10.0 (iPhone10,6; iOS; 11.4; en_TH;)</td>\n",
              "      <td>NaN</td>\n",
              "      <td>NaN</td>\n",
              "      <td>1pb7i5fe2g9hd92qbkbgh06aek</td>\n",
              "      <td>22</td>\n",
              "      <td>NaN</td>\n",
              "      <td>NaN</td>\n",
              "    </tr>\n",
              "    <tr>\n",
              "      <th>10004354</th>\n",
              "      <td>10005227</td>\n",
              "      <td>4eb3b514-fb71-4dfe-a580-c560e8c9dcc7</td>\n",
              "      <td>2018-06-24 19:17:55.797</td>\n",
              "      <td>Wongnai/10.0 (iPhone10,6; iOS; 11.4; en_TH;)</td>\n",
              "      <td>NaN</td>\n",
              "      <td>NaN</td>\n",
              "      <td>282oq0of578c6p4q760medgd30</td>\n",
              "      <td>22</td>\n",
              "      <td>NaN</td>\n",
              "      <td>NaN</td>\n",
              "    </tr>\n",
              "    <tr>\n",
              "      <th>10004355</th>\n",
              "      <td>10005228</td>\n",
              "      <td>f5554532-2eb1-4ba6-a98e-1e10b2174d2c</td>\n",
              "      <td>2018-06-24 16:53:06.067</td>\n",
              "      <td>Wongnai/10.0 (iPhone10,6; iOS; 11.4; en_TH;)</td>\n",
              "      <td>NaN</td>\n",
              "      <td>21520.0</td>\n",
              "      <td>2cpkib5gr19un9fmner728bair</td>\n",
              "      <td>22</td>\n",
              "      <td>NaN</td>\n",
              "      <td>NaN</td>\n",
              "    </tr>\n",
              "    <tr>\n",
              "      <th>10004356</th>\n",
              "      <td>10005229</td>\n",
              "      <td>48421ba4-8c69-46a5-aa05-425ddc82a09a</td>\n",
              "      <td>2018-06-24 18:06:58.441</td>\n",
              "      <td>Wongnai/10.0 (iPhone10,6; iOS; 11.4; en_TH;)</td>\n",
              "      <td>NaN</td>\n",
              "      <td>23581.0</td>\n",
              "      <td>2hb8cusb4797ioih8nq118l4t0</td>\n",
              "      <td>22</td>\n",
              "      <td>NaN</td>\n",
              "      <td>NaN</td>\n",
              "    </tr>\n",
              "  </tbody>\n",
              "</table>\n",
              "<p>10004357 rows × 10 columns</p>\n",
              "</div>"
            ],
            "text/plain": [
              "          Unnamed: 0                             search_id  ...      lat     long\n",
              "0                  0  683de889-f923-494e-9d46-44a3d67b7259  ...  12.6347  101.463\n",
              "1                  1  4a811230-ffa4-4631-a4c8-5d0394137d02  ...  14.8009  102.534\n",
              "2                  2  7ad6ee8e-438e-4bea-9183-74dcef9e358e  ...  13.7383  100.371\n",
              "3                  3  0c17a5f5-fa89-40f4-ae94-a8659268f827  ...  12.6669  101.861\n",
              "4                  4  6870dc3a-5602-44fc-80ed-df0a7783df9d  ...  12.2372    99.88\n",
              "...              ...                                   ...  ...      ...      ...\n",
              "10004352    10005225  5d8c10aa-63cf-4bdd-ab01-0af17a98781f  ...      NaN      NaN\n",
              "10004353    10005226  66cc94db-217a-4d8e-aa20-b1d10e17c968  ...      NaN      NaN\n",
              "10004354    10005227  4eb3b514-fb71-4dfe-a580-c560e8c9dcc7  ...      NaN      NaN\n",
              "10004355    10005228  f5554532-2eb1-4ba6-a98e-1e10b2174d2c  ...      NaN      NaN\n",
              "10004356    10005229  48421ba4-8c69-46a5-aa05-425ddc82a09a  ...      NaN      NaN\n",
              "\n",
              "[10004357 rows x 10 columns]"
            ]
          },
          "metadata": {
            "tags": []
          },
          "execution_count": 6
        }
      ]
    },
    {
      "cell_type": "markdown",
      "metadata": {
        "id": "VF_8rfouKksr"
      },
      "source": [
        "## เตรียมข้อมูล"
      ]
    },
    {
      "cell_type": "markdown",
      "metadata": {
        "id": "F_EVlWWrKo9O"
      },
      "source": [
        "#### แปลงข้อมูลบอกเวลาให้เป็นตัวแปรชนิด datetime"
      ]
    },
    {
      "cell_type": "code",
      "metadata": {
        "colab": {
          "base_uri": "https://localhost:8080/",
          "height": 942
        },
        "id": "1tasyyiMKj42",
        "outputId": "b61c366d-37a8-49e9-b453-7f9a25cef52d"
      },
      "source": [
        "data['search_timestamp']= pd.to_datetime(data['search_timestamp'],dayfirst=True,errors ='coerce')\n",
        "data"
      ],
      "execution_count": 7,
      "outputs": [
        {
          "output_type": "execute_result",
          "data": {
            "text/html": [
              "<div>\n",
              "<style scoped>\n",
              "    .dataframe tbody tr th:only-of-type {\n",
              "        vertical-align: middle;\n",
              "    }\n",
              "\n",
              "    .dataframe tbody tr th {\n",
              "        vertical-align: top;\n",
              "    }\n",
              "\n",
              "    .dataframe thead th {\n",
              "        text-align: right;\n",
              "    }\n",
              "</style>\n",
              "<table border=\"1\" class=\"dataframe\">\n",
              "  <thead>\n",
              "    <tr style=\"text-align: right;\">\n",
              "      <th></th>\n",
              "      <th>Unnamed: 0</th>\n",
              "      <th>search_id</th>\n",
              "      <th>search_timestamp</th>\n",
              "      <th>user_agent</th>\n",
              "      <th>q</th>\n",
              "      <th>user_id</th>\n",
              "      <th>session_id</th>\n",
              "      <th>number_of_result</th>\n",
              "      <th>lat</th>\n",
              "      <th>long</th>\n",
              "    </tr>\n",
              "  </thead>\n",
              "  <tbody>\n",
              "    <tr>\n",
              "      <th>0</th>\n",
              "      <td>0</td>\n",
              "      <td>683de889-f923-494e-9d46-44a3d67b7259</td>\n",
              "      <td>2018-06-14 12:34:35.449</td>\n",
              "      <td>Wongnai/8.17.3 rv:8.17.3.3921 (iPhone5,4; iOS;...</td>\n",
              "      <td>NaN</td>\n",
              "      <td>NaN</td>\n",
              "      <td>5lqjjikta19d296mo7g2h1k86p</td>\n",
              "      <td>18</td>\n",
              "      <td>12.6347</td>\n",
              "      <td>101.463</td>\n",
              "    </tr>\n",
              "    <tr>\n",
              "      <th>1</th>\n",
              "      <td>1</td>\n",
              "      <td>4a811230-ffa4-4631-a4c8-5d0394137d02</td>\n",
              "      <td>2018-06-14 17:11:19.469</td>\n",
              "      <td>Mozilla/5.0 (iPhone; CPU iPhone OS 11_4 like M...</td>\n",
              "      <td>NaN</td>\n",
              "      <td>NaN</td>\n",
              "      <td>1r3iotmp0o9slom91stdt9vivc</td>\n",
              "      <td>10</td>\n",
              "      <td>14.8009</td>\n",
              "      <td>102.534</td>\n",
              "    </tr>\n",
              "    <tr>\n",
              "      <th>2</th>\n",
              "      <td>2</td>\n",
              "      <td>7ad6ee8e-438e-4bea-9183-74dcef9e358e</td>\n",
              "      <td>2018-06-14 13:22:31.736</td>\n",
              "      <td>Mozilla/5.0 (Linux; Android 7.0; SAMSUNG SM-J7...</td>\n",
              "      <td>NaN</td>\n",
              "      <td>NaN</td>\n",
              "      <td>5ci1eo4v5u9dha4ppgu94ue7p6</td>\n",
              "      <td>8</td>\n",
              "      <td>13.7383</td>\n",
              "      <td>100.371</td>\n",
              "    </tr>\n",
              "    <tr>\n",
              "      <th>3</th>\n",
              "      <td>3</td>\n",
              "      <td>0c17a5f5-fa89-40f4-ae94-a8659268f827</td>\n",
              "      <td>2018-06-02 12:37:27.331</td>\n",
              "      <td>Mozilla/5.0 (Linux; Android 7.1.1; SM-N950F Bu...</td>\n",
              "      <td>NaN</td>\n",
              "      <td>NaN</td>\n",
              "      <td>39n535qgje9kpojp0grhfj8umk</td>\n",
              "      <td>12</td>\n",
              "      <td>12.6669</td>\n",
              "      <td>101.861</td>\n",
              "    </tr>\n",
              "    <tr>\n",
              "      <th>4</th>\n",
              "      <td>4</td>\n",
              "      <td>6870dc3a-5602-44fc-80ed-df0a7783df9d</td>\n",
              "      <td>2018-06-02 11:19:22.404</td>\n",
              "      <td>Mozilla/5.0 (iPhone; CPU iPhone OS 11_3_1 like...</td>\n",
              "      <td>NaN</td>\n",
              "      <td>NaN</td>\n",
              "      <td>5pa03h6lj691to60erver1l8o4</td>\n",
              "      <td>14</td>\n",
              "      <td>12.2372</td>\n",
              "      <td>99.88</td>\n",
              "    </tr>\n",
              "    <tr>\n",
              "      <th>...</th>\n",
              "      <td>...</td>\n",
              "      <td>...</td>\n",
              "      <td>...</td>\n",
              "      <td>...</td>\n",
              "      <td>...</td>\n",
              "      <td>...</td>\n",
              "      <td>...</td>\n",
              "      <td>...</td>\n",
              "      <td>...</td>\n",
              "      <td>...</td>\n",
              "    </tr>\n",
              "    <tr>\n",
              "      <th>10004352</th>\n",
              "      <td>10005225</td>\n",
              "      <td>5d8c10aa-63cf-4bdd-ab01-0af17a98781f</td>\n",
              "      <td>2018-06-24 09:23:57.777</td>\n",
              "      <td>okhttp/3.9.0;WongnaiAndroid 8.16.6;OPPO;CPH1729</td>\n",
              "      <td>NaN</td>\n",
              "      <td>153319.0</td>\n",
              "      <td>1oaki72de48dm87jbgj2a2crgf</td>\n",
              "      <td>22</td>\n",
              "      <td>NaN</td>\n",
              "      <td>NaN</td>\n",
              "    </tr>\n",
              "    <tr>\n",
              "      <th>10004353</th>\n",
              "      <td>10005226</td>\n",
              "      <td>66cc94db-217a-4d8e-aa20-b1d10e17c968</td>\n",
              "      <td>2018-06-24 17:03:39.908</td>\n",
              "      <td>Wongnai/10.0 (iPhone10,6; iOS; 11.4; en_TH;)</td>\n",
              "      <td>NaN</td>\n",
              "      <td>NaN</td>\n",
              "      <td>1pb7i5fe2g9hd92qbkbgh06aek</td>\n",
              "      <td>22</td>\n",
              "      <td>NaN</td>\n",
              "      <td>NaN</td>\n",
              "    </tr>\n",
              "    <tr>\n",
              "      <th>10004354</th>\n",
              "      <td>10005227</td>\n",
              "      <td>4eb3b514-fb71-4dfe-a580-c560e8c9dcc7</td>\n",
              "      <td>2018-06-24 19:17:55.797</td>\n",
              "      <td>Wongnai/10.0 (iPhone10,6; iOS; 11.4; en_TH;)</td>\n",
              "      <td>NaN</td>\n",
              "      <td>NaN</td>\n",
              "      <td>282oq0of578c6p4q760medgd30</td>\n",
              "      <td>22</td>\n",
              "      <td>NaN</td>\n",
              "      <td>NaN</td>\n",
              "    </tr>\n",
              "    <tr>\n",
              "      <th>10004355</th>\n",
              "      <td>10005228</td>\n",
              "      <td>f5554532-2eb1-4ba6-a98e-1e10b2174d2c</td>\n",
              "      <td>2018-06-24 16:53:06.067</td>\n",
              "      <td>Wongnai/10.0 (iPhone10,6; iOS; 11.4; en_TH;)</td>\n",
              "      <td>NaN</td>\n",
              "      <td>21520.0</td>\n",
              "      <td>2cpkib5gr19un9fmner728bair</td>\n",
              "      <td>22</td>\n",
              "      <td>NaN</td>\n",
              "      <td>NaN</td>\n",
              "    </tr>\n",
              "    <tr>\n",
              "      <th>10004356</th>\n",
              "      <td>10005229</td>\n",
              "      <td>48421ba4-8c69-46a5-aa05-425ddc82a09a</td>\n",
              "      <td>2018-06-24 18:06:58.441</td>\n",
              "      <td>Wongnai/10.0 (iPhone10,6; iOS; 11.4; en_TH;)</td>\n",
              "      <td>NaN</td>\n",
              "      <td>23581.0</td>\n",
              "      <td>2hb8cusb4797ioih8nq118l4t0</td>\n",
              "      <td>22</td>\n",
              "      <td>NaN</td>\n",
              "      <td>NaN</td>\n",
              "    </tr>\n",
              "  </tbody>\n",
              "</table>\n",
              "<p>10004357 rows × 10 columns</p>\n",
              "</div>"
            ],
            "text/plain": [
              "          Unnamed: 0                             search_id  ...      lat     long\n",
              "0                  0  683de889-f923-494e-9d46-44a3d67b7259  ...  12.6347  101.463\n",
              "1                  1  4a811230-ffa4-4631-a4c8-5d0394137d02  ...  14.8009  102.534\n",
              "2                  2  7ad6ee8e-438e-4bea-9183-74dcef9e358e  ...  13.7383  100.371\n",
              "3                  3  0c17a5f5-fa89-40f4-ae94-a8659268f827  ...  12.6669  101.861\n",
              "4                  4  6870dc3a-5602-44fc-80ed-df0a7783df9d  ...  12.2372    99.88\n",
              "...              ...                                   ...  ...      ...      ...\n",
              "10004352    10005225  5d8c10aa-63cf-4bdd-ab01-0af17a98781f  ...      NaN      NaN\n",
              "10004353    10005226  66cc94db-217a-4d8e-aa20-b1d10e17c968  ...      NaN      NaN\n",
              "10004354    10005227  4eb3b514-fb71-4dfe-a580-c560e8c9dcc7  ...      NaN      NaN\n",
              "10004355    10005228  f5554532-2eb1-4ba6-a98e-1e10b2174d2c  ...      NaN      NaN\n",
              "10004356    10005229  48421ba4-8c69-46a5-aa05-425ddc82a09a  ...      NaN      NaN\n",
              "\n",
              "[10004357 rows x 10 columns]"
            ]
          },
          "metadata": {
            "tags": []
          },
          "execution_count": 7
        }
      ]
    },
    {
      "cell_type": "markdown",
      "metadata": {
        "id": "cqtv_X2aKEJM"
      },
      "source": [
        "## Bar char (กราฟแท่ง)"
      ]
    },
    {
      "cell_type": "markdown",
      "metadata": {
        "id": "si3evUSCK8YL"
      },
      "source": [
        "### สร้างกราฟแท่งเปรียบเทียบปริมาณ คนเข้าใช้ wed Wongnai.com เพื่อค้นหาร้านอาหารในแต่ละวัน"
      ]
    },
    {
      "cell_type": "code",
      "metadata": {
        "id": "pSfkeG9NMG6f"
      },
      "source": [
        "from matplotlib import pyplot as plt"
      ],
      "execution_count": 9,
      "outputs": []
    },
    {
      "cell_type": "code",
      "metadata": {
        "colab": {
          "base_uri": "https://localhost:8080/",
          "height": 130
        },
        "id": "5O1tIzbjKCu6",
        "outputId": "561c98e9-a900-4363-849f-644f320399d0"
      },
      "source": [
        "plt.bar([1,2,3,4,5,6,7],data[data['search_timestamp']].dt.dayofweek = 0)"
      ],
      "execution_count": 13,
      "outputs": [
        {
          "output_type": "error",
          "ename": "SyntaxError",
          "evalue": "ignored",
          "traceback": [
            "\u001b[0;36m  File \u001b[0;32m\"<ipython-input-13-7461862d5949>\"\u001b[0;36m, line \u001b[0;32m1\u001b[0m\n\u001b[0;31m    plt.bar([1,2,3,4,5,6,7],data[data['search_timestamp']].dt.dayofweek = 0)\u001b[0m\n\u001b[0m                           ^\u001b[0m\n\u001b[0;31mSyntaxError\u001b[0m\u001b[0;31m:\u001b[0m keyword can't be an expression\n"
          ]
        }
      ]
    },
    {
      "cell_type": "code",
      "metadata": {
        "colab": {
          "base_uri": "https://localhost:8080/",
          "height": 130
        },
        "id": "gsJeNaJxNz0h",
        "outputId": "7cce0e35-2ece-4422-9488-76dd890d7ef3"
      },
      "source": [
        "data['WEEKDAY'] = pd.to_datetime(data['search_timestamp']).dt.dayofweek\n",
        "firstday = data.iloc[0]['WEEKDAY']  # monday = 0\n",
        "                if  firstday == 0:\n",
        "                    color_x = [COLOR_weekday, COLOR_weekday, COLOR_weekday, COLOR_weekday, COLOR_weekday, COLOR_weekend, COLOR_weekend]\n",
        "                elif firstday == 1:\n",
        "                    color_x = [COLOR_weekday, COLOR_weekday, COLOR_weekday, COLOR_weekday, COLOR_weekend, COLOR_weekend, COLOR_weekday]\n",
        "               (etc)\n"
      ],
      "execution_count": 16,
      "outputs": [
        {
          "output_type": "error",
          "ename": "IndentationError",
          "evalue": "ignored",
          "traceback": [
            "\u001b[0;36m  File \u001b[0;32m\"<ipython-input-16-2e75622c5e9b>\"\u001b[0;36m, line \u001b[0;32m3\u001b[0m\n\u001b[0;31m    if  firstday == 0;\u001b[0m\n\u001b[0m    ^\u001b[0m\n\u001b[0;31mIndentationError\u001b[0m\u001b[0;31m:\u001b[0m unexpected indent\n"
          ]
        }
      ]
    }
  ]
}